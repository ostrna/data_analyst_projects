{
 "cells": [
  {
   "cell_type": "markdown",
   "id": "60b5b37f",
   "metadata": {},
   "source": [
    "# Исследование надежности заемщиков."
   ]
  },
  {
   "cell_type": "markdown",
   "id": "95400636",
   "metadata": {},
   "source": [
    "\n",
    "\n",
    "**Цель исследования** - проверить гипотезы:\n",
    "1. Есть ли зависимость между количеством детей и возвратом кредита в срок;\n",
    "2. Есть ли зависимость между семейным положением и возвратом кредита в срок;\n",
    "3. Есть ли зависимость между уровнем дохода и возвратом кредита в срок;\n",
    "4. Как разные цели кредита влияют на его возврат в срок.\n",
    "\n",
    "**Ход исследования**\n",
    "\n",
    "Исследование пройдет в три этапа:\n",
    "1. Обзор данных;\n",
    "2. Предобработка данных;\n",
    "3. Проверка гипотез;\n",
    "4. Общий вывод.\n",
    "\n"
   ]
  },
  {
   "cell_type": "markdown",
   "id": "259e16c2",
   "metadata": {},
   "source": [
    "## 1. Обзор данных"
   ]
  },
  {
   "cell_type": "markdown",
   "id": "ad2f9993",
   "metadata": {},
   "source": [
    "Импортируем бибилотеку `pandas`."
   ]
  },
  {
   "cell_type": "code",
   "execution_count": 1,
   "id": "73bf7098",
   "metadata": {},
   "outputs": [],
   "source": [
    "import pandas as pd"
   ]
  },
  {
   "cell_type": "markdown",
   "id": "a8bea17f",
   "metadata": {},
   "source": [
    "Читаем файл `data.csv`, он сохранен в той же папке, что и проект, и сохраняем его в переменной `df`."
   ]
  },
  {
   "cell_type": "code",
   "execution_count": 2,
   "id": "27c5d52d",
   "metadata": {},
   "outputs": [],
   "source": [
    "df = pd.read_csv('data.csv')"
   ]
  },
  {
   "cell_type": "markdown",
   "id": "a79bb7ac",
   "metadata": {},
   "source": [
    "Выводим на экран первые 10 строк таблицы:"
   ]
  },
  {
   "cell_type": "code",
   "execution_count": 3,
   "id": "c9acb11a",
   "metadata": {},
   "outputs": [
    {
     "data": {
      "text/html": [
       "<div>\n",
       "<style scoped>\n",
       "    .dataframe tbody tr th:only-of-type {\n",
       "        vertical-align: middle;\n",
       "    }\n",
       "\n",
       "    .dataframe tbody tr th {\n",
       "        vertical-align: top;\n",
       "    }\n",
       "\n",
       "    .dataframe thead th {\n",
       "        text-align: right;\n",
       "    }\n",
       "</style>\n",
       "<table border=\"1\" class=\"dataframe\">\n",
       "  <thead>\n",
       "    <tr style=\"text-align: right;\">\n",
       "      <th></th>\n",
       "      <th>children</th>\n",
       "      <th>days_employed</th>\n",
       "      <th>dob_years</th>\n",
       "      <th>education</th>\n",
       "      <th>education_id</th>\n",
       "      <th>family_status</th>\n",
       "      <th>family_status_id</th>\n",
       "      <th>gender</th>\n",
       "      <th>income_type</th>\n",
       "      <th>debt</th>\n",
       "      <th>total_income</th>\n",
       "      <th>purpose</th>\n",
       "    </tr>\n",
       "  </thead>\n",
       "  <tbody>\n",
       "    <tr>\n",
       "      <th>0</th>\n",
       "      <td>1</td>\n",
       "      <td>-8437.673028</td>\n",
       "      <td>42</td>\n",
       "      <td>высшее</td>\n",
       "      <td>0</td>\n",
       "      <td>женат / замужем</td>\n",
       "      <td>0</td>\n",
       "      <td>F</td>\n",
       "      <td>сотрудник</td>\n",
       "      <td>0</td>\n",
       "      <td>253875.639453</td>\n",
       "      <td>покупка жилья</td>\n",
       "    </tr>\n",
       "    <tr>\n",
       "      <th>1</th>\n",
       "      <td>1</td>\n",
       "      <td>-4024.803754</td>\n",
       "      <td>36</td>\n",
       "      <td>среднее</td>\n",
       "      <td>1</td>\n",
       "      <td>женат / замужем</td>\n",
       "      <td>0</td>\n",
       "      <td>F</td>\n",
       "      <td>сотрудник</td>\n",
       "      <td>0</td>\n",
       "      <td>112080.014102</td>\n",
       "      <td>приобретение автомобиля</td>\n",
       "    </tr>\n",
       "    <tr>\n",
       "      <th>2</th>\n",
       "      <td>0</td>\n",
       "      <td>-5623.422610</td>\n",
       "      <td>33</td>\n",
       "      <td>Среднее</td>\n",
       "      <td>1</td>\n",
       "      <td>женат / замужем</td>\n",
       "      <td>0</td>\n",
       "      <td>M</td>\n",
       "      <td>сотрудник</td>\n",
       "      <td>0</td>\n",
       "      <td>145885.952297</td>\n",
       "      <td>покупка жилья</td>\n",
       "    </tr>\n",
       "    <tr>\n",
       "      <th>3</th>\n",
       "      <td>3</td>\n",
       "      <td>-4124.747207</td>\n",
       "      <td>32</td>\n",
       "      <td>среднее</td>\n",
       "      <td>1</td>\n",
       "      <td>женат / замужем</td>\n",
       "      <td>0</td>\n",
       "      <td>M</td>\n",
       "      <td>сотрудник</td>\n",
       "      <td>0</td>\n",
       "      <td>267628.550329</td>\n",
       "      <td>дополнительное образование</td>\n",
       "    </tr>\n",
       "    <tr>\n",
       "      <th>4</th>\n",
       "      <td>0</td>\n",
       "      <td>340266.072047</td>\n",
       "      <td>53</td>\n",
       "      <td>среднее</td>\n",
       "      <td>1</td>\n",
       "      <td>гражданский брак</td>\n",
       "      <td>1</td>\n",
       "      <td>F</td>\n",
       "      <td>пенсионер</td>\n",
       "      <td>0</td>\n",
       "      <td>158616.077870</td>\n",
       "      <td>сыграть свадьбу</td>\n",
       "    </tr>\n",
       "    <tr>\n",
       "      <th>5</th>\n",
       "      <td>0</td>\n",
       "      <td>-926.185831</td>\n",
       "      <td>27</td>\n",
       "      <td>высшее</td>\n",
       "      <td>0</td>\n",
       "      <td>гражданский брак</td>\n",
       "      <td>1</td>\n",
       "      <td>M</td>\n",
       "      <td>компаньон</td>\n",
       "      <td>0</td>\n",
       "      <td>255763.565419</td>\n",
       "      <td>покупка жилья</td>\n",
       "    </tr>\n",
       "    <tr>\n",
       "      <th>6</th>\n",
       "      <td>0</td>\n",
       "      <td>-2879.202052</td>\n",
       "      <td>43</td>\n",
       "      <td>высшее</td>\n",
       "      <td>0</td>\n",
       "      <td>женат / замужем</td>\n",
       "      <td>0</td>\n",
       "      <td>F</td>\n",
       "      <td>компаньон</td>\n",
       "      <td>0</td>\n",
       "      <td>240525.971920</td>\n",
       "      <td>операции с жильем</td>\n",
       "    </tr>\n",
       "    <tr>\n",
       "      <th>7</th>\n",
       "      <td>0</td>\n",
       "      <td>-152.779569</td>\n",
       "      <td>50</td>\n",
       "      <td>СРЕДНЕЕ</td>\n",
       "      <td>1</td>\n",
       "      <td>женат / замужем</td>\n",
       "      <td>0</td>\n",
       "      <td>M</td>\n",
       "      <td>сотрудник</td>\n",
       "      <td>0</td>\n",
       "      <td>135823.934197</td>\n",
       "      <td>образование</td>\n",
       "    </tr>\n",
       "    <tr>\n",
       "      <th>8</th>\n",
       "      <td>2</td>\n",
       "      <td>-6929.865299</td>\n",
       "      <td>35</td>\n",
       "      <td>ВЫСШЕЕ</td>\n",
       "      <td>0</td>\n",
       "      <td>гражданский брак</td>\n",
       "      <td>1</td>\n",
       "      <td>F</td>\n",
       "      <td>сотрудник</td>\n",
       "      <td>0</td>\n",
       "      <td>95856.832424</td>\n",
       "      <td>на проведение свадьбы</td>\n",
       "    </tr>\n",
       "    <tr>\n",
       "      <th>9</th>\n",
       "      <td>0</td>\n",
       "      <td>-2188.756445</td>\n",
       "      <td>41</td>\n",
       "      <td>среднее</td>\n",
       "      <td>1</td>\n",
       "      <td>женат / замужем</td>\n",
       "      <td>0</td>\n",
       "      <td>M</td>\n",
       "      <td>сотрудник</td>\n",
       "      <td>0</td>\n",
       "      <td>144425.938277</td>\n",
       "      <td>покупка жилья для семьи</td>\n",
       "    </tr>\n",
       "  </tbody>\n",
       "</table>\n",
       "</div>"
      ],
      "text/plain": [
       "   children  days_employed  dob_years education  education_id  \\\n",
       "0         1   -8437.673028         42    высшее             0   \n",
       "1         1   -4024.803754         36   среднее             1   \n",
       "2         0   -5623.422610         33   Среднее             1   \n",
       "3         3   -4124.747207         32   среднее             1   \n",
       "4         0  340266.072047         53   среднее             1   \n",
       "5         0    -926.185831         27    высшее             0   \n",
       "6         0   -2879.202052         43    высшее             0   \n",
       "7         0    -152.779569         50   СРЕДНЕЕ             1   \n",
       "8         2   -6929.865299         35    ВЫСШЕЕ             0   \n",
       "9         0   -2188.756445         41   среднее             1   \n",
       "\n",
       "      family_status  family_status_id gender income_type  debt   total_income  \\\n",
       "0   женат / замужем                 0      F   сотрудник     0  253875.639453   \n",
       "1   женат / замужем                 0      F   сотрудник     0  112080.014102   \n",
       "2   женат / замужем                 0      M   сотрудник     0  145885.952297   \n",
       "3   женат / замужем                 0      M   сотрудник     0  267628.550329   \n",
       "4  гражданский брак                 1      F   пенсионер     0  158616.077870   \n",
       "5  гражданский брак                 1      M   компаньон     0  255763.565419   \n",
       "6   женат / замужем                 0      F   компаньон     0  240525.971920   \n",
       "7   женат / замужем                 0      M   сотрудник     0  135823.934197   \n",
       "8  гражданский брак                 1      F   сотрудник     0   95856.832424   \n",
       "9   женат / замужем                 0      M   сотрудник     0  144425.938277   \n",
       "\n",
       "                      purpose  \n",
       "0               покупка жилья  \n",
       "1     приобретение автомобиля  \n",
       "2               покупка жилья  \n",
       "3  дополнительное образование  \n",
       "4             сыграть свадьбу  \n",
       "5               покупка жилья  \n",
       "6           операции с жильем  \n",
       "7                 образование  \n",
       "8       на проведение свадьбы  \n",
       "9     покупка жилья для семьи  "
      ]
     },
     "execution_count": 3,
     "metadata": {},
     "output_type": "execute_result"
    }
   ],
   "source": [
    "df.head(10)"
   ]
  },
  {
   "cell_type": "markdown",
   "id": "c9a8718b",
   "metadata": {},
   "source": [
    "Получаем общую информацию о таблице:"
   ]
  },
  {
   "cell_type": "code",
   "execution_count": 4,
   "id": "c6b43eab",
   "metadata": {},
   "outputs": [
    {
     "name": "stdout",
     "output_type": "stream",
     "text": [
      "<class 'pandas.core.frame.DataFrame'>\n",
      "RangeIndex: 21525 entries, 0 to 21524\n",
      "Data columns (total 12 columns):\n",
      " #   Column            Non-Null Count  Dtype  \n",
      "---  ------            --------------  -----  \n",
      " 0   children          21525 non-null  int64  \n",
      " 1   days_employed     19351 non-null  float64\n",
      " 2   dob_years         21525 non-null  int64  \n",
      " 3   education         21525 non-null  object \n",
      " 4   education_id      21525 non-null  int64  \n",
      " 5   family_status     21525 non-null  object \n",
      " 6   family_status_id  21525 non-null  int64  \n",
      " 7   gender            21525 non-null  object \n",
      " 8   income_type       21525 non-null  object \n",
      " 9   debt              21525 non-null  int64  \n",
      " 10  total_income      19351 non-null  float64\n",
      " 11  purpose           21525 non-null  object \n",
      "dtypes: float64(2), int64(5), object(5)\n",
      "memory usage: 2.0+ MB\n"
     ]
    }
   ],
   "source": [
    "df.info()"
   ]
  },
  {
   "cell_type": "markdown",
   "id": "bc5a0d75",
   "metadata": {},
   "source": [
    "Итак, в таблице 12 столбцов.\n",
    "Согласно документации к данным:\n",
    "* `children` - количество детей в семье;\n",
    "* `days_employed` - общий трудовой стаж в днях;\n",
    "* `dob_years` - возраст клиента в годах;\n",
    "* `education` - уровень образования клиента;\n",
    "* `education_id` - идентификатор уровня образования;\n",
    "* `family_status` - семейное положение;\n",
    "* `family_status_id` - идентификатор семейного положения;\n",
    "* `gender` - пол клиента;\n",
    "* `income_type` - тип занятости;\n",
    "* `debt` - имел ли задолженность по возврату кредитов;\n",
    "* `total_income` - ежемесячный доход;\n",
    "* `purpose` - цель получения кредита.\n",
    "\n",
    "В данных замечено три ошибки: \n",
    "1. Количество значений в столбцах различается. Значит, в данных есть пропущенные значения.\n",
    "2. Встречаются аномалии (артефакты) - значения, которые не отражают действительность и появились по какой-то ошибке. Например, отрицательное количество дней трудового стажа в столбце days_employed. \n",
    "3. Присутствуют строки-дубликаты и неявные дубликаты. Например, в столбце education есть одни и те же значения, но записанные по-разному: с использованием заглавных и строчных букв."
   ]
  },
  {
   "cell_type": "markdown",
   "id": "82611a10",
   "metadata": {},
   "source": [
    "**Выводы**\n",
    "\n",
    "В каждой строке таблицы — данные о клиенте. \n",
    "\n",
    "Предварительно можно утверждать, что, данных достаточно для проверки гипотез.\n",
    "\n",
    "Чтобы двигаться дальше, нужно устранить проблемы в данных."
   ]
  },
  {
   "cell_type": "markdown",
   "id": "fe57b707",
   "metadata": {},
   "source": [
    "## 2. Предобработка данных"
   ]
  },
  {
   "cell_type": "markdown",
   "id": "567bb21c",
   "metadata": {},
   "source": [
    "### 2.1 Пропуски"
   ]
  },
  {
   "cell_type": "markdown",
   "id": "154b6359",
   "metadata": {},
   "source": [
    "Сначала посчитаем, сколько в таблице пропущенных значений."
   ]
  },
  {
   "cell_type": "code",
   "execution_count": 5,
   "id": "6d33e0d4",
   "metadata": {
    "scrolled": true
   },
   "outputs": [
    {
     "data": {
      "text/plain": [
       "children               0\n",
       "days_employed       2174\n",
       "dob_years              0\n",
       "education              0\n",
       "education_id           0\n",
       "family_status          0\n",
       "family_status_id       0\n",
       "gender                 0\n",
       "income_type            0\n",
       "debt                   0\n",
       "total_income        2174\n",
       "purpose                0\n",
       "dtype: int64"
      ]
     },
     "execution_count": 5,
     "metadata": {},
     "output_type": "execute_result"
    }
   ],
   "source": [
    "df.isna().sum()"
   ]
  },
  {
   "cell_type": "markdown",
   "id": "74953a77",
   "metadata": {},
   "source": [
    "В столбцах `days_employed` и `total_income` замечены пропущенные значения. При том, они пропущены в одних и тех же строках. \n",
    "Проверим, какую долю составляют пропущенные значения в cтолбцах с пропусками: "
   ]
  },
  {
   "cell_type": "code",
   "execution_count": 6,
   "id": "27e9af9f",
   "metadata": {},
   "outputs": [
    {
     "data": {
      "text/plain": [
       "0.10099883855981417"
      ]
     },
     "execution_count": 6,
     "metadata": {},
     "output_type": "execute_result"
    }
   ],
   "source": [
    "df['days_employed'].isna().sum() / df['children'].count()"
   ]
  },
  {
   "cell_type": "markdown",
   "id": "f1291b64",
   "metadata": {},
   "source": [
    "Количество пропущенных значений составляет 10%. "
   ]
  },
  {
   "cell_type": "markdown",
   "id": "ceb0bf97",
   "metadata": {},
   "source": [
    "### 2.2 Проверка данных на аномалии и исправления"
   ]
  },
  {
   "cell_type": "markdown",
   "id": "58848c23",
   "metadata": {},
   "source": [
    "В данных встречаются артефакты (отрицательное количество дней трудового стажа и детей в столбцах `days_employed` `children`). Изменим их, перезаписав в строки модули значений:"
   ]
  },
  {
   "cell_type": "code",
   "execution_count": 7,
   "id": "6ba8b7f0",
   "metadata": {},
   "outputs": [],
   "source": [
    "df['days_employed'] = df['days_employed'].abs()\n",
    "df['children'] = df['children'].abs()"
   ]
  },
  {
   "cell_type": "markdown",
   "id": "a74d6489",
   "metadata": {},
   "source": [
    "Заменим пропуски в столбцах `days_employed` и `total_income`. Так как данные являются количественными - заполняем характерными значениями (значения, характеризующие состояние выборки). В данном случае, так как разброс чисел велик, воспользуемся медианными значениями. "
   ]
  },
  {
   "cell_type": "code",
   "execution_count": 8,
   "id": "ca529cca",
   "metadata": {},
   "outputs": [],
   "source": [
    "days_employed_median = df['days_employed'].median() #рассчитываем медиану\n",
    "total_income_median = df['total_income'].median()\n",
    "\n",
    "df['days_employed'] = df['days_employed'].fillna(days_employed_median) #заполняем пропуски медианой\n",
    "df['total_income'] = df['total_income'].fillna(total_income_median)"
   ]
  },
  {
   "cell_type": "markdown",
   "id": "daaea67f",
   "metadata": {},
   "source": [
    "Теперь посмотрим на столбец `children`, так как в будущем он нам понадобится для анализа:"
   ]
  },
  {
   "cell_type": "code",
   "execution_count": 9,
   "id": "d34ad0b6",
   "metadata": {},
   "outputs": [
    {
     "data": {
      "text/plain": [
       "0     14149\n",
       "1      4865\n",
       "2      2055\n",
       "3       330\n",
       "20       76\n",
       "4        41\n",
       "5         9\n",
       "Name: children, dtype: int64"
      ]
     },
     "execution_count": 9,
     "metadata": {},
     "output_type": "execute_result"
    }
   ],
   "source": [
    "df['children'].value_counts() #выводим все значения столбца"
   ]
  },
  {
   "cell_type": "markdown",
   "id": "8aa11ddf",
   "metadata": {},
   "source": [
    "В данных замечено рекордное количество детей - 20. Скорее всего это ошибка, которая возникла при невнимательном заполнении анкеты. Заменим строчки с такм количеством детей на количество \"2\""
   ]
  },
  {
   "cell_type": "code",
   "execution_count": 10,
   "id": "4b65a2ce",
   "metadata": {},
   "outputs": [
    {
     "data": {
      "text/plain": [
       "0    14149\n",
       "1     4865\n",
       "2     2131\n",
       "3      330\n",
       "4       41\n",
       "5        9\n",
       "Name: children, dtype: int64"
      ]
     },
     "execution_count": 10,
     "metadata": {},
     "output_type": "execute_result"
    }
   ],
   "source": [
    "df['children'] = df['children'].replace(20,2) #выполняем замену\n",
    "df['children'].value_counts() #проверяем результат\n"
   ]
  },
  {
   "cell_type": "markdown",
   "id": "8d79b5fb",
   "metadata": {},
   "source": [
    "### 2.3. Изменение типов данных"
   ]
  },
  {
   "cell_type": "markdown",
   "id": "298df658",
   "metadata": {},
   "source": [
    "Для удобного анализа заменяем вещественный тип данных в столбце `total_income` на целочисленный:"
   ]
  },
  {
   "cell_type": "code",
   "execution_count": 11,
   "id": "ef61b67a",
   "metadata": {},
   "outputs": [],
   "source": [
    "df['total_income'] = df['total_income'].astype('int')"
   ]
  },
  {
   "cell_type": "markdown",
   "id": "97d18ff4",
   "metadata": {},
   "source": [
    "### 2.4. Удаление дубликатов"
   ]
  },
  {
   "cell_type": "markdown",
   "id": "a6e4f193",
   "metadata": {},
   "source": [
    "Для начала посчитаем количество явных дубликатов:"
   ]
  },
  {
   "cell_type": "code",
   "execution_count": 12,
   "id": "2780066f",
   "metadata": {},
   "outputs": [
    {
     "data": {
      "text/plain": [
       "54"
      ]
     },
     "execution_count": 12,
     "metadata": {},
     "output_type": "execute_result"
    }
   ],
   "source": [
    "df.duplicated().sum() #считаем количество дубликатов"
   ]
  },
  {
   "cell_type": "markdown",
   "id": "5062e603",
   "metadata": {},
   "source": [
    "Теперь займемся неявными дубликаты, такими как в столбце `education`:"
   ]
  },
  {
   "cell_type": "code",
   "execution_count": 13,
   "id": "61ad1012",
   "metadata": {},
   "outputs": [
    {
     "data": {
      "text/plain": [
       "array(['высшее', 'среднее', 'Среднее', 'СРЕДНЕЕ', 'ВЫСШЕЕ',\n",
       "       'неоконченное высшее', 'начальное', 'Высшее',\n",
       "       'НЕОКОНЧЕННОЕ ВЫСШЕЕ', 'Неоконченное высшее', 'НАЧАЛЬНОЕ',\n",
       "       'Начальное', 'Ученая степень', 'УЧЕНАЯ СТЕПЕНЬ', 'ученая степень'],\n",
       "      dtype=object)"
      ]
     },
     "execution_count": 13,
     "metadata": {},
     "output_type": "execute_result"
    }
   ],
   "source": [
    "df['education'].unique() #выводим уникальные значение столбца"
   ]
  },
  {
   "cell_type": "markdown",
   "id": "971183f2",
   "metadata": {},
   "source": [
    "Приведем данные к одному регистру:"
   ]
  },
  {
   "cell_type": "code",
   "execution_count": 14,
   "id": "0feef70b",
   "metadata": {},
   "outputs": [
    {
     "data": {
      "text/plain": [
       "array(['высшее', 'среднее', 'неоконченное высшее', 'начальное',\n",
       "       'ученая степень'], dtype=object)"
      ]
     },
     "execution_count": 14,
     "metadata": {},
     "output_type": "execute_result"
    }
   ],
   "source": [
    "df['education'] = df.education.str.lower() \n",
    "df['education'].unique() #проверяем результат"
   ]
  },
  {
   "cell_type": "markdown",
   "id": "2f023924",
   "metadata": {},
   "source": [
    "Удалим все дубликаты и проверим результат:"
   ]
  },
  {
   "cell_type": "code",
   "execution_count": 15,
   "id": "ed087d04",
   "metadata": {},
   "outputs": [
    {
     "data": {
      "text/plain": [
       "0"
      ]
     },
     "execution_count": 15,
     "metadata": {},
     "output_type": "execute_result"
    }
   ],
   "source": [
    "\n",
    "df = df.drop_duplicates().reset_index(drop=True) #удаляем дубликаты\n",
    "df.duplicated().sum()"
   ]
  },
  {
   "cell_type": "markdown",
   "id": "d79c6500",
   "metadata": {},
   "source": [
    "### 2.5. Формирование дополнительных датафреймов словарей, декомпозиция исходного датафрейма"
   ]
  },
  {
   "cell_type": "markdown",
   "id": "27d043af",
   "metadata": {},
   "source": [
    "Создаем два новых датафрейма со столбцами: `education_id` и `education` - в певром, `family_status_id` и `family_status` - во втором. Новые датафреймы — это те самые «словари» , к которым мы сможем обращаться по идентификатору."
   ]
  },
  {
   "cell_type": "code",
   "execution_count": 16,
   "id": "148dd35a",
   "metadata": {},
   "outputs": [],
   "source": [
    "education_df = pd.DataFrame(data=df, columns=['education_id', 'education'])\n",
    "family_df = pd.DataFrame(data=df, columns=['family_status_id', 'family_status'])\n"
   ]
  },
  {
   "cell_type": "markdown",
   "id": "adcea6d6",
   "metadata": {},
   "source": [
    "Убираем из исходной таблицы `df` столбцы `education` и `family_status`:"
   ]
  },
  {
   "cell_type": "code",
   "execution_count": 17,
   "id": "f299752d",
   "metadata": {},
   "outputs": [
    {
     "data": {
      "text/html": [
       "<div>\n",
       "<style scoped>\n",
       "    .dataframe tbody tr th:only-of-type {\n",
       "        vertical-align: middle;\n",
       "    }\n",
       "\n",
       "    .dataframe tbody tr th {\n",
       "        vertical-align: top;\n",
       "    }\n",
       "\n",
       "    .dataframe thead th {\n",
       "        text-align: right;\n",
       "    }\n",
       "</style>\n",
       "<table border=\"1\" class=\"dataframe\">\n",
       "  <thead>\n",
       "    <tr style=\"text-align: right;\">\n",
       "      <th></th>\n",
       "      <th>children</th>\n",
       "      <th>days_employed</th>\n",
       "      <th>dob_years</th>\n",
       "      <th>education_id</th>\n",
       "      <th>family_status_id</th>\n",
       "      <th>gender</th>\n",
       "      <th>income_type</th>\n",
       "      <th>debt</th>\n",
       "      <th>total_income</th>\n",
       "      <th>purpose</th>\n",
       "    </tr>\n",
       "  </thead>\n",
       "  <tbody>\n",
       "    <tr>\n",
       "      <th>0</th>\n",
       "      <td>1</td>\n",
       "      <td>8437.673028</td>\n",
       "      <td>42</td>\n",
       "      <td>0</td>\n",
       "      <td>0</td>\n",
       "      <td>F</td>\n",
       "      <td>сотрудник</td>\n",
       "      <td>0</td>\n",
       "      <td>253875</td>\n",
       "      <td>покупка жилья</td>\n",
       "    </tr>\n",
       "    <tr>\n",
       "      <th>1</th>\n",
       "      <td>1</td>\n",
       "      <td>4024.803754</td>\n",
       "      <td>36</td>\n",
       "      <td>1</td>\n",
       "      <td>0</td>\n",
       "      <td>F</td>\n",
       "      <td>сотрудник</td>\n",
       "      <td>0</td>\n",
       "      <td>112080</td>\n",
       "      <td>приобретение автомобиля</td>\n",
       "    </tr>\n",
       "    <tr>\n",
       "      <th>2</th>\n",
       "      <td>0</td>\n",
       "      <td>5623.422610</td>\n",
       "      <td>33</td>\n",
       "      <td>1</td>\n",
       "      <td>0</td>\n",
       "      <td>M</td>\n",
       "      <td>сотрудник</td>\n",
       "      <td>0</td>\n",
       "      <td>145885</td>\n",
       "      <td>покупка жилья</td>\n",
       "    </tr>\n",
       "    <tr>\n",
       "      <th>3</th>\n",
       "      <td>3</td>\n",
       "      <td>4124.747207</td>\n",
       "      <td>32</td>\n",
       "      <td>1</td>\n",
       "      <td>0</td>\n",
       "      <td>M</td>\n",
       "      <td>сотрудник</td>\n",
       "      <td>0</td>\n",
       "      <td>267628</td>\n",
       "      <td>дополнительное образование</td>\n",
       "    </tr>\n",
       "    <tr>\n",
       "      <th>4</th>\n",
       "      <td>0</td>\n",
       "      <td>340266.072047</td>\n",
       "      <td>53</td>\n",
       "      <td>1</td>\n",
       "      <td>1</td>\n",
       "      <td>F</td>\n",
       "      <td>пенсионер</td>\n",
       "      <td>0</td>\n",
       "      <td>158616</td>\n",
       "      <td>сыграть свадьбу</td>\n",
       "    </tr>\n",
       "    <tr>\n",
       "      <th>5</th>\n",
       "      <td>0</td>\n",
       "      <td>926.185831</td>\n",
       "      <td>27</td>\n",
       "      <td>0</td>\n",
       "      <td>1</td>\n",
       "      <td>M</td>\n",
       "      <td>компаньон</td>\n",
       "      <td>0</td>\n",
       "      <td>255763</td>\n",
       "      <td>покупка жилья</td>\n",
       "    </tr>\n",
       "    <tr>\n",
       "      <th>6</th>\n",
       "      <td>0</td>\n",
       "      <td>2879.202052</td>\n",
       "      <td>43</td>\n",
       "      <td>0</td>\n",
       "      <td>0</td>\n",
       "      <td>F</td>\n",
       "      <td>компаньон</td>\n",
       "      <td>0</td>\n",
       "      <td>240525</td>\n",
       "      <td>операции с жильем</td>\n",
       "    </tr>\n",
       "    <tr>\n",
       "      <th>7</th>\n",
       "      <td>0</td>\n",
       "      <td>152.779569</td>\n",
       "      <td>50</td>\n",
       "      <td>1</td>\n",
       "      <td>0</td>\n",
       "      <td>M</td>\n",
       "      <td>сотрудник</td>\n",
       "      <td>0</td>\n",
       "      <td>135823</td>\n",
       "      <td>образование</td>\n",
       "    </tr>\n",
       "    <tr>\n",
       "      <th>8</th>\n",
       "      <td>2</td>\n",
       "      <td>6929.865299</td>\n",
       "      <td>35</td>\n",
       "      <td>0</td>\n",
       "      <td>1</td>\n",
       "      <td>F</td>\n",
       "      <td>сотрудник</td>\n",
       "      <td>0</td>\n",
       "      <td>95856</td>\n",
       "      <td>на проведение свадьбы</td>\n",
       "    </tr>\n",
       "    <tr>\n",
       "      <th>9</th>\n",
       "      <td>0</td>\n",
       "      <td>2188.756445</td>\n",
       "      <td>41</td>\n",
       "      <td>1</td>\n",
       "      <td>0</td>\n",
       "      <td>M</td>\n",
       "      <td>сотрудник</td>\n",
       "      <td>0</td>\n",
       "      <td>144425</td>\n",
       "      <td>покупка жилья для семьи</td>\n",
       "    </tr>\n",
       "  </tbody>\n",
       "</table>\n",
       "</div>"
      ],
      "text/plain": [
       "   children  days_employed  dob_years  education_id  family_status_id gender  \\\n",
       "0         1    8437.673028         42             0                 0      F   \n",
       "1         1    4024.803754         36             1                 0      F   \n",
       "2         0    5623.422610         33             1                 0      M   \n",
       "3         3    4124.747207         32             1                 0      M   \n",
       "4         0  340266.072047         53             1                 1      F   \n",
       "5         0     926.185831         27             0                 1      M   \n",
       "6         0    2879.202052         43             0                 0      F   \n",
       "7         0     152.779569         50             1                 0      M   \n",
       "8         2    6929.865299         35             0                 1      F   \n",
       "9         0    2188.756445         41             1                 0      M   \n",
       "\n",
       "  income_type  debt  total_income                     purpose  \n",
       "0   сотрудник     0        253875               покупка жилья  \n",
       "1   сотрудник     0        112080     приобретение автомобиля  \n",
       "2   сотрудник     0        145885               покупка жилья  \n",
       "3   сотрудник     0        267628  дополнительное образование  \n",
       "4   пенсионер     0        158616             сыграть свадьбу  \n",
       "5   компаньон     0        255763               покупка жилья  \n",
       "6   компаньон     0        240525           операции с жильем  \n",
       "7   сотрудник     0        135823                 образование  \n",
       "8   сотрудник     0         95856       на проведение свадьбы  \n",
       "9   сотрудник     0        144425     покупка жилья для семьи  "
      ]
     },
     "execution_count": 17,
     "metadata": {},
     "output_type": "execute_result"
    }
   ],
   "source": [
    "df = df.loc[:, ['children', 'days_employed', 'dob_years', 'education_id', 'family_status_id', 'gender', 'income_type', 'debt', 'total_income','purpose']]\n",
    "df.head(10)\n"
   ]
  },
  {
   "cell_type": "markdown",
   "id": "b7b6baf1",
   "metadata": {},
   "source": [
    "### 2.6 Категоризация дохода"
   ]
  },
  {
   "cell_type": "markdown",
   "id": "c5bb2ced",
   "metadata": {},
   "source": [
    "Для категоризации дохода создаем новый столбец `total_income_category`, со следующими категориями:\n",
    "* `0–30000 — 'E'`;\n",
    "* `30001–50000 — 'D'`;\n",
    "* `50001–200000 — 'C'`;\n",
    "* `200001–1000000 — 'B'`;\n",
    "* `1000001 и выше — 'A'`."
   ]
  },
  {
   "cell_type": "code",
   "execution_count": 18,
   "id": "54bcfb1f",
   "metadata": {},
   "outputs": [],
   "source": [
    "def total_income_category(total_income): \n",
    "    '''Функция создает буквенные обозначения категорий дохода'''\n",
    "    if total_income <= 30000:\n",
    "        return 'E'\n",
    "    if (total_income > 30000) & (total_income <= 50000):\n",
    "        return 'D'\n",
    "    if (total_income > 50000) & (total_income <= 200000):\n",
    "        return 'C'\n",
    "    if (total_income > 200000) & (total_income <= 1000000):\n",
    "        return 'B'\n",
    "    return 'A'\n",
    "    \n"
   ]
  },
  {
   "cell_type": "code",
   "execution_count": 19,
   "id": "69bac324",
   "metadata": {},
   "outputs": [
    {
     "data": {
      "text/plain": [
       "C    16016\n",
       "B     5041\n",
       "D      350\n",
       "A       25\n",
       "E       22\n",
       "Name: total_income_category, dtype: int64"
      ]
     },
     "execution_count": 19,
     "metadata": {},
     "output_type": "execute_result"
    }
   ],
   "source": [
    "df['total_income_category'] = df['total_income'].apply(total_income_category) #создаем столбец с обозначениями дохода из функции\n",
    "df['total_income_category'].value_counts() #выводим на экран получившиеся значения"
   ]
  },
  {
   "cell_type": "markdown",
   "id": "b14823ea",
   "metadata": {},
   "source": [
    "### 2.7 Категоризация целей кредита"
   ]
  },
  {
   "cell_type": "markdown",
   "id": "06a44c2e",
   "metadata": {},
   "source": [
    "Для начала выводим уникальные значения из столбца `purpose`, чтобы сформировать категории:"
   ]
  },
  {
   "cell_type": "code",
   "execution_count": 20,
   "id": "3a61fd1e",
   "metadata": {},
   "outputs": [
    {
     "data": {
      "text/plain": [
       "array(['покупка жилья', 'приобретение автомобиля',\n",
       "       'дополнительное образование', 'сыграть свадьбу',\n",
       "       'операции с жильем', 'образование', 'на проведение свадьбы',\n",
       "       'покупка жилья для семьи', 'покупка недвижимости',\n",
       "       'покупка коммерческой недвижимости', 'покупка жилой недвижимости',\n",
       "       'строительство собственной недвижимости', 'недвижимость',\n",
       "       'строительство недвижимости', 'на покупку подержанного автомобиля',\n",
       "       'на покупку своего автомобиля',\n",
       "       'операции с коммерческой недвижимостью',\n",
       "       'строительство жилой недвижимости', 'жилье',\n",
       "       'операции со своей недвижимостью', 'автомобили',\n",
       "       'заняться образованием', 'сделка с подержанным автомобилем',\n",
       "       'получение образования', 'автомобиль', 'свадьба',\n",
       "       'получение дополнительного образования', 'покупка своего жилья',\n",
       "       'операции с недвижимостью', 'получение высшего образования',\n",
       "       'свой автомобиль', 'сделка с автомобилем',\n",
       "       'профильное образование', 'высшее образование',\n",
       "       'покупка жилья для сдачи', 'на покупку автомобиля', 'ремонт жилью',\n",
       "       'заняться высшим образованием'], dtype=object)"
      ]
     },
     "execution_count": 20,
     "metadata": {},
     "output_type": "execute_result"
    }
   ],
   "source": [
    "df['purpose'].unique()"
   ]
  },
  {
   "cell_type": "markdown",
   "id": "f3129f27",
   "metadata": {},
   "source": [
    "Создаем функцию для категоризации со следующими категориями:\n",
    "* `операции с автомобилем`;\n",
    "* `операции с недвижимостью`;\n",
    "* `проведение свадьбы`;\n",
    "* `получение образования`."
   ]
  },
  {
   "cell_type": "code",
   "execution_count": 21,
   "id": "bf8b354a",
   "metadata": {},
   "outputs": [],
   "source": [
    "def purpose_category(purpose):\n",
    "    if ('жиль' or 'недвиж') in purpose:\n",
    "        return 'операции с недвижимостью'\n",
    "    if 'автомоб' in purpose:\n",
    "        return 'операции с автомобилем'\n",
    "    if 'свадьб' in purpose:\n",
    "        return 'проведение свадьбы'\n",
    "    if 'образ' in purpose:\n",
    "        return 'получение образования'\n",
    "\n",
    "    \n",
    "\n"
   ]
  },
  {
   "cell_type": "markdown",
   "id": "6b56d656",
   "metadata": {},
   "source": [
    "Также создаем новый столбец `purpose_category` с категориями:"
   ]
  },
  {
   "cell_type": "code",
   "execution_count": 22,
   "id": "4d8e8c35",
   "metadata": {},
   "outputs": [
    {
     "data": {
      "text/html": [
       "<div>\n",
       "<style scoped>\n",
       "    .dataframe tbody tr th:only-of-type {\n",
       "        vertical-align: middle;\n",
       "    }\n",
       "\n",
       "    .dataframe tbody tr th {\n",
       "        vertical-align: top;\n",
       "    }\n",
       "\n",
       "    .dataframe thead th {\n",
       "        text-align: right;\n",
       "    }\n",
       "</style>\n",
       "<table border=\"1\" class=\"dataframe\">\n",
       "  <thead>\n",
       "    <tr style=\"text-align: right;\">\n",
       "      <th></th>\n",
       "      <th>children</th>\n",
       "      <th>days_employed</th>\n",
       "      <th>dob_years</th>\n",
       "      <th>education_id</th>\n",
       "      <th>family_status_id</th>\n",
       "      <th>gender</th>\n",
       "      <th>income_type</th>\n",
       "      <th>debt</th>\n",
       "      <th>total_income</th>\n",
       "      <th>purpose</th>\n",
       "      <th>total_income_category</th>\n",
       "      <th>purpose_category</th>\n",
       "    </tr>\n",
       "  </thead>\n",
       "  <tbody>\n",
       "    <tr>\n",
       "      <th>0</th>\n",
       "      <td>1</td>\n",
       "      <td>8437.673028</td>\n",
       "      <td>42</td>\n",
       "      <td>0</td>\n",
       "      <td>0</td>\n",
       "      <td>F</td>\n",
       "      <td>сотрудник</td>\n",
       "      <td>0</td>\n",
       "      <td>253875</td>\n",
       "      <td>покупка жилья</td>\n",
       "      <td>B</td>\n",
       "      <td>операции с недвижимостью</td>\n",
       "    </tr>\n",
       "    <tr>\n",
       "      <th>1</th>\n",
       "      <td>1</td>\n",
       "      <td>4024.803754</td>\n",
       "      <td>36</td>\n",
       "      <td>1</td>\n",
       "      <td>0</td>\n",
       "      <td>F</td>\n",
       "      <td>сотрудник</td>\n",
       "      <td>0</td>\n",
       "      <td>112080</td>\n",
       "      <td>приобретение автомобиля</td>\n",
       "      <td>C</td>\n",
       "      <td>операции с автомобилем</td>\n",
       "    </tr>\n",
       "    <tr>\n",
       "      <th>2</th>\n",
       "      <td>0</td>\n",
       "      <td>5623.422610</td>\n",
       "      <td>33</td>\n",
       "      <td>1</td>\n",
       "      <td>0</td>\n",
       "      <td>M</td>\n",
       "      <td>сотрудник</td>\n",
       "      <td>0</td>\n",
       "      <td>145885</td>\n",
       "      <td>покупка жилья</td>\n",
       "      <td>C</td>\n",
       "      <td>операции с недвижимостью</td>\n",
       "    </tr>\n",
       "    <tr>\n",
       "      <th>3</th>\n",
       "      <td>3</td>\n",
       "      <td>4124.747207</td>\n",
       "      <td>32</td>\n",
       "      <td>1</td>\n",
       "      <td>0</td>\n",
       "      <td>M</td>\n",
       "      <td>сотрудник</td>\n",
       "      <td>0</td>\n",
       "      <td>267628</td>\n",
       "      <td>дополнительное образование</td>\n",
       "      <td>B</td>\n",
       "      <td>получение образования</td>\n",
       "    </tr>\n",
       "    <tr>\n",
       "      <th>4</th>\n",
       "      <td>0</td>\n",
       "      <td>340266.072047</td>\n",
       "      <td>53</td>\n",
       "      <td>1</td>\n",
       "      <td>1</td>\n",
       "      <td>F</td>\n",
       "      <td>пенсионер</td>\n",
       "      <td>0</td>\n",
       "      <td>158616</td>\n",
       "      <td>сыграть свадьбу</td>\n",
       "      <td>C</td>\n",
       "      <td>проведение свадьбы</td>\n",
       "    </tr>\n",
       "  </tbody>\n",
       "</table>\n",
       "</div>"
      ],
      "text/plain": [
       "   children  days_employed  dob_years  education_id  family_status_id gender  \\\n",
       "0         1    8437.673028         42             0                 0      F   \n",
       "1         1    4024.803754         36             1                 0      F   \n",
       "2         0    5623.422610         33             1                 0      M   \n",
       "3         3    4124.747207         32             1                 0      M   \n",
       "4         0  340266.072047         53             1                 1      F   \n",
       "\n",
       "  income_type  debt  total_income                     purpose  \\\n",
       "0   сотрудник     0        253875               покупка жилья   \n",
       "1   сотрудник     0        112080     приобретение автомобиля   \n",
       "2   сотрудник     0        145885               покупка жилья   \n",
       "3   сотрудник     0        267628  дополнительное образование   \n",
       "4   пенсионер     0        158616             сыграть свадьбу   \n",
       "\n",
       "  total_income_category          purpose_category  \n",
       "0                     B  операции с недвижимостью  \n",
       "1                     C    операции с автомобилем  \n",
       "2                     C  операции с недвижимостью  \n",
       "3                     B     получение образования  \n",
       "4                     C        проведение свадьбы  "
      ]
     },
     "execution_count": 22,
     "metadata": {},
     "output_type": "execute_result"
    }
   ],
   "source": [
    "df['purpose_category'] = df['purpose'].apply(purpose_category) \n",
    "df.head()"
   ]
  },
  {
   "cell_type": "markdown",
   "id": "d0a93285",
   "metadata": {},
   "source": [
    "**Выводы**\n",
    "\n",
    "Предобработка обнаружила три проблемы в данных:\n",
    "\n",
    "- аномалии\n",
    "- пропущенные значения\n",
    "- дубликаты — явные и неявные\n",
    "\n",
    "Теперь можно перейти к проверке гипотез. "
   ]
  },
  {
   "cell_type": "markdown",
   "id": "62400fcd",
   "metadata": {},
   "source": [
    "## 3. Проверка гипотез"
   ]
  },
  {
   "cell_type": "markdown",
   "id": "219dc0de",
   "metadata": {},
   "source": [
    "### Ответы на вопросы."
   ]
  },
  {
   "cell_type": "markdown",
   "id": "4fbbe1aa",
   "metadata": {},
   "source": [
    "##### Вопрос 1: Есть ли зависимость между количеством детей и возвратом кредита в срок?"
   ]
  },
  {
   "cell_type": "markdown",
   "id": "13c107cf",
   "metadata": {},
   "source": [
    "Построим сводную таблицу, посчитав в ней три агрегирующие функции - количество, сумму и среднее.\n",
    "`количество (count)` - всего клиентов в группе;\n",
    "`сумма (sum)` - количество должников;\n",
    "`среднее (mean)` - доля должников."
   ]
  },
  {
   "cell_type": "code",
   "execution_count": 23,
   "id": "f780ce31",
   "metadata": {},
   "outputs": [
    {
     "data": {
      "text/html": [
       "<div>\n",
       "<style scoped>\n",
       "    .dataframe tbody tr th:only-of-type {\n",
       "        vertical-align: middle;\n",
       "    }\n",
       "\n",
       "    .dataframe tbody tr th {\n",
       "        vertical-align: top;\n",
       "    }\n",
       "\n",
       "    .dataframe thead th {\n",
       "        text-align: right;\n",
       "    }\n",
       "</style>\n",
       "<table border=\"1\" class=\"dataframe\">\n",
       "  <thead>\n",
       "    <tr style=\"text-align: right;\">\n",
       "      <th></th>\n",
       "      <th>total</th>\n",
       "      <th>quantity</th>\n",
       "      <th>fraction</th>\n",
       "    </tr>\n",
       "    <tr>\n",
       "      <th>children</th>\n",
       "      <th></th>\n",
       "      <th></th>\n",
       "      <th></th>\n",
       "    </tr>\n",
       "  </thead>\n",
       "  <tbody>\n",
       "    <tr>\n",
       "      <th>0</th>\n",
       "      <td>14091</td>\n",
       "      <td>1063</td>\n",
       "      <td>0.075438</td>\n",
       "    </tr>\n",
       "    <tr>\n",
       "      <th>1</th>\n",
       "      <td>4855</td>\n",
       "      <td>445</td>\n",
       "      <td>0.091658</td>\n",
       "    </tr>\n",
       "    <tr>\n",
       "      <th>2</th>\n",
       "      <td>2128</td>\n",
       "      <td>202</td>\n",
       "      <td>0.094925</td>\n",
       "    </tr>\n",
       "    <tr>\n",
       "      <th>3</th>\n",
       "      <td>330</td>\n",
       "      <td>27</td>\n",
       "      <td>0.081818</td>\n",
       "    </tr>\n",
       "    <tr>\n",
       "      <th>4</th>\n",
       "      <td>41</td>\n",
       "      <td>4</td>\n",
       "      <td>0.097561</td>\n",
       "    </tr>\n",
       "    <tr>\n",
       "      <th>5</th>\n",
       "      <td>9</td>\n",
       "      <td>0</td>\n",
       "      <td>0.000000</td>\n",
       "    </tr>\n",
       "  </tbody>\n",
       "</table>\n",
       "</div>"
      ],
      "text/plain": [
       "          total  quantity  fraction\n",
       "children                           \n",
       "0         14091      1063  0.075438\n",
       "1          4855       445  0.091658\n",
       "2          2128       202  0.094925\n",
       "3           330        27  0.081818\n",
       "4            41         4  0.097561\n",
       "5             9         0  0.000000"
      ]
     },
     "execution_count": 23,
     "metadata": {},
     "output_type": "execute_result"
    }
   ],
   "source": [
    "hypothesis_first = pd.pivot_table(df, index='children', values='debt', aggfunc=['count', 'sum', 'mean']) #строим сводную таблицу\n",
    "hypothesis_first.columns = ['total', 'quantity', 'fraction'] #переименуем столбцы\n",
    "hypothesis_first #выводим результат"
   ]
  },
  {
   "cell_type": "markdown",
   "id": "1cc1c416",
   "metadata": {},
   "source": [
    "Сформируем вывод."
   ]
  },
  {
   "cell_type": "markdown",
   "id": "cfb3e517",
   "metadata": {},
   "source": [
    "##### Вывод 1:"
   ]
  },
  {
   "cell_type": "markdown",
   "id": "9fb4a50b",
   "metadata": {},
   "source": [
    "У нас задолженность представлена в числах, 1 - есть задолженность, 0 - нет задолженности. Это значит, что среднее арифметическое - это и будет доля должников.\n",
    "\n",
    "Можно сделать вывод, что больше всего задолжностей по кредитам имеют люди без детей, а меньше - с детьми. Можно предположить, что люди с детьми более отвественны и имеют постоянный доход для погашения кредита."
   ]
  },
  {
   "cell_type": "markdown",
   "id": "7659ca96",
   "metadata": {},
   "source": [
    "##### Вопрос 2: Есть ли зависимость между семейным положением и возвратом кредита в срок?"
   ]
  },
  {
   "cell_type": "markdown",
   "id": "ff7ca3f2",
   "metadata": {},
   "source": [
    "Получим идентификаторы из созданного датафрейма `family_df`:"
   ]
  },
  {
   "cell_type": "code",
   "execution_count": 24,
   "id": "22334d64",
   "metadata": {
    "scrolled": true
   },
   "outputs": [
    {
     "data": {
      "text/html": [
       "<div>\n",
       "<style scoped>\n",
       "    .dataframe tbody tr th:only-of-type {\n",
       "        vertical-align: middle;\n",
       "    }\n",
       "\n",
       "    .dataframe tbody tr th {\n",
       "        vertical-align: top;\n",
       "    }\n",
       "\n",
       "    .dataframe thead th {\n",
       "        text-align: right;\n",
       "    }\n",
       "</style>\n",
       "<table border=\"1\" class=\"dataframe\">\n",
       "  <thead>\n",
       "    <tr style=\"text-align: right;\">\n",
       "      <th></th>\n",
       "      <th>family_status</th>\n",
       "    </tr>\n",
       "    <tr>\n",
       "      <th>family_status_id</th>\n",
       "      <th></th>\n",
       "    </tr>\n",
       "  </thead>\n",
       "  <tbody>\n",
       "    <tr>\n",
       "      <th>0</th>\n",
       "      <td>женат / замужемженат / замужемженат / замужемж...</td>\n",
       "    </tr>\n",
       "    <tr>\n",
       "      <th>1</th>\n",
       "      <td>гражданский бракгражданский бракгражданский бр...</td>\n",
       "    </tr>\n",
       "    <tr>\n",
       "      <th>2</th>\n",
       "      <td>вдовец / вдовавдовец / вдовавдовец / вдовавдов...</td>\n",
       "    </tr>\n",
       "    <tr>\n",
       "      <th>3</th>\n",
       "      <td>в разводев разводев разводев разводев разводев...</td>\n",
       "    </tr>\n",
       "    <tr>\n",
       "      <th>4</th>\n",
       "      <td>Не женат / не замужемНе женат / не замужемНе ж...</td>\n",
       "    </tr>\n",
       "  </tbody>\n",
       "</table>\n",
       "</div>"
      ],
      "text/plain": [
       "                                                      family_status\n",
       "family_status_id                                                   \n",
       "0                 женат / замужемженат / замужемженат / замужемж...\n",
       "1                 гражданский бракгражданский бракгражданский бр...\n",
       "2                 вдовец / вдовавдовец / вдовавдовец / вдовавдов...\n",
       "3                 в разводев разводев разводев разводев разводев...\n",
       "4                 Не женат / не замужемНе женат / не замужемНе ж..."
      ]
     },
     "execution_count": 24,
     "metadata": {},
     "output_type": "execute_result"
    }
   ],
   "source": [
    "family_df.groupby('family_status_id').sum()"
   ]
  },
  {
   "cell_type": "markdown",
   "id": "9e00ca02",
   "metadata": {},
   "source": [
    "По тому же принципу строим сводную таблицу для данных из`family_df`:"
   ]
  },
  {
   "cell_type": "code",
   "execution_count": 25,
   "id": "d4b71b80",
   "metadata": {},
   "outputs": [
    {
     "data": {
      "text/html": [
       "<div>\n",
       "<style scoped>\n",
       "    .dataframe tbody tr th:only-of-type {\n",
       "        vertical-align: middle;\n",
       "    }\n",
       "\n",
       "    .dataframe tbody tr th {\n",
       "        vertical-align: top;\n",
       "    }\n",
       "\n",
       "    .dataframe thead th {\n",
       "        text-align: right;\n",
       "    }\n",
       "</style>\n",
       "<table border=\"1\" class=\"dataframe\">\n",
       "  <thead>\n",
       "    <tr style=\"text-align: right;\">\n",
       "      <th></th>\n",
       "      <th>total</th>\n",
       "      <th>quantity</th>\n",
       "      <th>fraction</th>\n",
       "    </tr>\n",
       "    <tr>\n",
       "      <th>family_status_id</th>\n",
       "      <th></th>\n",
       "      <th></th>\n",
       "      <th></th>\n",
       "    </tr>\n",
       "  </thead>\n",
       "  <tbody>\n",
       "    <tr>\n",
       "      <th>0</th>\n",
       "      <td>12339</td>\n",
       "      <td>931</td>\n",
       "      <td>0.075452</td>\n",
       "    </tr>\n",
       "    <tr>\n",
       "      <th>1</th>\n",
       "      <td>4151</td>\n",
       "      <td>388</td>\n",
       "      <td>0.093471</td>\n",
       "    </tr>\n",
       "    <tr>\n",
       "      <th>2</th>\n",
       "      <td>959</td>\n",
       "      <td>63</td>\n",
       "      <td>0.065693</td>\n",
       "    </tr>\n",
       "    <tr>\n",
       "      <th>3</th>\n",
       "      <td>1195</td>\n",
       "      <td>85</td>\n",
       "      <td>0.071130</td>\n",
       "    </tr>\n",
       "    <tr>\n",
       "      <th>4</th>\n",
       "      <td>2810</td>\n",
       "      <td>274</td>\n",
       "      <td>0.097509</td>\n",
       "    </tr>\n",
       "  </tbody>\n",
       "</table>\n",
       "</div>"
      ],
      "text/plain": [
       "                  total  quantity  fraction\n",
       "family_status_id                           \n",
       "0                 12339       931  0.075452\n",
       "1                  4151       388  0.093471\n",
       "2                   959        63  0.065693\n",
       "3                  1195        85  0.071130\n",
       "4                  2810       274  0.097509"
      ]
     },
     "execution_count": 25,
     "metadata": {},
     "output_type": "execute_result"
    }
   ],
   "source": [
    "hypothesis_second = pd.pivot_table(df, index='family_status_id', values='debt', aggfunc=['count', 'sum', 'mean']) #строим сводную таблицу\n",
    "hypothesis_second.columns = ['total', 'quantity', 'fraction'] #переименуем столбцы\n",
    "hypothesis_second #выводим результат"
   ]
  },
  {
   "cell_type": "markdown",
   "id": "c32afe11",
   "metadata": {},
   "source": [
    "Сформируем вывод."
   ]
  },
  {
   "cell_type": "markdown",
   "id": "503f0050",
   "metadata": {},
   "source": [
    "##### Вывод 2 :"
   ]
  },
  {
   "cell_type": "markdown",
   "id": "e3346b1d",
   "metadata": {},
   "source": [
    "Самую большую долю задолженности имеют клиенты с идентификатором \"4\" - \"Не женат\"  и \"1\" - \"гражданский брак\".\n"
   ]
  },
  {
   "cell_type": "markdown",
   "id": "ec0c63b9",
   "metadata": {},
   "source": [
    "##### Вопрос 3: Есть ли зависимость между уровнем дохода и возвратом кредита в срок?"
   ]
  },
  {
   "cell_type": "markdown",
   "id": "fc96737e",
   "metadata": {},
   "source": [
    "Повторяем построение свобдной таблицы для столбца `total_income_category`:"
   ]
  },
  {
   "cell_type": "code",
   "execution_count": 26,
   "id": "4b236a4e",
   "metadata": {},
   "outputs": [
    {
     "data": {
      "text/html": [
       "<div>\n",
       "<style scoped>\n",
       "    .dataframe tbody tr th:only-of-type {\n",
       "        vertical-align: middle;\n",
       "    }\n",
       "\n",
       "    .dataframe tbody tr th {\n",
       "        vertical-align: top;\n",
       "    }\n",
       "\n",
       "    .dataframe thead th {\n",
       "        text-align: right;\n",
       "    }\n",
       "</style>\n",
       "<table border=\"1\" class=\"dataframe\">\n",
       "  <thead>\n",
       "    <tr style=\"text-align: right;\">\n",
       "      <th></th>\n",
       "      <th>total</th>\n",
       "      <th>quantity</th>\n",
       "      <th>fraction</th>\n",
       "    </tr>\n",
       "    <tr>\n",
       "      <th>total_income_category</th>\n",
       "      <th></th>\n",
       "      <th></th>\n",
       "      <th></th>\n",
       "    </tr>\n",
       "  </thead>\n",
       "  <tbody>\n",
       "    <tr>\n",
       "      <th>A</th>\n",
       "      <td>25</td>\n",
       "      <td>2</td>\n",
       "      <td>0.080000</td>\n",
       "    </tr>\n",
       "    <tr>\n",
       "      <th>B</th>\n",
       "      <td>5041</td>\n",
       "      <td>356</td>\n",
       "      <td>0.070621</td>\n",
       "    </tr>\n",
       "    <tr>\n",
       "      <th>C</th>\n",
       "      <td>16016</td>\n",
       "      <td>1360</td>\n",
       "      <td>0.084915</td>\n",
       "    </tr>\n",
       "    <tr>\n",
       "      <th>D</th>\n",
       "      <td>350</td>\n",
       "      <td>21</td>\n",
       "      <td>0.060000</td>\n",
       "    </tr>\n",
       "    <tr>\n",
       "      <th>E</th>\n",
       "      <td>22</td>\n",
       "      <td>2</td>\n",
       "      <td>0.090909</td>\n",
       "    </tr>\n",
       "  </tbody>\n",
       "</table>\n",
       "</div>"
      ],
      "text/plain": [
       "                       total  quantity  fraction\n",
       "total_income_category                           \n",
       "A                         25         2  0.080000\n",
       "B                       5041       356  0.070621\n",
       "C                      16016      1360  0.084915\n",
       "D                        350        21  0.060000\n",
       "E                         22         2  0.090909"
      ]
     },
     "execution_count": 26,
     "metadata": {},
     "output_type": "execute_result"
    }
   ],
   "source": [
    "hypothesis_third = pd.pivot_table(df, index='total_income_category', values='debt', aggfunc=['count', 'sum', 'mean']) #строим сводную таблицу\n",
    "hypothesis_third.columns = ['total', 'quantity', 'fraction'] #переименуем столбцы\n",
    "hypothesis_third #выводим результат"
   ]
  },
  {
   "cell_type": "markdown",
   "id": "1c8b8578",
   "metadata": {},
   "source": [
    "Сформируем вывод."
   ]
  },
  {
   "cell_type": "markdown",
   "id": "0dd2addf",
   "metadata": {},
   "source": [
    "##### Вывод 3:"
   ]
  },
  {
   "cell_type": "markdown",
   "id": "40d67b3d",
   "metadata": {},
   "source": [
    "\n",
    "Самую большую долю задолженности имеют клиенты категории `'Е' (0–30000`) и `'C' (50001–200000)`."
   ]
  },
  {
   "cell_type": "markdown",
   "id": "1388c854",
   "metadata": {},
   "source": [
    "##### Вопрос 4: Как разные цели кредита влияют на его возврат в срок?"
   ]
  },
  {
   "cell_type": "markdown",
   "id": "7c47a27e",
   "metadata": {},
   "source": [
    "Вновь строим сводную таблицу по столбцу `purpose_category`:"
   ]
  },
  {
   "cell_type": "code",
   "execution_count": 27,
   "id": "3f217542",
   "metadata": {},
   "outputs": [
    {
     "data": {
      "text/html": [
       "<div>\n",
       "<style scoped>\n",
       "    .dataframe tbody tr th:only-of-type {\n",
       "        vertical-align: middle;\n",
       "    }\n",
       "\n",
       "    .dataframe tbody tr th {\n",
       "        vertical-align: top;\n",
       "    }\n",
       "\n",
       "    .dataframe thead th {\n",
       "        text-align: right;\n",
       "    }\n",
       "</style>\n",
       "<table border=\"1\" class=\"dataframe\">\n",
       "  <thead>\n",
       "    <tr style=\"text-align: right;\">\n",
       "      <th></th>\n",
       "      <th>total</th>\n",
       "      <th>quantity</th>\n",
       "      <th>fraction</th>\n",
       "    </tr>\n",
       "    <tr>\n",
       "      <th>purpose_category</th>\n",
       "      <th></th>\n",
       "      <th></th>\n",
       "      <th></th>\n",
       "    </tr>\n",
       "  </thead>\n",
       "  <tbody>\n",
       "    <tr>\n",
       "      <th>операции с автомобилем</th>\n",
       "      <td>4306</td>\n",
       "      <td>403</td>\n",
       "      <td>0.093590</td>\n",
       "    </tr>\n",
       "    <tr>\n",
       "      <th>операции с недвижимостью</th>\n",
       "      <td>4460</td>\n",
       "      <td>308</td>\n",
       "      <td>0.069058</td>\n",
       "    </tr>\n",
       "    <tr>\n",
       "      <th>получение образования</th>\n",
       "      <td>4013</td>\n",
       "      <td>370</td>\n",
       "      <td>0.092200</td>\n",
       "    </tr>\n",
       "    <tr>\n",
       "      <th>проведение свадьбы</th>\n",
       "      <td>2324</td>\n",
       "      <td>186</td>\n",
       "      <td>0.080034</td>\n",
       "    </tr>\n",
       "  </tbody>\n",
       "</table>\n",
       "</div>"
      ],
      "text/plain": [
       "                          total  quantity  fraction\n",
       "purpose_category                                   \n",
       "операции с автомобилем     4306       403  0.093590\n",
       "операции с недвижимостью   4460       308  0.069058\n",
       "получение образования      4013       370  0.092200\n",
       "проведение свадьбы         2324       186  0.080034"
      ]
     },
     "execution_count": 27,
     "metadata": {},
     "output_type": "execute_result"
    }
   ],
   "source": [
    "hypothesis_fourth = pd.pivot_table(df, index='purpose_category', values='debt', aggfunc=['count', 'sum', 'mean']) #строим сводную таблицу\n",
    "hypothesis_fourth.columns = ['total', 'quantity', 'fraction'] #переименуем столбцы\n",
    "hypothesis_fourth #выводим результат"
   ]
  },
  {
   "cell_type": "markdown",
   "id": "cbe3c6c7",
   "metadata": {},
   "source": [
    "Сформируем вывод."
   ]
  },
  {
   "cell_type": "markdown",
   "id": "46abe50c",
   "metadata": {},
   "source": [
    "##### Вывод 4 :"
   ]
  },
  {
   "cell_type": "markdown",
   "id": "ef2d0841",
   "metadata": {},
   "source": [
    "Больше всего задолженностей по кредитам у людей с целью `получение образования` и `операции с автомобилем`. Это может быть связано с большими и неопределенными (дополнительными) тратами. Так, клиент, взявший кредит на покупку поддержанного автомобиля может потратить дополнительные суммы на его ремонт.\n",
    "\n"
   ]
  },
  {
   "cell_type": "markdown",
   "id": "612e0592",
   "metadata": {},
   "source": [
    "## Общий вывод"
   ]
  },
  {
   "cell_type": "markdown",
   "id": "05bbc689",
   "metadata": {},
   "source": [
    "В этой работе было проведено исследование надежности заемщиков. \n",
    "Сначала данные были обработаны: исключены пропущенные значения, аномалии и строки-дубликаты.\n",
    "\n",
    "Далее перешли к проверке гипотез: есть ли зависимость между количеством детей и возвратом кредита в срок; между семейным положением и возвратом кредита в срок; между уровнем дохода и возвратом кредита в срок; как разные цели кредита влияют на его возврат в срок?\n",
    "Гипотезы подтвердились: \n",
    "Больше всего задолжностей по кредитам имеют люди без детей, а меньше - с детьми. Можно предположить, что люди с детьми более отвественны и имеют постоянный доход для погашения кредита.\n",
    "Самую большую долю задолженности имеют клиенты с идентификатором \"4\" - \"Не женат\" и \"1\" - \"гражданский брак\".\n",
    "Самую большую долю задолженности имеют клиенты категории 'Е' (0–30000) и 'C' (50001–200000).\n",
    "Больше всего задолженностей по кредитам у людей с целью получение образования и операции с автомобилем. Это может быть связано с большими и неопределенными (дополнительными) тратами. Так, клиент, взявший кредит на покупку поддержанного автомобиля может потратить дополнительные суммы на его ремонт."
   ]
  }
 ],
 "metadata": {
  "ExecuteTimeLog": [
   {
    "duration": 651,
    "start_time": "2022-02-18T18:26:11.335Z"
   },
   {
    "duration": 2368,
    "start_time": "2022-02-18T18:26:11.987Z"
   },
   {
    "duration": 1503,
    "start_time": "2022-02-18T18:26:12.854Z"
   },
   {
    "duration": 1501,
    "start_time": "2022-02-18T18:26:12.857Z"
   },
   {
    "duration": 1500,
    "start_time": "2022-02-18T18:26:12.859Z"
   },
   {
    "duration": 1499,
    "start_time": "2022-02-18T18:26:12.861Z"
   },
   {
    "duration": 1498,
    "start_time": "2022-02-18T18:26:12.863Z"
   },
   {
    "duration": 1497,
    "start_time": "2022-02-18T18:26:12.865Z"
   },
   {
    "duration": 1496,
    "start_time": "2022-02-18T18:26:12.867Z"
   },
   {
    "duration": 1464,
    "start_time": "2022-02-18T18:26:12.900Z"
   },
   {
    "duration": 1463,
    "start_time": "2022-02-18T18:26:12.902Z"
   },
   {
    "duration": 1462,
    "start_time": "2022-02-18T18:26:12.904Z"
   },
   {
    "duration": 1461,
    "start_time": "2022-02-18T18:26:12.906Z"
   },
   {
    "duration": 1459,
    "start_time": "2022-02-18T18:26:12.908Z"
   },
   {
    "duration": 1458,
    "start_time": "2022-02-18T18:26:12.910Z"
   },
   {
    "duration": 1457,
    "start_time": "2022-02-18T18:26:12.912Z"
   },
   {
    "duration": 1456,
    "start_time": "2022-02-18T18:26:12.914Z"
   },
   {
    "duration": 1455,
    "start_time": "2022-02-18T18:26:12.916Z"
   },
   {
    "duration": 1454,
    "start_time": "2022-02-18T18:26:12.918Z"
   },
   {
    "duration": 1453,
    "start_time": "2022-02-18T18:26:12.920Z"
   },
   {
    "duration": 1452,
    "start_time": "2022-02-18T18:26:12.922Z"
   },
   {
    "duration": 1425,
    "start_time": "2022-02-18T18:26:12.950Z"
   },
   {
    "duration": 1424,
    "start_time": "2022-02-18T18:26:12.952Z"
   },
   {
    "duration": 1423,
    "start_time": "2022-02-18T18:26:12.954Z"
   },
   {
    "duration": 1421,
    "start_time": "2022-02-18T18:26:12.956Z"
   },
   {
    "duration": 1421,
    "start_time": "2022-02-18T18:26:12.957Z"
   },
   {
    "duration": 56,
    "start_time": "2022-02-18T18:26:52.465Z"
   },
   {
    "duration": 552,
    "start_time": "2022-02-18T18:26:58.164Z"
   },
   {
    "duration": 48,
    "start_time": "2022-02-18T18:26:58.718Z"
   },
   {
    "duration": 18,
    "start_time": "2022-02-18T18:26:58.768Z"
   },
   {
    "duration": 9,
    "start_time": "2022-02-18T18:26:58.788Z"
   },
   {
    "duration": 10,
    "start_time": "2022-02-18T18:26:58.799Z"
   },
   {
    "duration": 22,
    "start_time": "2022-02-18T18:26:58.811Z"
   },
   {
    "duration": 4,
    "start_time": "2022-02-18T18:26:58.834Z"
   },
   {
    "duration": 6,
    "start_time": "2022-02-18T18:26:58.841Z"
   },
   {
    "duration": 3,
    "start_time": "2022-02-18T18:26:58.849Z"
   },
   {
    "duration": 39,
    "start_time": "2022-02-18T18:26:58.853Z"
   },
   {
    "duration": 5,
    "start_time": "2022-02-18T18:26:58.893Z"
   },
   {
    "duration": 41,
    "start_time": "2022-02-18T18:26:58.899Z"
   },
   {
    "duration": 4,
    "start_time": "2022-02-18T18:26:58.941Z"
   },
   {
    "duration": 13,
    "start_time": "2022-02-18T18:26:58.946Z"
   },
   {
    "duration": 3,
    "start_time": "2022-02-18T18:26:58.960Z"
   },
   {
    "duration": 17,
    "start_time": "2022-02-18T18:26:58.965Z"
   },
   {
    "duration": 4,
    "start_time": "2022-02-18T18:26:58.984Z"
   },
   {
    "duration": 6,
    "start_time": "2022-02-18T18:26:58.990Z"
   },
   {
    "duration": 37,
    "start_time": "2022-02-18T18:26:58.997Z"
   },
   {
    "duration": 5,
    "start_time": "2022-02-18T18:26:59.036Z"
   },
   {
    "duration": 8,
    "start_time": "2022-02-18T18:26:59.042Z"
   },
   {
    "duration": 10,
    "start_time": "2022-02-18T18:26:59.051Z"
   },
   {
    "duration": 110,
    "start_time": "2022-02-18T18:26:59.064Z"
   },
   {
    "duration": 5,
    "start_time": "2022-02-18T18:26:59.176Z"
   },
   {
    "duration": 5,
    "start_time": "2022-02-18T18:26:59.183Z"
   },
   {
    "duration": 6,
    "start_time": "2022-02-18T18:26:59.190Z"
   }
  ],
  "kernelspec": {
   "display_name": "Python 3 (ipykernel)",
   "language": "python",
   "name": "python3"
  },
  "language_info": {
   "codemirror_mode": {
    "name": "ipython",
    "version": 3
   },
   "file_extension": ".py",
   "mimetype": "text/x-python",
   "name": "python",
   "nbconvert_exporter": "python",
   "pygments_lexer": "ipython3",
   "version": "3.9.12"
  },
  "toc": {
   "base_numbering": 1,
   "nav_menu": {},
   "number_sections": false,
   "sideBar": true,
   "skip_h1_title": false,
   "title_cell": "Table of Contents",
   "title_sidebar": "Contents",
   "toc_cell": false,
   "toc_position": {},
   "toc_section_display": true,
   "toc_window_display": true
  }
 },
 "nbformat": 4,
 "nbformat_minor": 5
}
