{
 "cells": [
  {
   "cell_type": "markdown",
   "metadata": {},
   "source": [
    "# Рынок заведений общественного питания Москвы"
   ]
  },
  {
   "cell_type": "markdown",
   "metadata": {},
   "source": [
    "Бизнесмен решил открыть небольшое кафе в Москве. Оно оригинальное — гостей должны обслуживать роботы. Проект многообещающий, но дорогой. Вместе с партнёрами он решился обратиться к инвесторам. Их интересует текущее положение дел на рынке — сможет ли он снискать популярность на долгое время, когда все зеваки насмотрятся на роботов-официантов?\n",
    "\n",
    "**Цель исследования** - подготовить исследование рынка. Имеются открытые данные о заведениях общественного питания в Москве.\n",
    "\n",
    "**Ход исследования**\n",
    "\n",
    "Исследование пройдет в 5 этапов:\n",
    "\n",
    "1. Обзор данных;\n",
    "2. Предобработка данных;\n",
    "3. Анализ данных;\n",
    "4. Презентация;\n",
    "5. Вывод."
   ]
  },
  {
   "cell_type": "markdown",
   "metadata": {},
   "source": [
    "## Шаг 1. Обзор данных"
   ]
  },
  {
   "cell_type": "markdown",
   "metadata": {},
   "source": [
    "Импортируем необходимые библиотеки."
   ]
  },
  {
   "cell_type": "code",
   "execution_count": 1,
   "metadata": {},
   "outputs": [],
   "source": [
    "import pandas as pd\n",
    "import numpy as np\n",
    "import seaborn as sns\n",
    "from scipy import stats\n",
    "from matplotlib import pyplot as plt"
   ]
  },
  {
   "cell_type": "markdown",
   "metadata": {},
   "source": [
    "Читаем файл `rest_data.csv` и сохраняем его в переменную `rest_data`."
   ]
  },
  {
   "cell_type": "code",
   "execution_count": 2,
   "metadata": {},
   "outputs": [],
   "source": [
    "try: \n",
    "    rest_data = pd.read_csv('/datasets/rest_data.csv')\n",
    "except: \n",
    "    rest_data = pd.read_csv('rest_data.csv')"
   ]
  },
  {
   "cell_type": "markdown",
   "metadata": {},
   "source": [
    "Выводим на экран первые 10 строк таблицы `rest_data.csv`, а также общую информацию о таблице:"
   ]
  },
  {
   "cell_type": "code",
   "execution_count": 3,
   "metadata": {},
   "outputs": [
    {
     "data": {
      "text/html": [
       "<div>\n",
       "<style scoped>\n",
       "    .dataframe tbody tr th:only-of-type {\n",
       "        vertical-align: middle;\n",
       "    }\n",
       "\n",
       "    .dataframe tbody tr th {\n",
       "        vertical-align: top;\n",
       "    }\n",
       "\n",
       "    .dataframe thead th {\n",
       "        text-align: right;\n",
       "    }\n",
       "</style>\n",
       "<table border=\"1\" class=\"dataframe\">\n",
       "  <thead>\n",
       "    <tr style=\"text-align: right;\">\n",
       "      <th></th>\n",
       "      <th>id</th>\n",
       "      <th>object_name</th>\n",
       "      <th>chain</th>\n",
       "      <th>object_type</th>\n",
       "      <th>address</th>\n",
       "      <th>number</th>\n",
       "    </tr>\n",
       "  </thead>\n",
       "  <tbody>\n",
       "    <tr>\n",
       "      <th>0</th>\n",
       "      <td>151635</td>\n",
       "      <td>СМЕТАНА</td>\n",
       "      <td>нет</td>\n",
       "      <td>кафе</td>\n",
       "      <td>город Москва, улица Егора Абакумова, дом 9</td>\n",
       "      <td>48</td>\n",
       "    </tr>\n",
       "    <tr>\n",
       "      <th>1</th>\n",
       "      <td>77874</td>\n",
       "      <td>Родник</td>\n",
       "      <td>нет</td>\n",
       "      <td>кафе</td>\n",
       "      <td>город Москва, улица Талалихина, дом 2/1, корпус 1</td>\n",
       "      <td>35</td>\n",
       "    </tr>\n",
       "    <tr>\n",
       "      <th>2</th>\n",
       "      <td>24309</td>\n",
       "      <td>Кафе «Академия»</td>\n",
       "      <td>нет</td>\n",
       "      <td>кафе</td>\n",
       "      <td>город Москва, Абельмановская улица, дом 6</td>\n",
       "      <td>95</td>\n",
       "    </tr>\n",
       "    <tr>\n",
       "      <th>3</th>\n",
       "      <td>21894</td>\n",
       "      <td>ПИЦЦЕТОРИЯ</td>\n",
       "      <td>да</td>\n",
       "      <td>кафе</td>\n",
       "      <td>город Москва, Абрамцевская улица, дом 1</td>\n",
       "      <td>40</td>\n",
       "    </tr>\n",
       "    <tr>\n",
       "      <th>4</th>\n",
       "      <td>119365</td>\n",
       "      <td>Кафе «Вишневая метель»</td>\n",
       "      <td>нет</td>\n",
       "      <td>кафе</td>\n",
       "      <td>город Москва, Абрамцевская улица, дом 9, корпус 1</td>\n",
       "      <td>50</td>\n",
       "    </tr>\n",
       "    <tr>\n",
       "      <th>5</th>\n",
       "      <td>27429</td>\n",
       "      <td>СТОЛ. ПРИ ГОУ СОШ № 1051</td>\n",
       "      <td>нет</td>\n",
       "      <td>столовая</td>\n",
       "      <td>город Москва, Абрамцевская улица, дом 15, корп...</td>\n",
       "      <td>240</td>\n",
       "    </tr>\n",
       "    <tr>\n",
       "      <th>6</th>\n",
       "      <td>148815</td>\n",
       "      <td>Брусника</td>\n",
       "      <td>да</td>\n",
       "      <td>кафе</td>\n",
       "      <td>город Москва, переулок Сивцев Вражек, дом 6/2</td>\n",
       "      <td>10</td>\n",
       "    </tr>\n",
       "    <tr>\n",
       "      <th>7</th>\n",
       "      <td>20957</td>\n",
       "      <td>Буфет МТУСИ</td>\n",
       "      <td>нет</td>\n",
       "      <td>столовая</td>\n",
       "      <td>город Москва, Авиамоторная улица, дом 8, строе...</td>\n",
       "      <td>90</td>\n",
       "    </tr>\n",
       "    <tr>\n",
       "      <th>8</th>\n",
       "      <td>20958</td>\n",
       "      <td>КПФ СЕМЬЯ-1</td>\n",
       "      <td>нет</td>\n",
       "      <td>столовая</td>\n",
       "      <td>город Москва, Авиамоторная улица, дом 8, строе...</td>\n",
       "      <td>150</td>\n",
       "    </tr>\n",
       "    <tr>\n",
       "      <th>9</th>\n",
       "      <td>28858</td>\n",
       "      <td>Столовая МТУСИ</td>\n",
       "      <td>нет</td>\n",
       "      <td>столовая</td>\n",
       "      <td>город Москва, Авиамоторная улица, дом 8, строе...</td>\n",
       "      <td>120</td>\n",
       "    </tr>\n",
       "  </tbody>\n",
       "</table>\n",
       "</div>"
      ],
      "text/plain": [
       "       id               object_name chain object_type  \\\n",
       "0  151635                   СМЕТАНА   нет        кафе   \n",
       "1   77874                    Родник   нет        кафе   \n",
       "2   24309           Кафе «Академия»   нет        кафе   \n",
       "3   21894                ПИЦЦЕТОРИЯ    да        кафе   \n",
       "4  119365    Кафе «Вишневая метель»   нет        кафе   \n",
       "5   27429  СТОЛ. ПРИ ГОУ СОШ № 1051   нет    столовая   \n",
       "6  148815                  Брусника    да        кафе   \n",
       "7   20957               Буфет МТУСИ   нет    столовая   \n",
       "8   20958               КПФ СЕМЬЯ-1   нет    столовая   \n",
       "9   28858            Столовая МТУСИ   нет    столовая   \n",
       "\n",
       "                                             address  number  \n",
       "0         город Москва, улица Егора Абакумова, дом 9      48  \n",
       "1  город Москва, улица Талалихина, дом 2/1, корпус 1      35  \n",
       "2          город Москва, Абельмановская улица, дом 6      95  \n",
       "3            город Москва, Абрамцевская улица, дом 1      40  \n",
       "4  город Москва, Абрамцевская улица, дом 9, корпус 1      50  \n",
       "5  город Москва, Абрамцевская улица, дом 15, корп...     240  \n",
       "6      город Москва, переулок Сивцев Вражек, дом 6/2      10  \n",
       "7  город Москва, Авиамоторная улица, дом 8, строе...      90  \n",
       "8  город Москва, Авиамоторная улица, дом 8, строе...     150  \n",
       "9  город Москва, Авиамоторная улица, дом 8, строе...     120  "
      ]
     },
     "execution_count": 3,
     "metadata": {},
     "output_type": "execute_result"
    }
   ],
   "source": [
    "rest_data.head(10)"
   ]
  },
  {
   "cell_type": "code",
   "execution_count": 4,
   "metadata": {},
   "outputs": [
    {
     "name": "stdout",
     "output_type": "stream",
     "text": [
      "<class 'pandas.core.frame.DataFrame'>\n",
      "RangeIndex: 15366 entries, 0 to 15365\n",
      "Data columns (total 6 columns):\n",
      " #   Column       Non-Null Count  Dtype \n",
      "---  ------       --------------  ----- \n",
      " 0   id           15366 non-null  int64 \n",
      " 1   object_name  15366 non-null  object\n",
      " 2   chain        15366 non-null  object\n",
      " 3   object_type  15366 non-null  object\n",
      " 4   address      15366 non-null  object\n",
      " 5   number       15366 non-null  int64 \n",
      "dtypes: int64(2), object(4)\n",
      "memory usage: 720.4+ KB\n"
     ]
    }
   ],
   "source": [
    "rest_data.info()"
   ]
  },
  {
   "cell_type": "markdown",
   "metadata": {},
   "source": [
    "В таблице 6 столбцов. Согласно  документации к данным:\n",
    "* `id` — идентификатор объекта;\n",
    "* `object_name` — название объекта общественного питания;\n",
    "* `chain` — сетевой ресторан;\n",
    "* `object_type` — тип объекта общественного питания;\n",
    "* `address` — адрес;\n",
    "* `number` — количество посадочных мест.\n",
    "\n",
    "В данных ошибок не замечено. Однако на следующем шаге стоит проверить данные на дубликаты. "
   ]
  },
  {
   "cell_type": "markdown",
   "metadata": {},
   "source": [
    "## Шаг 2. Предобработка данных"
   ]
  },
  {
   "cell_type": "markdown",
   "metadata": {},
   "source": [
    "Для качества анализа данные необходимо проверить на дубликаты. Сначала займемся явными дубликатами."
   ]
  },
  {
   "cell_type": "code",
   "execution_count": 5,
   "metadata": {},
   "outputs": [
    {
     "data": {
      "text/plain": [
       "0"
      ]
     },
     "execution_count": 5,
     "metadata": {},
     "output_type": "execute_result"
    }
   ],
   "source": [
    "rest_data.duplicated().sum()"
   ]
  },
  {
   "cell_type": "markdown",
   "metadata": {},
   "source": [
    "Явных дубликатов нет, теперь проверим наличие неявных дубликатов. Для этого выведем уникальные значения столбцов."
   ]
  },
  {
   "cell_type": "code",
   "execution_count": 6,
   "metadata": {},
   "outputs": [
    {
     "data": {
      "text/plain": [
       "array(['нет', 'да'], dtype=object)"
      ]
     },
     "execution_count": 6,
     "metadata": {},
     "output_type": "execute_result"
    }
   ],
   "source": [
    "rest_data['chain'].unique()"
   ]
  },
  {
   "cell_type": "code",
   "execution_count": 7,
   "metadata": {},
   "outputs": [
    {
     "data": {
      "text/plain": [
       "array(['кафе', 'столовая', 'закусочная',\n",
       "       'предприятие быстрого обслуживания', 'ресторан', 'кафетерий',\n",
       "       'буфет', 'бар', 'магазин (отдел кулинарии)'], dtype=object)"
      ]
     },
     "execution_count": 7,
     "metadata": {},
     "output_type": "execute_result"
    }
   ],
   "source": [
    "rest_data['object_type'].unique()"
   ]
  },
  {
   "cell_type": "markdown",
   "metadata": {},
   "source": [
    "Неявных дубликатов так же нет, так как нет повторяющихся значений.\n",
    "\n",
    "**Вывод**\n",
    "\n",
    "На этапе предобработки данные были проверены на дубликаты. Их не оказалось, следовательно, можно приступить к следующему шагу."
   ]
  },
  {
   "cell_type": "markdown",
   "metadata": {},
   "source": [
    "## Шаг 3. Анализ данных"
   ]
  },
  {
   "cell_type": "markdown",
   "metadata": {},
   "source": [
    "Исследуем соотношение видов объектов общественного питания по количеству. "
   ]
  },
  {
   "cell_type": "code",
   "execution_count": 8,
   "metadata": {},
   "outputs": [
    {
     "data": {
      "text/plain": [
       "Text(0, 0.5, 'Количество')"
      ]
     },
     "execution_count": 8,
     "metadata": {},
     "output_type": "execute_result"
    },
    {
     "data": {
      "text/plain": [
       "<Figure size 1080x288 with 0 Axes>"
      ]
     },
     "metadata": {},
     "output_type": "display_data"
    },
    {
     "data": {
      "image/png": "[encoded data removed]",
      "text/plain": [
       "<Figure size 1080x288 with 1 Axes>"
      ]
     },
     "metadata": {
      "needs_background": "light"
     },
     "output_type": "display_data"
    }
   ],
   "source": [
    "plt.figure(figsize=(15,4))\n",
    "\n",
    "data_demo = rest_data.groupby('object_type')\\\n",
    "                     .agg(count=('number','count'))\\\n",
    "                     .reset_index()\\\n",
    "                     .sort_values(by='count', ascending=False)\n",
    "\n",
    "data_demo['object_type'] = data_demo['object_type'].apply(lambda x : '\\n'.join(x.split()))\n",
    "plt.figure(figsize=(15,4))\n",
    "sns.barplot(data=data_demo, x='object_type', y='count')\n",
    "plt.title('Количество объектов обществнного питания')\n",
    "plt.xlabel('Объекты')\n",
    "plt.ylabel('Количество')"
   ]
  },
  {
   "cell_type": "markdown",
   "metadata": {},
   "source": [
    "Самые распространенные объекты - кафе, столовые и рестораны.\n",
    "\n",
    "Исследуем соотношение сетевых и несетевых заведений по количеству. "
   ]
  },
  {
   "cell_type": "code",
   "execution_count": 9,
   "metadata": {
    "scrolled": true
   },
   "outputs": [
    {
     "data": {
      "image/png": "[encoded data removed]",
      "text/plain": [
       "<Figure size 432x288 with 1 Axes>"
      ]
     },
     "metadata": {},
     "output_type": "display_data"
    }
   ],
   "source": [
    "\n",
    "rest_data['chain'].value_counts().plot.pie()\n",
    "\n",
    "plt.title('Количество сетевых и несетевых заведений')\n",
    "plt.rcParams['figure.facecolor'] = '#f8f6f2'\n",
    "plt.xlabel('')\n",
    "plt.ylabel('')\n",
    "plt.legend('')\n",
    "plt.show()"
   ]
  },
  {
   "cell_type": "markdown",
   "metadata": {},
   "source": [
    "Количество несетевых заведений превышает количество сетевых.\n",
    "\n",
    "Посмотрим для какого вида объекта общественного питания характерно сетевое распространение."
   ]
  },
  {
   "cell_type": "code",
   "execution_count": 10,
   "metadata": {},
   "outputs": [
    {
     "data": {
      "text/html": [
       "<div>\n",
       "<style scoped>\n",
       "    .dataframe tbody tr th:only-of-type {\n",
       "        vertical-align: middle;\n",
       "    }\n",
       "\n",
       "    .dataframe tbody tr th {\n",
       "        vertical-align: top;\n",
       "    }\n",
       "\n",
       "    .dataframe thead th {\n",
       "        text-align: right;\n",
       "    }\n",
       "</style>\n",
       "<table border=\"1\" class=\"dataframe\">\n",
       "  <thead>\n",
       "    <tr style=\"text-align: right;\">\n",
       "      <th></th>\n",
       "      <th>chain</th>\n",
       "    </tr>\n",
       "    <tr>\n",
       "      <th>object_type</th>\n",
       "      <th></th>\n",
       "    </tr>\n",
       "  </thead>\n",
       "  <tbody>\n",
       "    <tr>\n",
       "      <th>предприятие быстрого обслуживания</th>\n",
       "      <td>0.411336</td>\n",
       "    </tr>\n",
       "    <tr>\n",
       "      <th>магазин (отдел кулинарии)</th>\n",
       "      <td>0.285714</td>\n",
       "    </tr>\n",
       "    <tr>\n",
       "      <th>ресторан</th>\n",
       "      <td>0.238074</td>\n",
       "    </tr>\n",
       "    <tr>\n",
       "      <th>кафе</th>\n",
       "      <td>0.228890</td>\n",
       "    </tr>\n",
       "    <tr>\n",
       "      <th>закусочная</th>\n",
       "      <td>0.155556</td>\n",
       "    </tr>\n",
       "    <tr>\n",
       "      <th>кафетерий</th>\n",
       "      <td>0.130653</td>\n",
       "    </tr>\n",
       "    <tr>\n",
       "      <th>бар</th>\n",
       "      <td>0.043224</td>\n",
       "    </tr>\n",
       "    <tr>\n",
       "      <th>буфет</th>\n",
       "      <td>0.018803</td>\n",
       "    </tr>\n",
       "    <tr>\n",
       "      <th>столовая</th>\n",
       "      <td>0.001160</td>\n",
       "    </tr>\n",
       "  </tbody>\n",
       "</table>\n",
       "</div>"
      ],
      "text/plain": [
       "                                      chain\n",
       "object_type                                \n",
       "предприятие быстрого обслуживания  0.411336\n",
       "магазин (отдел кулинарии)          0.285714\n",
       "ресторан                           0.238074\n",
       "кафе                               0.228890\n",
       "закусочная                         0.155556\n",
       "кафетерий                          0.130653\n",
       "бар                                0.043224\n",
       "буфет                              0.018803\n",
       "столовая                           0.001160"
      ]
     },
     "execution_count": 10,
     "metadata": {},
     "output_type": "execute_result"
    }
   ],
   "source": [
    "rest_data.groupby('object_type').agg({'chain' : lambda x : (x == 'да').mean()}).sort_values(by='chain', ascending=False)\n"
   ]
  },
  {
   "cell_type": "markdown",
   "metadata": {},
   "source": [
    "Больше всего сетевое распространение характерно для предприятий быстрого обслуживания.\n",
    "\n",
    "Проанализируем характеристики сетевых заведений."
   ]
  },
  {
   "cell_type": "code",
   "execution_count": 11,
   "metadata": {
    "scrolled": true
   },
   "outputs": [
    {
     "data": {
      "text/html": [
       "<div>\n",
       "<style scoped>\n",
       "    .dataframe tbody tr th:only-of-type {\n",
       "        vertical-align: middle;\n",
       "    }\n",
       "\n",
       "    .dataframe tbody tr th {\n",
       "        vertical-align: top;\n",
       "    }\n",
       "\n",
       "    .dataframe thead th {\n",
       "        text-align: right;\n",
       "    }\n",
       "</style>\n",
       "<table border=\"1\" class=\"dataframe\">\n",
       "  <thead>\n",
       "    <tr style=\"text-align: right;\">\n",
       "      <th></th>\n",
       "      <th>object_name</th>\n",
       "      <th>id</th>\n",
       "      <th>number</th>\n",
       "    </tr>\n",
       "  </thead>\n",
       "  <tbody>\n",
       "    <tr>\n",
       "      <th>0</th>\n",
       "      <td>Beverly Hills Diner</td>\n",
       "      <td>1</td>\n",
       "      <td>88.0</td>\n",
       "    </tr>\n",
       "    <tr>\n",
       "      <th>1</th>\n",
       "      <td>Bierloga</td>\n",
       "      <td>1</td>\n",
       "      <td>75.0</td>\n",
       "    </tr>\n",
       "    <tr>\n",
       "      <th>2</th>\n",
       "      <td>Black &amp; White</td>\n",
       "      <td>1</td>\n",
       "      <td>40.0</td>\n",
       "    </tr>\n",
       "    <tr>\n",
       "      <th>3</th>\n",
       "      <td>Bocconcino</td>\n",
       "      <td>3</td>\n",
       "      <td>68.0</td>\n",
       "    </tr>\n",
       "    <tr>\n",
       "      <th>4</th>\n",
       "      <td>BooBo</td>\n",
       "      <td>1</td>\n",
       "      <td>46.0</td>\n",
       "    </tr>\n",
       "    <tr>\n",
       "      <th>...</th>\n",
       "      <td>...</td>\n",
       "      <td>...</td>\n",
       "      <td>...</td>\n",
       "    </tr>\n",
       "    <tr>\n",
       "      <th>719</th>\n",
       "      <td>кафе «Папа Джонс»</td>\n",
       "      <td>1</td>\n",
       "      <td>24.0</td>\n",
       "    </tr>\n",
       "    <tr>\n",
       "      <th>720</th>\n",
       "      <td>кафе «Старбакс»</td>\n",
       "      <td>2</td>\n",
       "      <td>63.5</td>\n",
       "    </tr>\n",
       "    <tr>\n",
       "      <th>721</th>\n",
       "      <td>кафе «Шоколадница»</td>\n",
       "      <td>1</td>\n",
       "      <td>50.0</td>\n",
       "    </tr>\n",
       "    <tr>\n",
       "      <th>722</th>\n",
       "      <td>ресторан «Брудер»</td>\n",
       "      <td>1</td>\n",
       "      <td>86.0</td>\n",
       "    </tr>\n",
       "    <tr>\n",
       "      <th>723</th>\n",
       "      <td>ресторан «Якитория»</td>\n",
       "      <td>1</td>\n",
       "      <td>124.0</td>\n",
       "    </tr>\n",
       "  </tbody>\n",
       "</table>\n",
       "<p>724 rows × 3 columns</p>\n",
       "</div>"
      ],
      "text/plain": [
       "             object_name  id  number\n",
       "0    Beverly Hills Diner   1    88.0\n",
       "1               Bierloga   1    75.0\n",
       "2          Black & White   1    40.0\n",
       "3             Bocconcino   3    68.0\n",
       "4                  BooBo   1    46.0\n",
       "..                   ...  ..     ...\n",
       "719    кафе «Папа Джонс»   1    24.0\n",
       "720      кафе «Старбакс»   2    63.5\n",
       "721   кафе «Шоколадница»   1    50.0\n",
       "722    ресторан «Брудер»   1    86.0\n",
       "723  ресторан «Якитория»   1   124.0\n",
       "\n",
       "[724 rows x 3 columns]"
      ]
     },
     "execution_count": 11,
     "metadata": {},
     "output_type": "execute_result"
    }
   ],
   "source": [
    "parameter = rest_data.query('chain == \"да\"').groupby('object_name').agg({'id':  'count', 'number': 'median'}).reset_index()\n",
    "parameter"
   ]
  },
  {
   "cell_type": "markdown",
   "metadata": {},
   "source": [
    "Сети, состоящие из 1 заведения тут можно отбросить, они возникают в основном из-за разного написания названий. \n",
    "За большое количество посадочных мест и завдений в сети примем  значения, которые больше медианы. "
   ]
  },
  {
   "cell_type": "code",
   "execution_count": 12,
   "metadata": {},
   "outputs": [
    {
     "name": "stderr",
     "output_type": "stream",
     "text": [
      "/var/folders/4g/21q824kx4hlb56q2kdg1lf180000gn/T/ipykernel_12381/3645819271.py:1: FutureWarning: Dropping of nuisance columns in DataFrame reductions (with 'numeric_only=None') is deprecated; in a future version this will raise TypeError.  Select only valid columns before calling the reduction.\n",
      "  parameter.query('id > 1').median()\n"
     ]
    },
    {
     "data": {
      "text/plain": [
       "id         3.0\n",
       "number    42.5\n",
       "dtype: float64"
      ]
     },
     "execution_count": 12,
     "metadata": {},
     "output_type": "execute_result"
    }
   ],
   "source": [
    "parameter.query('id > 1').median()"
   ]
  },
  {
   "cell_type": "markdown",
   "metadata": {},
   "source": [
    "Разобьем сети на 4 группы и посмотрим, в какой группе больше всего сетей. "
   ]
  },
  {
   "cell_type": "code",
   "execution_count": 13,
   "metadata": {},
   "outputs": [
    {
     "data": {
      "text/plain": [
       "object_name    282\n",
       "id             282\n",
       "number         282\n",
       "dtype: int64"
      ]
     },
     "execution_count": 13,
     "metadata": {},
     "output_type": "execute_result"
    }
   ],
   "source": [
    "#количество сетей с небольшим числом посадочных мест и небольшим числом заведений в сети\n",
    "\n",
    "parameter.query('id <= 3 and number <= 42').count() "
   ]
  },
  {
   "cell_type": "code",
   "execution_count": 14,
   "metadata": {},
   "outputs": [
    {
     "data": {
      "text/plain": [
       "object_name    311\n",
       "id             311\n",
       "number         311\n",
       "dtype: int64"
      ]
     },
     "execution_count": 14,
     "metadata": {},
     "output_type": "execute_result"
    }
   ],
   "source": [
    "#количество сетей с большим числом посадочных мест и небольшим числом заведений в сети\n",
    "\n",
    "parameter.query('id <= 3 and number > 42').count() "
   ]
  },
  {
   "cell_type": "code",
   "execution_count": 15,
   "metadata": {},
   "outputs": [
    {
     "data": {
      "text/plain": [
       "object_name    69\n",
       "id             69\n",
       "number         69\n",
       "dtype: int64"
      ]
     },
     "execution_count": 15,
     "metadata": {},
     "output_type": "execute_result"
    }
   ],
   "source": [
    "#количество сетей с небольшим числом посадочных мест и большим числом заведений в сети\n",
    "\n",
    "parameter.query('id > 3 and number <= 42').count() "
   ]
  },
  {
   "cell_type": "code",
   "execution_count": 16,
   "metadata": {},
   "outputs": [
    {
     "data": {
      "text/plain": [
       "object_name    62\n",
       "id             62\n",
       "number         62\n",
       "dtype: int64"
      ]
     },
     "execution_count": 16,
     "metadata": {},
     "output_type": "execute_result"
    }
   ],
   "source": [
    "parameter.query('id > 3 and number > 42').count() "
   ]
  },
  {
   "cell_type": "markdown",
   "metadata": {},
   "source": [
    "Следовательно, если взять случайную сеть, то вероятность встретить сеть с большим числом посадочных мест и небольшим числом заведений в сети больше.\n",
    "Проанализируем какой вид предоставляет в среднем самое большое количество посадочных мест."
   ]
  },
  {
   "cell_type": "code",
   "execution_count": 17,
   "metadata": {},
   "outputs": [
    {
     "data": {
      "image/png": "[encoded data removed]",
      "text/plain": [
       "<Figure size 1080x288 with 1 Axes>"
      ]
     },
     "metadata": {},
     "output_type": "display_data"
    }
   ],
   "source": [
    "plt.figure(figsize=(15,4))\n",
    "sns.barplot(data=rest_data, x='object_type', y='number')\n",
    "\n",
    "plt.title('Среднее количество посадочных мест')\n",
    "plt.xlabel('Объекты')\n",
    "plt.ylabel('Количество')\n",
    "plt.rcParams['figure.facecolor'] = '#f8f6f2'\n",
    "\n",
    "old_ticks, old_labels = plt.xticks()\n",
    "plt.xticks(old_ticks, ['\\n'.join(label.get_text().split()) for label in old_labels])\n",
    "\n",
    "\n",
    "plt.show()"
   ]
  },
  {
   "cell_type": "markdown",
   "metadata": {},
   "source": [
    "В среднем самое большое количество посадочных мест в столовых и ресторанах.\n",
    "\n",
    "Выделим в отдельный столбец информацию об улице из столбца `address`."
   ]
  },
  {
   "cell_type": "code",
   "execution_count": 18,
   "metadata": {},
   "outputs": [
    {
     "data": {
      "text/html": [
       "<div>\n",
       "<style scoped>\n",
       "    .dataframe tbody tr th:only-of-type {\n",
       "        vertical-align: middle;\n",
       "    }\n",
       "\n",
       "    .dataframe tbody tr th {\n",
       "        vertical-align: top;\n",
       "    }\n",
       "\n",
       "    .dataframe thead th {\n",
       "        text-align: right;\n",
       "    }\n",
       "</style>\n",
       "<table border=\"1\" class=\"dataframe\">\n",
       "  <thead>\n",
       "    <tr style=\"text-align: right;\">\n",
       "      <th></th>\n",
       "      <th>id</th>\n",
       "      <th>object_name</th>\n",
       "      <th>chain</th>\n",
       "      <th>object_type</th>\n",
       "      <th>address</th>\n",
       "      <th>number</th>\n",
       "      <th>street</th>\n",
       "    </tr>\n",
       "  </thead>\n",
       "  <tbody>\n",
       "    <tr>\n",
       "      <th>0</th>\n",
       "      <td>151635</td>\n",
       "      <td>СМЕТАНА</td>\n",
       "      <td>нет</td>\n",
       "      <td>кафе</td>\n",
       "      <td>город Москва, улица Егора Абакумова, дом 9</td>\n",
       "      <td>48</td>\n",
       "      <td>улица Егора Абакумова</td>\n",
       "    </tr>\n",
       "    <tr>\n",
       "      <th>1</th>\n",
       "      <td>77874</td>\n",
       "      <td>Родник</td>\n",
       "      <td>нет</td>\n",
       "      <td>кафе</td>\n",
       "      <td>город Москва, улица Талалихина, дом 2/1, корпус 1</td>\n",
       "      <td>35</td>\n",
       "      <td>улица Талалихина</td>\n",
       "    </tr>\n",
       "    <tr>\n",
       "      <th>2</th>\n",
       "      <td>24309</td>\n",
       "      <td>Кафе «Академия»</td>\n",
       "      <td>нет</td>\n",
       "      <td>кафе</td>\n",
       "      <td>город Москва, Абельмановская улица, дом 6</td>\n",
       "      <td>95</td>\n",
       "      <td>Абельмановская улица</td>\n",
       "    </tr>\n",
       "    <tr>\n",
       "      <th>3</th>\n",
       "      <td>21894</td>\n",
       "      <td>ПИЦЦЕТОРИЯ</td>\n",
       "      <td>да</td>\n",
       "      <td>кафе</td>\n",
       "      <td>город Москва, Абрамцевская улица, дом 1</td>\n",
       "      <td>40</td>\n",
       "      <td>Абрамцевская улица</td>\n",
       "    </tr>\n",
       "    <tr>\n",
       "      <th>4</th>\n",
       "      <td>119365</td>\n",
       "      <td>Кафе «Вишневая метель»</td>\n",
       "      <td>нет</td>\n",
       "      <td>кафе</td>\n",
       "      <td>город Москва, Абрамцевская улица, дом 9, корпус 1</td>\n",
       "      <td>50</td>\n",
       "      <td>Абрамцевская улица</td>\n",
       "    </tr>\n",
       "    <tr>\n",
       "      <th>...</th>\n",
       "      <td>...</td>\n",
       "      <td>...</td>\n",
       "      <td>...</td>\n",
       "      <td>...</td>\n",
       "      <td>...</td>\n",
       "      <td>...</td>\n",
       "      <td>...</td>\n",
       "    </tr>\n",
       "    <tr>\n",
       "      <th>15361</th>\n",
       "      <td>208537</td>\n",
       "      <td>Шоколадница</td>\n",
       "      <td>да</td>\n",
       "      <td>кафе</td>\n",
       "      <td>город Москва, 3-й Крутицкий переулок, дом 18</td>\n",
       "      <td>50</td>\n",
       "      <td>3-й Крутицкий переулок</td>\n",
       "    </tr>\n",
       "    <tr>\n",
       "      <th>15362</th>\n",
       "      <td>209264</td>\n",
       "      <td>Шоколадница</td>\n",
       "      <td>да</td>\n",
       "      <td>кафе</td>\n",
       "      <td>город Москва, улица Земляной Вал, дом 33</td>\n",
       "      <td>10</td>\n",
       "      <td>улица Земляной Вал</td>\n",
       "    </tr>\n",
       "    <tr>\n",
       "      <th>15363</th>\n",
       "      <td>209186</td>\n",
       "      <td>Шоколадница</td>\n",
       "      <td>да</td>\n",
       "      <td>кафе</td>\n",
       "      <td>город Москва, улица Земляной Вал, дом 33</td>\n",
       "      <td>20</td>\n",
       "      <td>улица Земляной Вал</td>\n",
       "    </tr>\n",
       "    <tr>\n",
       "      <th>15364</th>\n",
       "      <td>221900</td>\n",
       "      <td>Шоколадница</td>\n",
       "      <td>да</td>\n",
       "      <td>кафе</td>\n",
       "      <td>город Москва, поселение Московский, Киевское ш...</td>\n",
       "      <td>36</td>\n",
       "      <td>Киевское шоссе</td>\n",
       "    </tr>\n",
       "    <tr>\n",
       "      <th>15365</th>\n",
       "      <td>222535</td>\n",
       "      <td>Шоколадница</td>\n",
       "      <td>да</td>\n",
       "      <td>кафе</td>\n",
       "      <td>город Москва, Ходынский бульвар, дом 4</td>\n",
       "      <td>10</td>\n",
       "      <td>Ходынский бульвар</td>\n",
       "    </tr>\n",
       "  </tbody>\n",
       "</table>\n",
       "<p>15366 rows × 7 columns</p>\n",
       "</div>"
      ],
      "text/plain": [
       "           id             object_name chain object_type  \\\n",
       "0      151635                 СМЕТАНА   нет        кафе   \n",
       "1       77874                  Родник   нет        кафе   \n",
       "2       24309         Кафе «Академия»   нет        кафе   \n",
       "3       21894              ПИЦЦЕТОРИЯ    да        кафе   \n",
       "4      119365  Кафе «Вишневая метель»   нет        кафе   \n",
       "...       ...                     ...   ...         ...   \n",
       "15361  208537             Шоколадница    да        кафе   \n",
       "15362  209264             Шоколадница    да        кафе   \n",
       "15363  209186             Шоколадница    да        кафе   \n",
       "15364  221900             Шоколадница    да        кафе   \n",
       "15365  222535             Шоколадница    да        кафе   \n",
       "\n",
       "                                                 address  number  \\\n",
       "0             город Москва, улица Егора Абакумова, дом 9      48   \n",
       "1      город Москва, улица Талалихина, дом 2/1, корпус 1      35   \n",
       "2              город Москва, Абельмановская улица, дом 6      95   \n",
       "3                город Москва, Абрамцевская улица, дом 1      40   \n",
       "4      город Москва, Абрамцевская улица, дом 9, корпус 1      50   \n",
       "...                                                  ...     ...   \n",
       "15361       город Москва, 3-й Крутицкий переулок, дом 18      50   \n",
       "15362           город Москва, улица Земляной Вал, дом 33      10   \n",
       "15363           город Москва, улица Земляной Вал, дом 33      20   \n",
       "15364  город Москва, поселение Московский, Киевское ш...      36   \n",
       "15365             город Москва, Ходынский бульвар, дом 4      10   \n",
       "\n",
       "                        street  \n",
       "0        улица Егора Абакумова  \n",
       "1             улица Талалихина  \n",
       "2         Абельмановская улица  \n",
       "3           Абрамцевская улица  \n",
       "4           Абрамцевская улица  \n",
       "...                        ...  \n",
       "15361   3-й Крутицкий переулок  \n",
       "15362       улица Земляной Вал  \n",
       "15363       улица Земляной Вал  \n",
       "15364           Киевское шоссе  \n",
       "15365        Ходынский бульвар  \n",
       "\n",
       "[15366 rows x 7 columns]"
      ]
     },
     "execution_count": 18,
     "metadata": {},
     "output_type": "execute_result"
    }
   ],
   "source": [
    "street_types = ['улица', 'переулок', 'проспект', 'проезд', 'линия', 'бульвар', 'шоссе', 'тракт', 'магистраль', 'набережная']\n",
    "\n",
    "def rest_row(row):\n",
    "    for address_part in row['address'].split(','):\n",
    "        for t in street_types:\n",
    "            if t in address_part:\n",
    "                return address_part\n",
    " \n",
    "rest_data['street'] = rest_data.apply(rest_row, axis = 1) \n",
    "\n",
    "rest_data #проверяем результат\n"
   ]
  },
  {
   "cell_type": "markdown",
   "metadata": {},
   "source": [
    "Построим график топ-10 улиц по количеству объектов общественного питания."
   ]
  },
  {
   "cell_type": "code",
   "execution_count": 21,
   "metadata": {},
   "outputs": [
    {
     "data": {
      "image/png": "[encoded data removed]",
      "text/plain": [
       "<Figure size 1080x288 with 1 Axes>"
      ]
     },
     "metadata": {},
     "output_type": "display_data"
    }
   ],
   "source": [
    "best_street = (\n",
    "    rest_data.groupby('street')\n",
    "    .agg({'id':  'count',  'number': 'sum'})\n",
    "    .rename(columns={\"id\": \"count\", \"number\": \"median\"})\n",
    "    .sort_values(by='count', ascending=False)\n",
    "    .reset_index()\n",
    "    .head(10)\n",
    ")\n",
    "\n",
    "fig = plt.figure(figsize=(15,4))\n",
    "sns.barplot(data=best_street, x='street', y='count')\n",
    "plt.rcParams['figure.facecolor'] = '#f8f6f2'\n",
    "plt.title('Топ-10 улиц  по количеству объектов')\n",
    "plt.xlabel('Улицы')\n",
    "plt.ylabel('Количество')\n",
    "\n",
    "old_ticks, old_labels = plt.xticks()\n",
    "plt.xticks(old_ticks, ['\\n'.join(label.get_text().split()) for label in old_labels])\n",
    "\n",
    "plt.show()"
   ]
  },
  {
   "cell_type": "markdown",
   "metadata": {},
   "source": [
    "Отобразим все районы, через которые проходит каждая улица:\n",
    "* `Проспект Мира` - Алексеевский район, Ярославский Район, Район Марьина роща, Останкинский район, Район Ростокино, Район Свиблово\n",
    "* `Профсоюзная улица` - Академический район, Район Черемушки, Район Ясенево, Район Коньково, Обручевский район, Район Теплый Стан\n",
    "* `Ленинградский проспект` - Район Аэропорт, Район Беговой, Хорошевский район, Район Сокол\n",
    "* `Варшавское шоссе` - Район Чертаново Центральное, Район Чертаново Северное, Район Чертаново Южное, Донской район, Район Нагатино-Садовники, Нагорный район, Район Северное Бутово, Район Южное Бутово\n",
    "* `Ленинский проспект` - Район Проспект Вернадского, Район Тропарево-Никулино, Донской район, Район Гагаринский, Ломоносовский район, Обручевский район, Район Теплый Стан, Район Якиманка\n",
    "* `Проспект Вернадского` - Район Проспект Вернадского, Район Раменки, Район Тропарево-Никулино, Район Гагаринский, Ломоносовский район\n",
    "* `Кутузовский проспект` - Район Дорогомилово, Район Фили-Давыдково\n",
    "* `Каширское шоссе` - Район Москворечье-Сабурово, Район Нагатино-Садовники, Район Орехово-Борисово Южное, Район Орехово-Борисово Северное\n",
    "* `Кировоградская улица` - Район Чертаново Центральное, Район Чертаново Северное, Район Чертаново Южное\n",
    "* `Ходынский бульвар` - Хорошевский район\n",
    "\n",
    "Самые распространенные районы - Чертаново, Гагаринский, Донской.\n",
    "\n",
    "Найдем районы с одним объектом общественного питания. "
   ]
  },
  {
   "cell_type": "code",
   "execution_count": 22,
   "metadata": {
    "scrolled": true
   },
   "outputs": [
    {
     "data": {
      "text/html": [
       "<div>\n",
       "<style scoped>\n",
       "    .dataframe tbody tr th:only-of-type {\n",
       "        vertical-align: middle;\n",
       "    }\n",
       "\n",
       "    .dataframe tbody tr th {\n",
       "        vertical-align: top;\n",
       "    }\n",
       "\n",
       "    .dataframe thead th {\n",
       "        text-align: right;\n",
       "    }\n",
       "</style>\n",
       "<table border=\"1\" class=\"dataframe\">\n",
       "  <thead>\n",
       "    <tr style=\"text-align: right;\">\n",
       "      <th></th>\n",
       "      <th>id</th>\n",
       "      <th>object_name</th>\n",
       "      <th>chain</th>\n",
       "      <th>object_type</th>\n",
       "      <th>address</th>\n",
       "      <th>number</th>\n",
       "      <th>street</th>\n",
       "      <th>district</th>\n",
       "      <th>adm_area</th>\n",
       "    </tr>\n",
       "  </thead>\n",
       "  <tbody>\n",
       "    <tr>\n",
       "      <th>0</th>\n",
       "      <td>153644</td>\n",
       "      <td>Американская Лаборатория Десертов</td>\n",
       "      <td>нет</td>\n",
       "      <td>кафе</td>\n",
       "      <td>город Москва, Филипповский переулок, дом 15/5</td>\n",
       "      <td>20</td>\n",
       "      <td>Филипповский переулок</td>\n",
       "      <td>район Арбат</td>\n",
       "      <td>Центральный административный округ</td>\n",
       "    </tr>\n",
       "    <tr>\n",
       "      <th>1</th>\n",
       "      <td>22139</td>\n",
       "      <td>ХуанХэ</td>\n",
       "      <td>нет</td>\n",
       "      <td>ресторан</td>\n",
       "      <td>город Москва, 1-й Балтийский переулок, дом 3/25</td>\n",
       "      <td>60</td>\n",
       "      <td>1-й Балтийский переулок</td>\n",
       "      <td>район Аэропорт</td>\n",
       "      <td>Северный административный округ</td>\n",
       "    </tr>\n",
       "    <tr>\n",
       "      <th>2</th>\n",
       "      <td>25833</td>\n",
       "      <td>АЗЕРБАЙДЖАН</td>\n",
       "      <td>нет</td>\n",
       "      <td>ресторан</td>\n",
       "      <td>город Москва, улица Демьяна Бедного, дом 4</td>\n",
       "      <td>180</td>\n",
       "      <td>улица Демьяна Бедного</td>\n",
       "      <td>район Хорошёво-Мнёвники</td>\n",
       "      <td>Северо-Западный административный округ</td>\n",
       "    </tr>\n",
       "    <tr>\n",
       "      <th>3</th>\n",
       "      <td>24646</td>\n",
       "      <td>Угол</td>\n",
       "      <td>нет</td>\n",
       "      <td>кафе</td>\n",
       "      <td>город Москва, Верхняя улица, дом 3, корпус 2</td>\n",
       "      <td>71</td>\n",
       "      <td>Верхняя улица</td>\n",
       "      <td>район Беговой</td>\n",
       "      <td>Северный административный округ</td>\n",
       "    </tr>\n",
       "    <tr>\n",
       "      <th>4</th>\n",
       "      <td>20632</td>\n",
       "      <td>БАР В ФИТНЕС КЛУБЕ</td>\n",
       "      <td>нет</td>\n",
       "      <td>бар</td>\n",
       "      <td>город Москва, Глазовский переулок, дом 5</td>\n",
       "      <td>4</td>\n",
       "      <td>Глазовский переулок</td>\n",
       "      <td>район Хамовники</td>\n",
       "      <td>Центральный административный округ</td>\n",
       "    </tr>\n",
       "    <tr>\n",
       "      <th>...</th>\n",
       "      <td>...</td>\n",
       "      <td>...</td>\n",
       "      <td>...</td>\n",
       "      <td>...</td>\n",
       "      <td>...</td>\n",
       "      <td>...</td>\n",
       "      <td>...</td>\n",
       "      <td>...</td>\n",
       "      <td>...</td>\n",
       "    </tr>\n",
       "    <tr>\n",
       "      <th>350</th>\n",
       "      <td>208805</td>\n",
       "      <td>Кафе</td>\n",
       "      <td>нет</td>\n",
       "      <td>кафе</td>\n",
       "      <td>город Москва, 3-й Угрешский проезд, дом 8, стр...</td>\n",
       "      <td>15</td>\n",
       "      <td>3-й Угрешский проезд</td>\n",
       "      <td>район Печатники</td>\n",
       "      <td>Юго-Восточный административный округ</td>\n",
       "    </tr>\n",
       "    <tr>\n",
       "      <th>351</th>\n",
       "      <td>211368</td>\n",
       "      <td>Пацио Пицца</td>\n",
       "      <td>нет</td>\n",
       "      <td>кафе</td>\n",
       "      <td>город Москва, улица Линии Октябрьской Железной...</td>\n",
       "      <td>20</td>\n",
       "      <td>улица Линии Октябрьской Железной Дороги</td>\n",
       "      <td>Тимирязевский район</td>\n",
       "      <td>Северный административный округ</td>\n",
       "    </tr>\n",
       "    <tr>\n",
       "      <th>352</th>\n",
       "      <td>214324</td>\n",
       "      <td>Кадаши ( закрытый)</td>\n",
       "      <td>нет</td>\n",
       "      <td>ресторан</td>\n",
       "      <td>город Москва, 2-й Кадашёвский переулок, дом 16...</td>\n",
       "      <td>15</td>\n",
       "      <td>2-й Кадашёвский переулок</td>\n",
       "      <td>район Якиманка</td>\n",
       "      <td>Центральный административный округ</td>\n",
       "    </tr>\n",
       "    <tr>\n",
       "      <th>353</th>\n",
       "      <td>223171</td>\n",
       "      <td>Кондитерская «Пряник.Рогалик»</td>\n",
       "      <td>нет</td>\n",
       "      <td>кафе</td>\n",
       "      <td>город Москва, город Троицк, Пионерская улица, ...</td>\n",
       "      <td>20</td>\n",
       "      <td>Пионерская улица</td>\n",
       "      <td>поселение Троицк</td>\n",
       "      <td>Троицкий административный округ</td>\n",
       "    </tr>\n",
       "    <tr>\n",
       "      <th>354</th>\n",
       "      <td>205588</td>\n",
       "      <td>Кофейня</td>\n",
       "      <td>нет</td>\n",
       "      <td>кафетерий</td>\n",
       "      <td>город Москва, поселение Щаповское, улица Евген...</td>\n",
       "      <td>16</td>\n",
       "      <td>улица Евгения Родионова</td>\n",
       "      <td>поселение Щаповское</td>\n",
       "      <td>Троицкий административный округ</td>\n",
       "    </tr>\n",
       "  </tbody>\n",
       "</table>\n",
       "<p>355 rows × 9 columns</p>\n",
       "</div>"
      ],
      "text/plain": [
       "         id                        object_name chain object_type  \\\n",
       "0    153644  Американская Лаборатория Десертов   нет        кафе   \n",
       "1     22139                             ХуанХэ   нет    ресторан   \n",
       "2     25833                        АЗЕРБАЙДЖАН   нет    ресторан   \n",
       "3     24646                               Угол   нет        кафе   \n",
       "4     20632                 БАР В ФИТНЕС КЛУБЕ   нет         бар   \n",
       "..      ...                                ...   ...         ...   \n",
       "350  208805                               Кафе   нет        кафе   \n",
       "351  211368                        Пацио Пицца   нет        кафе   \n",
       "352  214324                 Кадаши ( закрытый)   нет    ресторан   \n",
       "353  223171      Кондитерская «Пряник.Рогалик»   нет        кафе   \n",
       "354  205588                            Кофейня   нет   кафетерий   \n",
       "\n",
       "                                               address  number  \\\n",
       "0        город Москва, Филипповский переулок, дом 15/5      20   \n",
       "1      город Москва, 1-й Балтийский переулок, дом 3/25      60   \n",
       "2           город Москва, улица Демьяна Бедного, дом 4     180   \n",
       "3         город Москва, Верхняя улица, дом 3, корпус 2      71   \n",
       "4             город Москва, Глазовский переулок, дом 5       4   \n",
       "..                                                 ...     ...   \n",
       "350  город Москва, 3-й Угрешский проезд, дом 8, стр...      15   \n",
       "351  город Москва, улица Линии Октябрьской Железной...      20   \n",
       "352  город Москва, 2-й Кадашёвский переулок, дом 16...      15   \n",
       "353  город Москва, город Троицк, Пионерская улица, ...      20   \n",
       "354  город Москва, поселение Щаповское, улица Евген...      16   \n",
       "\n",
       "                                       street                 district  \\\n",
       "0                       Филипповский переулок              район Арбат   \n",
       "1                     1-й Балтийский переулок           район Аэропорт   \n",
       "2                       улица Демьяна Бедного  район Хорошёво-Мнёвники   \n",
       "3                               Верхняя улица            район Беговой   \n",
       "4                         Глазовский переулок          район Хамовники   \n",
       "..                                        ...                      ...   \n",
       "350                      3-й Угрешский проезд          район Печатники   \n",
       "351   улица Линии Октябрьской Железной Дороги      Тимирязевский район   \n",
       "352                  2-й Кадашёвский переулок           район Якиманка   \n",
       "353                          Пионерская улица         поселение Троицк   \n",
       "354                   улица Евгения Родионова      поселение Щаповское   \n",
       "\n",
       "                                   adm_area  \n",
       "0        Центральный административный округ  \n",
       "1           Северный административный округ  \n",
       "2    Северо-Западный административный округ  \n",
       "3           Северный административный округ  \n",
       "4        Центральный административный округ  \n",
       "..                                      ...  \n",
       "350    Юго-Восточный административный округ  \n",
       "351         Северный административный округ  \n",
       "352      Центральный административный округ  \n",
       "353         Троицкий административный округ  \n",
       "354         Троицкий административный округ  \n",
       "\n",
       "[355 rows x 9 columns]"
      ]
     },
     "execution_count": 22,
     "metadata": {},
     "output_type": "execute_result"
    }
   ],
   "source": [
    "sheet_id = \"15Ov5Pgyp0Mx_YRos6ysnwxiyNTNXcl4mVurZYbr8UrU\"\n",
    "sheet_name = \"data-4275-2022-05-101\"\n",
    "url = f\"https://docs.google.com/spreadsheets/d/{sheet_id}/gviz/tq?tqx=out:csv&sheet={sheet_name}\"\n",
    "\n",
    "data_districts = pd.read_csv(url).rename(columns={'District' : 'district', 'AdmArea' : 'adm_area', 'Address' : 'address'})[['district','adm_area','address']].drop_duplicates()\n",
    "\n",
    "one_object_sreet = rest_data.groupby('street').agg(id=('id','count'))\n",
    "one_object_sreet = one_object_sreet[one_object_sreet['id'] == 1]\n",
    "\n",
    "data_demo = rest_data[rest_data['street'].isin(one_object_sreet.index)].merge(data_districts, on='address')\n",
    "\n",
    "data_demo"
   ]
  },
  {
   "cell_type": "code",
   "execution_count": 23,
   "metadata": {},
   "outputs": [
    {
     "data": {
      "text/html": [
       "<div>\n",
       "<style scoped>\n",
       "    .dataframe tbody tr th:only-of-type {\n",
       "        vertical-align: middle;\n",
       "    }\n",
       "\n",
       "    .dataframe tbody tr th {\n",
       "        vertical-align: top;\n",
       "    }\n",
       "\n",
       "    .dataframe thead th {\n",
       "        text-align: right;\n",
       "    }\n",
       "</style>\n",
       "<table border=\"1\" class=\"dataframe\">\n",
       "  <thead>\n",
       "    <tr style=\"text-align: right;\">\n",
       "      <th></th>\n",
       "      <th>id</th>\n",
       "    </tr>\n",
       "    <tr>\n",
       "      <th>street</th>\n",
       "      <th></th>\n",
       "    </tr>\n",
       "  </thead>\n",
       "  <tbody>\n",
       "    <tr>\n",
       "      <th>1-й Балтийский переулок</th>\n",
       "      <td>1</td>\n",
       "    </tr>\n",
       "    <tr>\n",
       "      <th>1-й Басманный переулок</th>\n",
       "      <td>1</td>\n",
       "    </tr>\n",
       "    <tr>\n",
       "      <th>1-й Ботанический проезд</th>\n",
       "      <td>1</td>\n",
       "    </tr>\n",
       "    <tr>\n",
       "      <th>1-й Вешняковский проезд</th>\n",
       "      <td>1</td>\n",
       "    </tr>\n",
       "    <tr>\n",
       "      <th>1-й Голутвинский переулок</th>\n",
       "      <td>1</td>\n",
       "    </tr>\n",
       "    <tr>\n",
       "      <th>...</th>\n",
       "      <td>...</td>\n",
       "    </tr>\n",
       "    <tr>\n",
       "      <th>улица Знаменка</th>\n",
       "      <td>1</td>\n",
       "    </tr>\n",
       "    <tr>\n",
       "      <th>улица Каманина</th>\n",
       "      <td>1</td>\n",
       "    </tr>\n",
       "    <tr>\n",
       "      <th>улица Миклухо-Маклая</th>\n",
       "      <td>1</td>\n",
       "    </tr>\n",
       "    <tr>\n",
       "      <th>улица Обручева</th>\n",
       "      <td>1</td>\n",
       "    </tr>\n",
       "    <tr>\n",
       "      <th>улица Сергея Макеева</th>\n",
       "      <td>1</td>\n",
       "    </tr>\n",
       "  </tbody>\n",
       "</table>\n",
       "<p>569 rows × 1 columns</p>\n",
       "</div>"
      ],
      "text/plain": [
       "                            id\n",
       "street                        \n",
       " 1-й Балтийский переулок     1\n",
       " 1-й Басманный переулок      1\n",
       " 1-й Ботанический проезд     1\n",
       " 1-й Вешняковский проезд     1\n",
       " 1-й Голутвинский переулок   1\n",
       "...                         ..\n",
       "улица Знаменка               1\n",
       "улица Каманина               1\n",
       "улица Миклухо-Маклая         1\n",
       "улица Обручева               1\n",
       "улица Сергея Макеева         1\n",
       "\n",
       "[569 rows x 1 columns]"
      ]
     },
     "execution_count": 23,
     "metadata": {},
     "output_type": "execute_result"
    }
   ],
   "source": [
    "one_object_sreet"
   ]
  },
  {
   "cell_type": "code",
   "execution_count": 24,
   "metadata": {},
   "outputs": [
    {
     "data": {
      "text/html": [
       "<div>\n",
       "<style scoped>\n",
       "    .dataframe tbody tr th:only-of-type {\n",
       "        vertical-align: middle;\n",
       "    }\n",
       "\n",
       "    .dataframe tbody tr th {\n",
       "        vertical-align: top;\n",
       "    }\n",
       "\n",
       "    .dataframe thead th {\n",
       "        text-align: right;\n",
       "    }\n",
       "</style>\n",
       "<table border=\"1\" class=\"dataframe\">\n",
       "  <thead>\n",
       "    <tr style=\"text-align: right;\">\n",
       "      <th></th>\n",
       "      <th>object_name</th>\n",
       "    </tr>\n",
       "    <tr>\n",
       "      <th>district</th>\n",
       "      <th></th>\n",
       "    </tr>\n",
       "  </thead>\n",
       "  <tbody>\n",
       "    <tr>\n",
       "      <th>Войковский район</th>\n",
       "      <td>1</td>\n",
       "    </tr>\n",
       "    <tr>\n",
       "      <th>Останкинский район</th>\n",
       "      <td>1</td>\n",
       "    </tr>\n",
       "    <tr>\n",
       "      <th>поселение Внуковское</th>\n",
       "      <td>1</td>\n",
       "    </tr>\n",
       "    <tr>\n",
       "      <th>поселение Десеновское</th>\n",
       "      <td>1</td>\n",
       "    </tr>\n",
       "    <tr>\n",
       "      <th>поселение Кленовское</th>\n",
       "      <td>1</td>\n",
       "    </tr>\n",
       "    <tr>\n",
       "      <th>поселение Сосенское</th>\n",
       "      <td>1</td>\n",
       "    </tr>\n",
       "    <tr>\n",
       "      <th>поселение Щаповское</th>\n",
       "      <td>1</td>\n",
       "    </tr>\n",
       "    <tr>\n",
       "      <th>район Бирюлёво Восточное</th>\n",
       "      <td>1</td>\n",
       "    </tr>\n",
       "    <tr>\n",
       "      <th>район Бирюлёво Западное</th>\n",
       "      <td>1</td>\n",
       "    </tr>\n",
       "    <tr>\n",
       "      <th>район Восточное Измайлово</th>\n",
       "      <td>1</td>\n",
       "    </tr>\n",
       "    <tr>\n",
       "      <th>район Восточный</th>\n",
       "      <td>1</td>\n",
       "    </tr>\n",
       "    <tr>\n",
       "      <th>район Гольяново</th>\n",
       "      <td>1</td>\n",
       "    </tr>\n",
       "    <tr>\n",
       "      <th>район Западное Дегунино</th>\n",
       "      <td>1</td>\n",
       "    </tr>\n",
       "    <tr>\n",
       "      <th>район Измайлово</th>\n",
       "      <td>1</td>\n",
       "    </tr>\n",
       "    <tr>\n",
       "      <th>район Капотня</th>\n",
       "      <td>1</td>\n",
       "    </tr>\n",
       "    <tr>\n",
       "      <th>район Крюково</th>\n",
       "      <td>1</td>\n",
       "    </tr>\n",
       "    <tr>\n",
       "      <th>район Левобережный</th>\n",
       "      <td>1</td>\n",
       "    </tr>\n",
       "    <tr>\n",
       "      <th>район Марфино</th>\n",
       "      <td>1</td>\n",
       "    </tr>\n",
       "    <tr>\n",
       "      <th>район Метрогородок</th>\n",
       "      <td>1</td>\n",
       "    </tr>\n",
       "    <tr>\n",
       "      <th>район Москворечье-Сабурово</th>\n",
       "      <td>1</td>\n",
       "    </tr>\n",
       "    <tr>\n",
       "      <th>район Некрасовка</th>\n",
       "      <td>1</td>\n",
       "    </tr>\n",
       "    <tr>\n",
       "      <th>район Очаково-Матвеевское</th>\n",
       "      <td>1</td>\n",
       "    </tr>\n",
       "    <tr>\n",
       "      <th>район Печатники</th>\n",
       "      <td>1</td>\n",
       "    </tr>\n",
       "    <tr>\n",
       "      <th>район Преображенское</th>\n",
       "      <td>1</td>\n",
       "    </tr>\n",
       "    <tr>\n",
       "      <th>район Савёлки</th>\n",
       "      <td>1</td>\n",
       "    </tr>\n",
       "    <tr>\n",
       "      <th>район Северное Измайлово</th>\n",
       "      <td>1</td>\n",
       "    </tr>\n",
       "    <tr>\n",
       "      <th>район Северный</th>\n",
       "      <td>1</td>\n",
       "    </tr>\n",
       "    <tr>\n",
       "      <th>район Сокол</th>\n",
       "      <td>1</td>\n",
       "    </tr>\n",
       "    <tr>\n",
       "      <th>район Строгино</th>\n",
       "      <td>1</td>\n",
       "    </tr>\n",
       "    <tr>\n",
       "      <th>район Филёвский Парк</th>\n",
       "      <td>1</td>\n",
       "    </tr>\n",
       "    <tr>\n",
       "      <th>район Чертаново Южное</th>\n",
       "      <td>1</td>\n",
       "    </tr>\n",
       "  </tbody>\n",
       "</table>\n",
       "</div>"
      ],
      "text/plain": [
       "                            object_name\n",
       "district                               \n",
       "Войковский район                      1\n",
       "Останкинский район                    1\n",
       "поселение Внуковское                  1\n",
       "поселение Десеновское                 1\n",
       "поселение Кленовское                  1\n",
       "поселение Сосенское                   1\n",
       "поселение Щаповское                   1\n",
       "район Бирюлёво Восточное              1\n",
       "район Бирюлёво Западное               1\n",
       "район Восточное Измайлово             1\n",
       "район Восточный                       1\n",
       "район Гольяново                       1\n",
       "район Западное Дегунино               1\n",
       "район Измайлово                       1\n",
       "район Капотня                         1\n",
       "район Крюково                         1\n",
       "район Левобережный                    1\n",
       "район Марфино                         1\n",
       "район Метрогородок                    1\n",
       "район Москворечье-Сабурово            1\n",
       "район Некрасовка                      1\n",
       "район Очаково-Матвеевское             1\n",
       "район Печатники                       1\n",
       "район Преображенское                  1\n",
       "район Савёлки                         1\n",
       "район Северное Измайлово              1\n",
       "район Северный                        1\n",
       "район Сокол                           1\n",
       "район Строгино                        1\n",
       "район Филёвский Парк                  1\n",
       "район Чертаново Южное                 1"
      ]
     },
     "execution_count": 24,
     "metadata": {},
     "output_type": "execute_result"
    }
   ],
   "source": [
    "one_object_sreet = (\n",
    "    data_demo.groupby('district')\n",
    "    .agg({'object_name':  'count'})\n",
    "    .query('object_name == 1')\n",
    ")\n",
    "one_object_sreet.count()\n",
    "one_object_sreet"
   ]
  },
  {
   "cell_type": "code",
   "execution_count": 25,
   "metadata": {
    "scrolled": true
   },
   "outputs": [
    {
     "data": {
      "text/plain": [
       "Таганский район        21\n",
       "Пресненский район      17\n",
       "Басманный район        16\n",
       "район Хамовники        15\n",
       "Тверской район         13\n",
       "                       ..\n",
       "район Восточный         1\n",
       "район Гольяново         1\n",
       "район Капотня           1\n",
       "район Строгино          1\n",
       "поселение Щаповское     1\n",
       "Name: district, Length: 98, dtype: int64"
      ]
     },
     "execution_count": 25,
     "metadata": {},
     "output_type": "execute_result"
    }
   ],
   "source": [
    "data_demo['district'].value_counts()"
   ]
  },
  {
   "cell_type": "markdown",
   "metadata": {},
   "source": [
    "Улицы с одним заведением чаще всего встречаются в Таганском, Пресненском и Басманном районах."
   ]
  },
  {
   "cell_type": "markdown",
   "metadata": {},
   "source": [
    "**Вывод**\n",
    "* Самые распространенные объекты общественного питания - кафе, столовые и рестораны;\n",
    "* Самое большое количество посадочных мест в столовых и ресторанах;\n",
    "* Количество несетевых заведений превышает количество сетевых;\n",
    "* Сетевое распространение характерно для предприятий быстрого обслуживания;\n",
    "* Самые распространенные районы - Чертаново, Гагаринский, Донской;\n",
    "* Улицы с одним заведением чаще всего встречаются в Таганском, Пресненском и Басманном районах;\n",
    "* Вероятность встретить сеть с большим числом посадочных мест и небольшим числом заведений в сети больше.\n",
    "\n",
    "После анализа данных можно дать следующиие рекомендации для отрытия заведения: следует выбирать сетевые объекты на большим количеством посадочных мест в районах Чертаново, Гагаринский, Донской. Сетевые заведения можно развивать, добавляя новые объекты в новые части города. "
   ]
  },
  {
   "cell_type": "code",
   "execution_count": 26,
   "metadata": {},
   "outputs": [
    {
     "data": {
      "text/html": [
       "<div>\n",
       "<style scoped>\n",
       "    .dataframe tbody tr th:only-of-type {\n",
       "        vertical-align: middle;\n",
       "    }\n",
       "\n",
       "    .dataframe tbody tr th {\n",
       "        vertical-align: top;\n",
       "    }\n",
       "\n",
       "    .dataframe thead th {\n",
       "        text-align: right;\n",
       "    }\n",
       "</style>\n",
       "<table border=\"1\" class=\"dataframe\">\n",
       "  <thead>\n",
       "    <tr style=\"text-align: right;\">\n",
       "      <th></th>\n",
       "      <th></th>\n",
       "      <th>count</th>\n",
       "    </tr>\n",
       "    <tr>\n",
       "      <th>street</th>\n",
       "      <th>district</th>\n",
       "      <th></th>\n",
       "    </tr>\n",
       "  </thead>\n",
       "  <tbody>\n",
       "    <tr>\n",
       "      <th>Пресненская набережная</th>\n",
       "      <th>Пресненский район</th>\n",
       "      <td>167</td>\n",
       "    </tr>\n",
       "    <tr>\n",
       "      <th>Ходынский бульвар</th>\n",
       "      <th>Хорошёвский район</th>\n",
       "      <td>99</td>\n",
       "    </tr>\n",
       "    <tr>\n",
       "      <th>улица Новый Арбат</th>\n",
       "      <th>район Арбат</th>\n",
       "      <td>87</td>\n",
       "    </tr>\n",
       "    <tr>\n",
       "      <th>Кировоградская улица</th>\n",
       "      <th>район Чертаново Центральное</th>\n",
       "      <td>78</td>\n",
       "    </tr>\n",
       "    <tr>\n",
       "      <th>улица Ленинская Слобода</th>\n",
       "      <th>Даниловский район</th>\n",
       "      <td>78</td>\n",
       "    </tr>\n",
       "    <tr>\n",
       "      <th>улица Сущёвский Вал</th>\n",
       "      <th>район Марьина Роща</th>\n",
       "      <td>72</td>\n",
       "    </tr>\n",
       "    <tr>\n",
       "      <th>улица Покровка</th>\n",
       "      <th>Басманный район</th>\n",
       "      <td>71</td>\n",
       "    </tr>\n",
       "    <tr>\n",
       "      <th>Ленинградское шоссе</th>\n",
       "      <th>Войковский район</th>\n",
       "      <td>71</td>\n",
       "    </tr>\n",
       "    <tr>\n",
       "      <th>Пятницкая улица</th>\n",
       "      <th>район Замоскворечье</th>\n",
       "      <td>67</td>\n",
       "    </tr>\n",
       "    <tr>\n",
       "      <th>улица Арбат</th>\n",
       "      <th>район Арбат</th>\n",
       "      <td>64</td>\n",
       "    </tr>\n",
       "  </tbody>\n",
       "</table>\n",
       "</div>"
      ],
      "text/plain": [
       "                                                      count\n",
       "street                   district                          \n",
       " Пресненская набережная  Пресненский район              167\n",
       " Ходынский бульвар       Хорошёвский район               99\n",
       " улица Новый Арбат       район Арбат                     87\n",
       " Кировоградская улица    район Чертаново Центральное     78\n",
       " улица Ленинская Слобода Даниловский район               78\n",
       " улица Сущёвский Вал     район Марьина Роща              72\n",
       " улица Покровка          Басманный район                 71\n",
       " Ленинградское шоссе     Войковский район                71\n",
       " Пятницкая улица         район Замоскворечье             67\n",
       " улица Арбат             район Арбат                     64"
      ]
     },
     "execution_count": 26,
     "metadata": {},
     "output_type": "execute_result"
    }
   ],
   "source": [
    "rest_data.merge(data_districts, on='address').groupby(['street','district']).agg(count=('id','count')).sort_values(by='count',ascending=False).head(10)"
   ]
  },
  {
   "cell_type": "markdown",
   "metadata": {},
   "source": [
    "## Шаг 4. Презентация"
   ]
  },
  {
   "cell_type": "markdown",
   "metadata": {},
   "source": [
    "Презентация: https://www.canva.com/design/DAFBIp5BGfs/KXlRlLbvPO8-Lx_kmlLoYw/view?utm_content=DAFBIp5BGfs&utm_campaign=designshare&utm_medium=link2&utm_source=sharebutton"
   ]
  },
  {
   "cell_type": "markdown",
   "metadata": {},
   "source": [
    "## Общий вывод"
   ]
  },
  {
   "cell_type": "markdown",
   "metadata": {},
   "source": [
    "В исследовавании стояла задача по исследованию рынка общественного питания Москвы.\n",
    "\n",
    "Работа была разделена на 5 шагов: обзор данных, предобработка данных, анализ данных, презентация, вывод.\n",
    "\n",
    "На этапе предобработки данные были проверены на дубликаты.\n",
    "\n",
    "На этапе анализа данных были сделаны следующие выводы:\n",
    "* Самые распространенные объекты общественного питания - кафе, столовые и рестораны;\n",
    "* Самое большое количество посадочных мест в столовых и ресторанах;\n",
    "* Количество несетевых заведений превышает количество сетевых;\n",
    "* Сетевое распространение характерно для предприятий быстрого обслуживания;\n",
    "* Самые распространенные районы - Чертаново, Гагаринский, Донской;\n",
    "* Улицы с одним заведением чаще всего встречаются в Таганском, Пресненском и Басманном районах;\n",
    "* Вероятность встретить сеть с большим числом посадочных мест и небольшим числом заведений в сети больше.\n",
    "\n",
    "После анализа данных можно дать следующиие рекомендации для отрытия заведения: следует выбирать сетевые объекты на большим количеством посадочных мест в районах Чертаново, Гагаринский, Донской. Сетевые заведения можно развивать, добавляя новые объекты в новые части города. \n"
   ]
  }
 ],
 "metadata": {
  "ExecuteTimeLog": [
   {
    "duration": 54,
    "start_time": "2022-05-20T13:29:10.712Z"
   },
   {
    "duration": 1658,
    "start_time": "2022-05-20T13:29:13.558Z"
   },
   {
    "duration": 241,
    "start_time": "2022-05-20T13:29:15.218Z"
   },
   {
    "duration": 13,
    "start_time": "2022-05-20T13:29:15.460Z"
   },
   {
    "duration": 14,
    "start_time": "2022-05-20T13:29:15.475Z"
   },
   {
    "duration": 15,
    "start_time": "2022-05-20T13:29:15.491Z"
   },
   {
    "duration": 4,
    "start_time": "2022-05-20T13:29:15.508Z"
   },
   {
    "duration": 6,
    "start_time": "2022-05-20T13:29:15.514Z"
   },
   {
    "duration": 196,
    "start_time": "2022-05-20T13:29:15.522Z"
   },
   {
    "duration": 206,
    "start_time": "2022-05-20T13:29:15.720Z"
   },
   {
    "duration": 10,
    "start_time": "2022-05-20T13:29:15.928Z"
   },
   {
    "duration": 22,
    "start_time": "2022-05-20T13:29:15.940Z"
   },
   {
    "duration": 397,
    "start_time": "2022-05-20T13:29:15.964Z"
   },
   {
    "duration": 119,
    "start_time": "2022-05-20T13:29:16.362Z"
   },
   {
    "duration": 5,
    "start_time": "2022-05-20T13:29:16.482Z"
   },
   {
    "duration": 9,
    "start_time": "2022-05-20T13:29:16.488Z"
   },
   {
    "duration": 189,
    "start_time": "2022-05-20T13:29:16.498Z"
   },
   {
    "duration": 13,
    "start_time": "2022-05-20T13:29:16.689Z"
   },
   {
    "duration": 1507,
    "start_time": "2022-05-24T13:50:24.762Z"
   },
   {
    "duration": 69,
    "start_time": "2022-05-24T13:50:26.270Z"
   },
   {
    "duration": 11,
    "start_time": "2022-05-24T13:50:26.341Z"
   },
   {
    "duration": 11,
    "start_time": "2022-05-24T13:50:26.354Z"
   },
   {
    "duration": 25,
    "start_time": "2022-05-24T13:50:26.366Z"
   },
   {
    "duration": 4,
    "start_time": "2022-05-24T13:50:26.392Z"
   },
   {
    "duration": 6,
    "start_time": "2022-05-24T13:50:26.398Z"
   },
   {
    "duration": 195,
    "start_time": "2022-05-24T13:50:26.405Z"
   },
   {
    "duration": 229,
    "start_time": "2022-05-24T13:50:26.601Z"
   },
   {
    "duration": 118,
    "start_time": "2022-05-24T13:50:26.832Z"
   },
   {
    "duration": 39,
    "start_time": "2022-05-24T13:50:26.952Z"
   },
   {
    "duration": 22,
    "start_time": "2022-05-24T13:50:26.992Z"
   },
   {
    "duration": 6,
    "start_time": "2022-05-24T13:50:27.015Z"
   },
   {
    "duration": 10,
    "start_time": "2022-05-24T13:50:27.022Z"
   },
   {
    "duration": 13,
    "start_time": "2022-05-24T13:50:27.033Z"
   },
   {
    "duration": 6,
    "start_time": "2022-05-24T13:50:27.048Z"
   },
   {
    "duration": 32,
    "start_time": "2022-05-24T13:50:27.056Z"
   },
   {
    "duration": 10,
    "start_time": "2022-05-24T13:50:27.089Z"
   },
   {
    "duration": 407,
    "start_time": "2022-05-24T13:50:27.100Z"
   },
   {
    "duration": 124,
    "start_time": "2022-05-24T13:50:27.509Z"
   },
   {
    "duration": 5,
    "start_time": "2022-05-24T13:50:27.635Z"
   },
   {
    "duration": 200,
    "start_time": "2022-05-24T13:50:27.641Z"
   },
   {
    "duration": 12,
    "start_time": "2022-05-24T13:50:27.843Z"
   },
   {
    "duration": 154,
    "start_time": "2022-05-24T13:50:53.590Z"
   },
   {
    "duration": 164,
    "start_time": "2022-05-24T13:54:28.149Z"
   },
   {
    "duration": 198,
    "start_time": "2022-05-24T13:54:44.453Z"
   },
   {
    "duration": 77,
    "start_time": "2022-05-24T13:55:30.482Z"
   },
   {
    "duration": 5,
    "start_time": "2022-05-24T14:13:23.867Z"
   },
   {
    "duration": 65,
    "start_time": "2022-05-26T14:22:15.753Z"
   },
   {
    "duration": 10,
    "start_time": "2022-05-26T14:22:22.222Z"
   },
   {
    "duration": 1718,
    "start_time": "2022-05-26T14:22:25.518Z"
   },
   {
    "duration": 138,
    "start_time": "2022-05-26T14:22:27.239Z"
   },
   {
    "duration": 18,
    "start_time": "2022-05-26T14:22:27.380Z"
   },
   {
    "duration": 19,
    "start_time": "2022-05-26T14:22:27.400Z"
   },
   {
    "duration": 29,
    "start_time": "2022-05-26T14:22:27.421Z"
   },
   {
    "duration": 6,
    "start_time": "2022-05-26T14:22:27.452Z"
   },
   {
    "duration": 28,
    "start_time": "2022-05-26T14:22:27.460Z"
   },
   {
    "duration": 220,
    "start_time": "2022-05-26T14:22:27.490Z"
   },
   {
    "duration": 231,
    "start_time": "2022-05-26T14:22:27.712Z"
   },
   {
    "duration": 14,
    "start_time": "2022-05-26T14:22:27.945Z"
   },
   {
    "duration": 49,
    "start_time": "2022-05-26T14:22:27.960Z"
   },
   {
    "duration": 10,
    "start_time": "2022-05-26T14:22:28.011Z"
   },
   {
    "duration": 9,
    "start_time": "2022-05-26T14:22:28.022Z"
   },
   {
    "duration": 11,
    "start_time": "2022-05-26T14:22:28.034Z"
   },
   {
    "duration": 9,
    "start_time": "2022-05-26T14:22:28.047Z"
   },
   {
    "duration": 8,
    "start_time": "2022-05-26T14:22:28.057Z"
   },
   {
    "duration": 461,
    "start_time": "2022-05-26T14:22:28.067Z"
   },
   {
    "duration": 140,
    "start_time": "2022-05-26T14:22:28.530Z"
   },
   {
    "duration": 6,
    "start_time": "2022-05-26T14:22:28.673Z"
   },
   {
    "duration": 13,
    "start_time": "2022-05-26T14:22:28.697Z"
   },
   {
    "duration": 207,
    "start_time": "2022-05-26T14:22:28.712Z"
   },
   {
    "duration": 18,
    "start_time": "2022-05-26T14:22:28.921Z"
   },
   {
    "duration": 2972,
    "start_time": "2022-05-26T14:22:28.941Z"
   },
   {
    "duration": 1872,
    "start_time": "2022-05-26T14:22:31.916Z"
   },
   {
    "duration": 429,
    "start_time": "2022-05-26T14:29:18.940Z"
   },
   {
    "duration": 441,
    "start_time": "2022-05-26T14:29:38.213Z"
   },
   {
    "duration": 475,
    "start_time": "2022-05-26T14:29:58.547Z"
   },
   {
    "duration": 451,
    "start_time": "2022-05-26T14:30:11.920Z"
   },
   {
    "duration": 50,
    "start_time": "2022-05-27T12:10:31.011Z"
   },
   {
    "duration": 57,
    "start_time": "2022-05-27T12:11:08.884Z"
   },
   {
    "duration": 2038,
    "start_time": "2022-05-27T12:11:11.608Z"
   },
   {
    "duration": 122,
    "start_time": "2022-05-27T12:11:13.648Z"
   },
   {
    "duration": 13,
    "start_time": "2022-05-27T12:11:13.772Z"
   },
   {
    "duration": 13,
    "start_time": "2022-05-27T12:11:13.787Z"
   },
   {
    "duration": 21,
    "start_time": "2022-05-27T12:11:13.801Z"
   },
   {
    "duration": 5,
    "start_time": "2022-05-27T12:11:13.824Z"
   },
   {
    "duration": 7,
    "start_time": "2022-05-27T12:11:13.830Z"
   },
   {
    "duration": 234,
    "start_time": "2022-05-27T12:11:13.838Z"
   },
   {
    "duration": 143,
    "start_time": "2022-05-27T12:11:14.074Z"
   },
   {
    "duration": 16,
    "start_time": "2022-05-27T12:11:14.221Z"
   },
   {
    "duration": 18,
    "start_time": "2022-05-27T12:11:14.239Z"
   },
   {
    "duration": 36,
    "start_time": "2022-05-27T12:11:14.259Z"
   },
   {
    "duration": 9,
    "start_time": "2022-05-27T12:11:14.297Z"
   },
   {
    "duration": 11,
    "start_time": "2022-05-27T12:11:14.307Z"
   },
   {
    "duration": 11,
    "start_time": "2022-05-27T12:11:14.319Z"
   },
   {
    "duration": 9,
    "start_time": "2022-05-27T12:11:14.332Z"
   },
   {
    "duration": 437,
    "start_time": "2022-05-27T12:11:14.342Z"
   },
   {
    "duration": 126,
    "start_time": "2022-05-27T12:11:14.781Z"
   },
   {
    "duration": 5,
    "start_time": "2022-05-27T12:11:14.908Z"
   },
   {
    "duration": 11,
    "start_time": "2022-05-27T12:11:14.915Z"
   },
   {
    "duration": 221,
    "start_time": "2022-05-27T12:11:14.927Z"
   },
   {
    "duration": 3052,
    "start_time": "2022-05-27T12:11:15.150Z"
   },
   {
    "duration": 0,
    "start_time": "2022-05-27T12:11:18.203Z"
   },
   {
    "duration": 0,
    "start_time": "2022-05-27T12:11:18.204Z"
   },
   {
    "duration": 1963,
    "start_time": "2022-05-27T12:13:10.685Z"
   },
   {
    "duration": 6,
    "start_time": "2022-05-27T12:13:21.569Z"
   },
   {
    "duration": 12,
    "start_time": "2022-05-27T12:13:24.310Z"
   },
   {
    "duration": 2000,
    "start_time": "2022-05-27T12:14:15.224Z"
   },
   {
    "duration": 13,
    "start_time": "2022-05-27T12:14:20.140Z"
   },
   {
    "duration": 7,
    "start_time": "2022-05-27T12:14:22.621Z"
   },
   {
    "duration": 2596,
    "start_time": "2022-05-27T12:14:51.054Z"
   },
   {
    "duration": 10,
    "start_time": "2022-05-27T12:15:16.323Z"
   },
   {
    "duration": 1929,
    "start_time": "2022-05-27T12:15:43.655Z"
   },
   {
    "duration": 9,
    "start_time": "2022-05-27T12:15:48.393Z"
   },
   {
    "duration": 12,
    "start_time": "2022-05-27T12:15:55.779Z"
   },
   {
    "duration": 7,
    "start_time": "2022-05-27T12:16:00.586Z"
   },
   {
    "duration": 7,
    "start_time": "2022-05-27T12:19:47.878Z"
   },
   {
    "duration": 20,
    "start_time": "2022-05-27T12:20:23.501Z"
   },
   {
    "duration": 39,
    "start_time": "2022-05-27T12:20:31.969Z"
   },
   {
    "duration": 38,
    "start_time": "2022-05-27T12:20:47.991Z"
   },
   {
    "duration": 4,
    "start_time": "2022-05-27T12:21:26.041Z"
   },
   {
    "duration": 68,
    "start_time": "2022-05-27T12:21:26.047Z"
   },
   {
    "duration": 10,
    "start_time": "2022-05-27T12:21:26.116Z"
   },
   {
    "duration": 14,
    "start_time": "2022-05-27T12:21:26.128Z"
   },
   {
    "duration": 17,
    "start_time": "2022-05-27T12:21:26.144Z"
   },
   {
    "duration": 4,
    "start_time": "2022-05-27T12:21:26.163Z"
   },
   {
    "duration": 27,
    "start_time": "2022-05-27T12:21:26.169Z"
   },
   {
    "duration": 219,
    "start_time": "2022-05-27T12:21:26.198Z"
   },
   {
    "duration": 139,
    "start_time": "2022-05-27T12:21:26.420Z"
   },
   {
    "duration": 15,
    "start_time": "2022-05-27T12:21:26.560Z"
   },
   {
    "duration": 33,
    "start_time": "2022-05-27T12:21:26.576Z"
   },
   {
    "duration": 9,
    "start_time": "2022-05-27T12:21:26.610Z"
   },
   {
    "duration": 12,
    "start_time": "2022-05-27T12:21:26.620Z"
   },
   {
    "duration": 9,
    "start_time": "2022-05-27T12:21:26.634Z"
   },
   {
    "duration": 10,
    "start_time": "2022-05-27T12:21:26.645Z"
   },
   {
    "duration": 10,
    "start_time": "2022-05-27T12:21:26.657Z"
   },
   {
    "duration": 457,
    "start_time": "2022-05-27T12:21:26.668Z"
   },
   {
    "duration": 128,
    "start_time": "2022-05-27T12:21:27.127Z"
   },
   {
    "duration": 5,
    "start_time": "2022-05-27T12:21:27.256Z"
   },
   {
    "duration": 6,
    "start_time": "2022-05-27T12:21:27.262Z"
   },
   {
    "duration": 279,
    "start_time": "2022-05-27T12:21:27.270Z"
   },
   {
    "duration": 3198,
    "start_time": "2022-05-27T12:21:27.551Z"
   },
   {
    "duration": 7,
    "start_time": "2022-05-27T12:21:30.751Z"
   },
   {
    "duration": 38,
    "start_time": "2022-05-27T12:21:30.760Z"
   },
   {
    "duration": 11,
    "start_time": "2022-05-27T12:21:30.799Z"
   },
   {
    "duration": 49,
    "start_time": "2022-05-27T12:21:30.812Z"
   },
   {
    "duration": 9,
    "start_time": "2022-05-27T12:22:17.647Z"
   },
   {
    "duration": 9,
    "start_time": "2022-05-27T12:22:23.680Z"
   },
   {
    "duration": 14,
    "start_time": "2022-05-27T12:22:39.125Z"
   },
   {
    "duration": 30,
    "start_time": "2022-05-27T12:23:37.300Z"
   }
  ],
  "kernelspec": {
   "display_name": "Python 3 (ipykernel)",
   "language": "python",
   "name": "python3"
  },
  "language_info": {
   "codemirror_mode": {
    "name": "ipython",
    "version": 3
   },
   "file_extension": ".py",
   "mimetype": "text/x-python",
   "name": "python",
   "nbconvert_exporter": "python",
   "pygments_lexer": "ipython3",
   "version": "3.9.12"
  },
  "toc": {
   "base_numbering": 1,
   "nav_menu": {},
   "number_sections": true,
   "sideBar": true,
   "skip_h1_title": true,
   "title_cell": "Table of Contents",
   "title_sidebar": "Contents",
   "toc_cell": false,
   "toc_position": {},
   "toc_section_display": true,
   "toc_window_display": false
  }
 },
 "nbformat": 4,
 "nbformat_minor": 2
}
