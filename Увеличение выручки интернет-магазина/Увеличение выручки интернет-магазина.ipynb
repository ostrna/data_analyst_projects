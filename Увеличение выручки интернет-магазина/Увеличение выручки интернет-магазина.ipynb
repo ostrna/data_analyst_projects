{
 "cells": [
  {
   "cell_type": "markdown",
   "id": "38537c9d",
   "metadata": {},
   "source": [
    "# Увеличение выручки интернет-магазина"
   ]
  },
  {
   "cell_type": "markdown",
   "id": "40f2a8b6",
   "metadata": {},
   "source": [
    "В этом проекте - анализ крупного интернет-магазина. Вместе с отделом маркетинга мы подготовили список гипотез для увеличения выручки. \n",
    "\n",
    "**Цель исследования** - приоритизировать гипотезы, запустить A/B-тест и проанализировать результаты.\n",
    "\n",
    "**Ход исследования**\n",
    "\n",
    "Исследование пройдет в 5 этапов:\n",
    "\n",
    "1. Обзор данных;\n",
    "2. Предобработка данных;\n",
    "3. Приоритизация гипотез;\n",
    "4. Анализ A/B-теста;\n",
    "5. Вывод."
   ]
  },
  {
   "cell_type": "markdown",
   "id": "e62445da",
   "metadata": {},
   "source": [
    "## Шаг 1. Обзор данных"
   ]
  },
  {
   "cell_type": "markdown",
   "id": "b4266f34",
   "metadata": {},
   "source": [
    "Импортируем необходимые библиотеки."
   ]
  },
  {
   "cell_type": "code",
   "execution_count": 1,
   "id": "722180ca",
   "metadata": {},
   "outputs": [],
   "source": [
    "import pandas as pd\n",
    "import numpy as np\n",
    "from scipy import stats\n",
    "from datetime import datetime, timedelta\n",
    "from matplotlib import pyplot as plt\n"
   ]
  },
  {
   "cell_type": "markdown",
   "id": "078985e4",
   "metadata": {},
   "source": [
    "Читаем файлы `hypothesis.csv`, `orders.csv` и `visitors.csv`. Сохраняем их в переменные `hypothesis`, `orders`, `visitors` соответственно."
   ]
  },
  {
   "cell_type": "code",
   "execution_count": 2,
   "id": "f4ebfc62",
   "metadata": {},
   "outputs": [],
   "source": [
    "try: \n",
    "    hypothesis, orders, visitors = (\n",
    "    pd.read_csv('/datasets/hypothesis.csv'),  # гипотезы\n",
    "    pd.read_csv('/datasets/orders.csv'),  # заказы \n",
    "    pd.read_csv('/datasets/visitors.csv'),  # пользователи   \n",
    "    )\n",
    "except: \n",
    "    hypothesis, orders, visitors = (\n",
    "    pd.read_csv('hypothesis.csv'),  # гипотезы\n",
    "    pd.read_csv('orders.csv'),  # заказы \n",
    "    pd.read_csv('visitors.csv'),  # пользователи\n",
    ")"
   ]
  },
  {
   "cell_type": "markdown",
   "id": "c68944b6",
   "metadata": {},
   "source": [
    "Выводим на экран первые 10 строк таблицы `hypothesis.csv`, а также общую информацию о таблице:"
   ]
  },
  {
   "cell_type": "code",
   "execution_count": 3,
   "id": "9681b241",
   "metadata": {},
   "outputs": [
    {
     "data": {
      "text/html": [
       "<div>\n",
       "<style scoped>\n",
       "    .dataframe tbody tr th:only-of-type {\n",
       "        vertical-align: middle;\n",
       "    }\n",
       "\n",
       "    .dataframe tbody tr th {\n",
       "        vertical-align: top;\n",
       "    }\n",
       "\n",
       "    .dataframe thead th {\n",
       "        text-align: right;\n",
       "    }\n",
       "</style>\n",
       "<table border=\"1\" class=\"dataframe\">\n",
       "  <thead>\n",
       "    <tr style=\"text-align: right;\">\n",
       "      <th></th>\n",
       "      <th>Hypothesis</th>\n",
       "      <th>Reach</th>\n",
       "      <th>Impact</th>\n",
       "      <th>Confidence</th>\n",
       "      <th>Efforts</th>\n",
       "    </tr>\n",
       "  </thead>\n",
       "  <tbody>\n",
       "    <tr>\n",
       "      <th>0</th>\n",
       "      <td>Добавить два новых канала привлечения трафика, что позволит привлекать на 30% больше пользователей</td>\n",
       "      <td>3</td>\n",
       "      <td>10</td>\n",
       "      <td>8</td>\n",
       "      <td>6</td>\n",
       "    </tr>\n",
       "    <tr>\n",
       "      <th>1</th>\n",
       "      <td>Запустить собственную службу доставки, что сократит срок доставки заказов</td>\n",
       "      <td>2</td>\n",
       "      <td>5</td>\n",
       "      <td>4</td>\n",
       "      <td>10</td>\n",
       "    </tr>\n",
       "    <tr>\n",
       "      <th>2</th>\n",
       "      <td>Добавить блоки рекомендаций товаров на сайт интернет магазина, чтобы повысить конверсию и средни...</td>\n",
       "      <td>8</td>\n",
       "      <td>3</td>\n",
       "      <td>7</td>\n",
       "      <td>3</td>\n",
       "    </tr>\n",
       "    <tr>\n",
       "      <th>3</th>\n",
       "      <td>Изменить структура категорий, что увеличит конверсию, т.к. пользователи быстрее найдут нужный товар</td>\n",
       "      <td>8</td>\n",
       "      <td>3</td>\n",
       "      <td>3</td>\n",
       "      <td>8</td>\n",
       "    </tr>\n",
       "    <tr>\n",
       "      <th>4</th>\n",
       "      <td>Изменить цвет фона главной страницы, чтобы увеличить вовлеченность пользователей</td>\n",
       "      <td>3</td>\n",
       "      <td>1</td>\n",
       "      <td>1</td>\n",
       "      <td>1</td>\n",
       "    </tr>\n",
       "    <tr>\n",
       "      <th>5</th>\n",
       "      <td>Добавить страницу отзывов клиентов о магазине, что позволит увеличить количество заказов</td>\n",
       "      <td>3</td>\n",
       "      <td>2</td>\n",
       "      <td>2</td>\n",
       "      <td>3</td>\n",
       "    </tr>\n",
       "    <tr>\n",
       "      <th>6</th>\n",
       "      <td>Показать на главной странице баннеры с актуальными акциями и распродажами, чтобы увеличить конве...</td>\n",
       "      <td>5</td>\n",
       "      <td>3</td>\n",
       "      <td>8</td>\n",
       "      <td>3</td>\n",
       "    </tr>\n",
       "    <tr>\n",
       "      <th>7</th>\n",
       "      <td>Добавить форму подписки на все основные страницы, чтобы собрать базу клиентов для email-рассылок</td>\n",
       "      <td>10</td>\n",
       "      <td>7</td>\n",
       "      <td>8</td>\n",
       "      <td>5</td>\n",
       "    </tr>\n",
       "    <tr>\n",
       "      <th>8</th>\n",
       "      <td>Запустить акцию, дающую скидку на товар в день рождения</td>\n",
       "      <td>1</td>\n",
       "      <td>9</td>\n",
       "      <td>9</td>\n",
       "      <td>5</td>\n",
       "    </tr>\n",
       "  </tbody>\n",
       "</table>\n",
       "</div>"
      ],
      "text/plain": [
       "                                                                                            Hypothesis  \\\n",
       "0   Добавить два новых канала привлечения трафика, что позволит привлекать на 30% больше пользователей   \n",
       "1                            Запустить собственную службу доставки, что сократит срок доставки заказов   \n",
       "2  Добавить блоки рекомендаций товаров на сайт интернет магазина, чтобы повысить конверсию и средни...   \n",
       "3  Изменить структура категорий, что увеличит конверсию, т.к. пользователи быстрее найдут нужный товар   \n",
       "4                     Изменить цвет фона главной страницы, чтобы увеличить вовлеченность пользователей   \n",
       "5             Добавить страницу отзывов клиентов о магазине, что позволит увеличить количество заказов   \n",
       "6  Показать на главной странице баннеры с актуальными акциями и распродажами, чтобы увеличить конве...   \n",
       "7     Добавить форму подписки на все основные страницы, чтобы собрать базу клиентов для email-рассылок   \n",
       "8                                              Запустить акцию, дающую скидку на товар в день рождения   \n",
       "\n",
       "   Reach  Impact  Confidence  Efforts  \n",
       "0      3      10           8        6  \n",
       "1      2       5           4       10  \n",
       "2      8       3           7        3  \n",
       "3      8       3           3        8  \n",
       "4      3       1           1        1  \n",
       "5      3       2           2        3  \n",
       "6      5       3           8        3  \n",
       "7     10       7           8        5  \n",
       "8      1       9           9        5  "
      ]
     },
     "metadata": {},
     "output_type": "display_data"
    }
   ],
   "source": [
    "pd.options.display.max_colwidth = 100\n",
    "display(hypothesis.head(10))"
   ]
  },
  {
   "cell_type": "code",
   "execution_count": 4,
   "id": "df75eac6",
   "metadata": {
    "scrolled": true
   },
   "outputs": [
    {
     "name": "stdout",
     "output_type": "stream",
     "text": [
      "<class 'pandas.core.frame.DataFrame'>\n",
      "RangeIndex: 9 entries, 0 to 8\n",
      "Data columns (total 5 columns):\n",
      " #   Column      Non-Null Count  Dtype \n",
      "---  ------      --------------  ----- \n",
      " 0   Hypothesis  9 non-null      object\n",
      " 1   Reach       9 non-null      int64 \n",
      " 2   Impact      9 non-null      int64 \n",
      " 3   Confidence  9 non-null      int64 \n",
      " 4   Efforts     9 non-null      int64 \n",
      "dtypes: int64(4), object(1)\n",
      "memory usage: 488.0+ bytes\n"
     ]
    }
   ],
   "source": [
    "hypothesis.info()"
   ]
  },
  {
   "cell_type": "markdown",
   "id": "0ad9dddb",
   "metadata": {},
   "source": [
    "В таблице 5 столбцов. Согласно документации к данным:\n",
    "* `Hypothesis` - краткое описание гипотезы;\n",
    "* `Reach` - охват пользователей по 10-балльной шкале;\n",
    "* `Impact` - влияние на пользователей по 10-балльной шкале;\n",
    "* `Confidence` - уверенность в гипотезе по 10-балльной шкале;\n",
    "* `Efforts`  - затраты ресурсов на проверку гипотезы по 10-балльной шкале. Чем больше значение, тем дороже проверка гипотезы.\n",
    "\n",
    "В данных замечена ошибка: нарушение стиля в названиях колонок."
   ]
  },
  {
   "cell_type": "markdown",
   "id": "00a360ca",
   "metadata": {},
   "source": [
    "Выводим на экран первые 10 строк таблицы `orders.csv`, а также общую информацию о таблице:"
   ]
  },
  {
   "cell_type": "code",
   "execution_count": 5,
   "id": "91814a3c",
   "metadata": {},
   "outputs": [
    {
     "data": {
      "text/html": [
       "<div>\n",
       "<style scoped>\n",
       "    .dataframe tbody tr th:only-of-type {\n",
       "        vertical-align: middle;\n",
       "    }\n",
       "\n",
       "    .dataframe tbody tr th {\n",
       "        vertical-align: top;\n",
       "    }\n",
       "\n",
       "    .dataframe thead th {\n",
       "        text-align: right;\n",
       "    }\n",
       "</style>\n",
       "<table border=\"1\" class=\"dataframe\">\n",
       "  <thead>\n",
       "    <tr style=\"text-align: right;\">\n",
       "      <th></th>\n",
       "      <th>transactionId</th>\n",
       "      <th>visitorId</th>\n",
       "      <th>date</th>\n",
       "      <th>revenue</th>\n",
       "      <th>group</th>\n",
       "    </tr>\n",
       "  </thead>\n",
       "  <tbody>\n",
       "    <tr>\n",
       "      <th>0</th>\n",
       "      <td>3667963787</td>\n",
       "      <td>3312258926</td>\n",
       "      <td>2019-08-15</td>\n",
       "      <td>1650</td>\n",
       "      <td>B</td>\n",
       "    </tr>\n",
       "    <tr>\n",
       "      <th>1</th>\n",
       "      <td>2804400009</td>\n",
       "      <td>3642806036</td>\n",
       "      <td>2019-08-15</td>\n",
       "      <td>730</td>\n",
       "      <td>B</td>\n",
       "    </tr>\n",
       "    <tr>\n",
       "      <th>2</th>\n",
       "      <td>2961555356</td>\n",
       "      <td>4069496402</td>\n",
       "      <td>2019-08-15</td>\n",
       "      <td>400</td>\n",
       "      <td>A</td>\n",
       "    </tr>\n",
       "    <tr>\n",
       "      <th>3</th>\n",
       "      <td>3797467345</td>\n",
       "      <td>1196621759</td>\n",
       "      <td>2019-08-15</td>\n",
       "      <td>9759</td>\n",
       "      <td>B</td>\n",
       "    </tr>\n",
       "    <tr>\n",
       "      <th>4</th>\n",
       "      <td>2282983706</td>\n",
       "      <td>2322279887</td>\n",
       "      <td>2019-08-15</td>\n",
       "      <td>2308</td>\n",
       "      <td>B</td>\n",
       "    </tr>\n",
       "    <tr>\n",
       "      <th>5</th>\n",
       "      <td>182168103</td>\n",
       "      <td>935554773</td>\n",
       "      <td>2019-08-15</td>\n",
       "      <td>2210</td>\n",
       "      <td>B</td>\n",
       "    </tr>\n",
       "    <tr>\n",
       "      <th>6</th>\n",
       "      <td>398296753</td>\n",
       "      <td>2900797465</td>\n",
       "      <td>2019-08-15</td>\n",
       "      <td>1860</td>\n",
       "      <td>B</td>\n",
       "    </tr>\n",
       "    <tr>\n",
       "      <th>7</th>\n",
       "      <td>2626614568</td>\n",
       "      <td>78758296</td>\n",
       "      <td>2019-08-15</td>\n",
       "      <td>1044</td>\n",
       "      <td>A</td>\n",
       "    </tr>\n",
       "    <tr>\n",
       "      <th>8</th>\n",
       "      <td>1576988021</td>\n",
       "      <td>295230930</td>\n",
       "      <td>2019-08-15</td>\n",
       "      <td>13710</td>\n",
       "      <td>A</td>\n",
       "    </tr>\n",
       "    <tr>\n",
       "      <th>9</th>\n",
       "      <td>1506739906</td>\n",
       "      <td>1882260405</td>\n",
       "      <td>2019-08-15</td>\n",
       "      <td>1855</td>\n",
       "      <td>B</td>\n",
       "    </tr>\n",
       "  </tbody>\n",
       "</table>\n",
       "</div>"
      ],
      "text/plain": [
       "   transactionId   visitorId        date  revenue group\n",
       "0     3667963787  3312258926  2019-08-15     1650     B\n",
       "1     2804400009  3642806036  2019-08-15      730     B\n",
       "2     2961555356  4069496402  2019-08-15      400     A\n",
       "3     3797467345  1196621759  2019-08-15     9759     B\n",
       "4     2282983706  2322279887  2019-08-15     2308     B\n",
       "5      182168103   935554773  2019-08-15     2210     B\n",
       "6      398296753  2900797465  2019-08-15     1860     B\n",
       "7     2626614568    78758296  2019-08-15     1044     A\n",
       "8     1576988021   295230930  2019-08-15    13710     A\n",
       "9     1506739906  1882260405  2019-08-15     1855     B"
      ]
     },
     "execution_count": 5,
     "metadata": {},
     "output_type": "execute_result"
    }
   ],
   "source": [
    "orders.head(10)"
   ]
  },
  {
   "cell_type": "code",
   "execution_count": 6,
   "id": "155870ce",
   "metadata": {},
   "outputs": [
    {
     "name": "stdout",
     "output_type": "stream",
     "text": [
      "<class 'pandas.core.frame.DataFrame'>\n",
      "RangeIndex: 1197 entries, 0 to 1196\n",
      "Data columns (total 5 columns):\n",
      " #   Column         Non-Null Count  Dtype \n",
      "---  ------         --------------  ----- \n",
      " 0   transactionId  1197 non-null   int64 \n",
      " 1   visitorId      1197 non-null   int64 \n",
      " 2   date           1197 non-null   object\n",
      " 3   revenue        1197 non-null   int64 \n",
      " 4   group          1197 non-null   object\n",
      "dtypes: int64(3), object(2)\n",
      "memory usage: 46.9+ KB\n"
     ]
    }
   ],
   "source": [
    "orders.info()"
   ]
  },
  {
   "cell_type": "markdown",
   "id": "201dce42",
   "metadata": {},
   "source": [
    "В таблице 5 столбцов. Согласно документации к данным:\n",
    "* `transactionId` - идентификатор заказа;\n",
    "* `visitorId` - идентификатор пользователя, совершившего заказ;\n",
    "* `date` - дата, когда был совершён заказ;\n",
    "* `revenue` - выручка заказа;\n",
    "* `group`  - группа A/B-теста, в которую попал заказ.\n",
    "\n",
    "В данных замечены следующие ошибки: \n",
    "1. Нарушение стиля в названиях колонок;\n",
    "2. Неправильный тип данных в столбце `date`."
   ]
  },
  {
   "cell_type": "markdown",
   "id": "90fde6f1",
   "metadata": {},
   "source": [
    "Выводим на экран первые 10 строк таблицы `visitors.csv`, а также общую информацию о таблице:"
   ]
  },
  {
   "cell_type": "code",
   "execution_count": 7,
   "id": "7b94cca8",
   "metadata": {},
   "outputs": [
    {
     "data": {
      "text/html": [
       "<div>\n",
       "<style scoped>\n",
       "    .dataframe tbody tr th:only-of-type {\n",
       "        vertical-align: middle;\n",
       "    }\n",
       "\n",
       "    .dataframe tbody tr th {\n",
       "        vertical-align: top;\n",
       "    }\n",
       "\n",
       "    .dataframe thead th {\n",
       "        text-align: right;\n",
       "    }\n",
       "</style>\n",
       "<table border=\"1\" class=\"dataframe\">\n",
       "  <thead>\n",
       "    <tr style=\"text-align: right;\">\n",
       "      <th></th>\n",
       "      <th>date</th>\n",
       "      <th>group</th>\n",
       "      <th>visitors</th>\n",
       "    </tr>\n",
       "  </thead>\n",
       "  <tbody>\n",
       "    <tr>\n",
       "      <th>0</th>\n",
       "      <td>2019-08-01</td>\n",
       "      <td>A</td>\n",
       "      <td>719</td>\n",
       "    </tr>\n",
       "    <tr>\n",
       "      <th>1</th>\n",
       "      <td>2019-08-02</td>\n",
       "      <td>A</td>\n",
       "      <td>619</td>\n",
       "    </tr>\n",
       "    <tr>\n",
       "      <th>2</th>\n",
       "      <td>2019-08-03</td>\n",
       "      <td>A</td>\n",
       "      <td>507</td>\n",
       "    </tr>\n",
       "    <tr>\n",
       "      <th>3</th>\n",
       "      <td>2019-08-04</td>\n",
       "      <td>A</td>\n",
       "      <td>717</td>\n",
       "    </tr>\n",
       "    <tr>\n",
       "      <th>4</th>\n",
       "      <td>2019-08-05</td>\n",
       "      <td>A</td>\n",
       "      <td>756</td>\n",
       "    </tr>\n",
       "    <tr>\n",
       "      <th>5</th>\n",
       "      <td>2019-08-06</td>\n",
       "      <td>A</td>\n",
       "      <td>667</td>\n",
       "    </tr>\n",
       "    <tr>\n",
       "      <th>6</th>\n",
       "      <td>2019-08-07</td>\n",
       "      <td>A</td>\n",
       "      <td>644</td>\n",
       "    </tr>\n",
       "    <tr>\n",
       "      <th>7</th>\n",
       "      <td>2019-08-08</td>\n",
       "      <td>A</td>\n",
       "      <td>610</td>\n",
       "    </tr>\n",
       "    <tr>\n",
       "      <th>8</th>\n",
       "      <td>2019-08-09</td>\n",
       "      <td>A</td>\n",
       "      <td>617</td>\n",
       "    </tr>\n",
       "    <tr>\n",
       "      <th>9</th>\n",
       "      <td>2019-08-10</td>\n",
       "      <td>A</td>\n",
       "      <td>406</td>\n",
       "    </tr>\n",
       "  </tbody>\n",
       "</table>\n",
       "</div>"
      ],
      "text/plain": [
       "         date group  visitors\n",
       "0  2019-08-01     A       719\n",
       "1  2019-08-02     A       619\n",
       "2  2019-08-03     A       507\n",
       "3  2019-08-04     A       717\n",
       "4  2019-08-05     A       756\n",
       "5  2019-08-06     A       667\n",
       "6  2019-08-07     A       644\n",
       "7  2019-08-08     A       610\n",
       "8  2019-08-09     A       617\n",
       "9  2019-08-10     A       406"
      ]
     },
     "execution_count": 7,
     "metadata": {},
     "output_type": "execute_result"
    }
   ],
   "source": [
    "visitors.head(10)"
   ]
  },
  {
   "cell_type": "code",
   "execution_count": 8,
   "id": "9cf3f27b",
   "metadata": {},
   "outputs": [
    {
     "name": "stdout",
     "output_type": "stream",
     "text": [
      "<class 'pandas.core.frame.DataFrame'>\n",
      "RangeIndex: 62 entries, 0 to 61\n",
      "Data columns (total 3 columns):\n",
      " #   Column    Non-Null Count  Dtype \n",
      "---  ------    --------------  ----- \n",
      " 0   date      62 non-null     object\n",
      " 1   group     62 non-null     object\n",
      " 2   visitors  62 non-null     int64 \n",
      "dtypes: int64(1), object(2)\n",
      "memory usage: 1.6+ KB\n"
     ]
    }
   ],
   "source": [
    "visitors.info()"
   ]
  },
  {
   "cell_type": "markdown",
   "id": "a3e5218b",
   "metadata": {},
   "source": [
    "В таблице 3 столбца. Согласно документации к данным:\n",
    "* `date` - дата;\n",
    "* `group` - группа A/B-теста;\n",
    "* `visitors` - количество пользователей в указанную дату в указанной группе A/B-теста\n",
    "\n",
    "В данных замечена ошибка: неправильный тип данных в столбце `date`."
   ]
  },
  {
   "cell_type": "markdown",
   "id": "4605687a",
   "metadata": {},
   "source": [
    "## Шаг 2.  Предобработка данных"
   ]
  },
  {
   "cell_type": "markdown",
   "id": "3003a991",
   "metadata": {},
   "source": [
    "### 2.1 Стиль заголовков"
   ]
  },
  {
   "cell_type": "code",
   "execution_count": 9,
   "id": "d8354374",
   "metadata": {},
   "outputs": [
    {
     "data": {
      "text/plain": [
       "Index(['transactionId', 'visitorId', 'date', 'revenue', 'group'], dtype='object')"
      ]
     },
     "execution_count": 9,
     "metadata": {},
     "output_type": "execute_result"
    }
   ],
   "source": [
    "orders.columns #выводим названия столбцов датафрейма orders"
   ]
  },
  {
   "cell_type": "code",
   "execution_count": 10,
   "id": "1e17be64",
   "metadata": {},
   "outputs": [],
   "source": [
    "orders = orders.rename( #для таблицы orders\n",
    "    columns={\n",
    "        'transactionId': 'transaction_id',\n",
    "        'visitorId': 'visitor_id',\n",
    "    }\n",
    ")\n",
    "hypothesis.columns = hypothesis.columns.str.lower() #для таблицы hypothesis"
   ]
  },
  {
   "cell_type": "markdown",
   "id": "957120bb",
   "metadata": {},
   "source": [
    "### 2.2 Изменение типов данных "
   ]
  },
  {
   "cell_type": "markdown",
   "id": "abd1840a",
   "metadata": {},
   "source": [
    "Поменяем типы данных в столбцах `date` таблиц `orders` и `visitors` на тип `datetime`:"
   ]
  },
  {
   "cell_type": "code",
   "execution_count": 11,
   "id": "f1992432",
   "metadata": {},
   "outputs": [],
   "source": [
    "orders['date'] = pd.to_datetime(orders['date'])\n",
    "visitors['date'] = pd.to_datetime(visitors['date'])"
   ]
  },
  {
   "cell_type": "markdown",
   "id": "8e27d799",
   "metadata": {},
   "source": [
    "### 2.3 Дубликаты"
   ]
  },
  {
   "cell_type": "markdown",
   "id": "b31f4f8c",
   "metadata": {},
   "source": [
    "Для качества анализа данные необходимо проверить на дубликаты. Сначала займемся явными дубликатами."
   ]
  },
  {
   "cell_type": "code",
   "execution_count": 12,
   "id": "b98e31e3",
   "metadata": {},
   "outputs": [
    {
     "data": {
      "text/plain": [
       "0"
      ]
     },
     "execution_count": 12,
     "metadata": {},
     "output_type": "execute_result"
    }
   ],
   "source": [
    "hypothesis.duplicated().sum()"
   ]
  },
  {
   "cell_type": "code",
   "execution_count": 13,
   "id": "f744fe36",
   "metadata": {},
   "outputs": [
    {
     "data": {
      "text/plain": [
       "0"
      ]
     },
     "execution_count": 13,
     "metadata": {},
     "output_type": "execute_result"
    }
   ],
   "source": [
    "orders.duplicated().sum()"
   ]
  },
  {
   "cell_type": "code",
   "execution_count": 14,
   "id": "9b9ea70b",
   "metadata": {},
   "outputs": [
    {
     "data": {
      "text/plain": [
       "0"
      ]
     },
     "execution_count": 14,
     "metadata": {},
     "output_type": "execute_result"
    }
   ],
   "source": [
    "visitors.duplicated().sum()"
   ]
  },
  {
   "cell_type": "markdown",
   "id": "eb1926d6",
   "metadata": {},
   "source": [
    "Данные таблицы проверять на наличие неявных дубликатов смысла нет, так как значения столбцов не несут названий.\n",
    "\n",
    "**Вывод**\n",
    "\n",
    "\n",
    "На этапе предобработки были исправлены следующие ошибки:\n",
    "* стили заголовков;\n",
    "* неверные типы данных.\n",
    "\n",
    "Теперь можно приступить к следующему шагу."
   ]
  },
  {
   "cell_type": "markdown",
   "id": "a7424da0",
   "metadata": {},
   "source": [
    "## Шаг 3. Приоритизация гипотез"
   ]
  },
  {
   "cell_type": "markdown",
   "id": "702d28ae",
   "metadata": {},
   "source": [
    "Сначала применим фреймворк `ICE` для приоритизации гипотез."
   ]
  },
  {
   "cell_type": "code",
   "execution_count": 15,
   "id": "ae76907c",
   "metadata": {},
   "outputs": [
    {
     "data": {
      "text/html": [
       "<div>\n",
       "<style scoped>\n",
       "    .dataframe tbody tr th:only-of-type {\n",
       "        vertical-align: middle;\n",
       "    }\n",
       "\n",
       "    .dataframe tbody tr th {\n",
       "        vertical-align: top;\n",
       "    }\n",
       "\n",
       "    .dataframe thead th {\n",
       "        text-align: right;\n",
       "    }\n",
       "</style>\n",
       "<table border=\"1\" class=\"dataframe\">\n",
       "  <thead>\n",
       "    <tr style=\"text-align: right;\">\n",
       "      <th></th>\n",
       "      <th>hypothesis</th>\n",
       "      <th>ICE</th>\n",
       "    </tr>\n",
       "  </thead>\n",
       "  <tbody>\n",
       "    <tr>\n",
       "      <th>8</th>\n",
       "      <td>Запустить акцию, дающую скидку на товар в день рождения</td>\n",
       "      <td>16.200000</td>\n",
       "    </tr>\n",
       "    <tr>\n",
       "      <th>0</th>\n",
       "      <td>Добавить два новых канала привлечения трафика, что позволит привлекать на 30% больше пользователей</td>\n",
       "      <td>13.333333</td>\n",
       "    </tr>\n",
       "    <tr>\n",
       "      <th>7</th>\n",
       "      <td>Добавить форму подписки на все основные страницы, чтобы собрать базу клиентов для email-рассылок</td>\n",
       "      <td>11.200000</td>\n",
       "    </tr>\n",
       "    <tr>\n",
       "      <th>6</th>\n",
       "      <td>Показать на главной странице баннеры с актуальными акциями и распродажами, чтобы увеличить конве...</td>\n",
       "      <td>8.000000</td>\n",
       "    </tr>\n",
       "    <tr>\n",
       "      <th>2</th>\n",
       "      <td>Добавить блоки рекомендаций товаров на сайт интернет магазина, чтобы повысить конверсию и средни...</td>\n",
       "      <td>7.000000</td>\n",
       "    </tr>\n",
       "    <tr>\n",
       "      <th>1</th>\n",
       "      <td>Запустить собственную службу доставки, что сократит срок доставки заказов</td>\n",
       "      <td>2.000000</td>\n",
       "    </tr>\n",
       "    <tr>\n",
       "      <th>5</th>\n",
       "      <td>Добавить страницу отзывов клиентов о магазине, что позволит увеличить количество заказов</td>\n",
       "      <td>1.333333</td>\n",
       "    </tr>\n",
       "    <tr>\n",
       "      <th>3</th>\n",
       "      <td>Изменить структура категорий, что увеличит конверсию, т.к. пользователи быстрее найдут нужный товар</td>\n",
       "      <td>1.125000</td>\n",
       "    </tr>\n",
       "    <tr>\n",
       "      <th>4</th>\n",
       "      <td>Изменить цвет фона главной страницы, чтобы увеличить вовлеченность пользователей</td>\n",
       "      <td>1.000000</td>\n",
       "    </tr>\n",
       "  </tbody>\n",
       "</table>\n",
       "</div>"
      ],
      "text/plain": [
       "                                                                                            hypothesis  \\\n",
       "8                                              Запустить акцию, дающую скидку на товар в день рождения   \n",
       "0   Добавить два новых канала привлечения трафика, что позволит привлекать на 30% больше пользователей   \n",
       "7     Добавить форму подписки на все основные страницы, чтобы собрать базу клиентов для email-рассылок   \n",
       "6  Показать на главной странице баннеры с актуальными акциями и распродажами, чтобы увеличить конве...   \n",
       "2  Добавить блоки рекомендаций товаров на сайт интернет магазина, чтобы повысить конверсию и средни...   \n",
       "1                            Запустить собственную службу доставки, что сократит срок доставки заказов   \n",
       "5             Добавить страницу отзывов клиентов о магазине, что позволит увеличить количество заказов   \n",
       "3  Изменить структура категорий, что увеличит конверсию, т.к. пользователи быстрее найдут нужный товар   \n",
       "4                     Изменить цвет фона главной страницы, чтобы увеличить вовлеченность пользователей   \n",
       "\n",
       "         ICE  \n",
       "8  16.200000  \n",
       "0  13.333333  \n",
       "7  11.200000  \n",
       "6   8.000000  \n",
       "2   7.000000  \n",
       "1   2.000000  \n",
       "5   1.333333  \n",
       "3   1.125000  \n",
       "4   1.000000  "
      ]
     },
     "execution_count": 15,
     "metadata": {},
     "output_type": "execute_result"
    }
   ],
   "source": [
    "hypothesis['ICE']  = (hypothesis['impact'] * hypothesis['confidence']) / hypothesis['efforts']\n",
    "hypothesis[['hypothesis','ICE']].sort_values(by='ICE', ascending=False)"
   ]
  },
  {
   "cell_type": "markdown",
   "id": "2b1d024c",
   "metadata": {},
   "source": [
    "Наиболее перспектвные гипотезы по ICE: 8, 0, 7, 6. Теперь применим фреймворк `RICE` для приоритизации гипотез."
   ]
  },
  {
   "cell_type": "code",
   "execution_count": 16,
   "id": "654ed502",
   "metadata": {},
   "outputs": [
    {
     "data": {
      "text/html": [
       "<div>\n",
       "<style scoped>\n",
       "    .dataframe tbody tr th:only-of-type {\n",
       "        vertical-align: middle;\n",
       "    }\n",
       "\n",
       "    .dataframe tbody tr th {\n",
       "        vertical-align: top;\n",
       "    }\n",
       "\n",
       "    .dataframe thead th {\n",
       "        text-align: right;\n",
       "    }\n",
       "</style>\n",
       "<table border=\"1\" class=\"dataframe\">\n",
       "  <thead>\n",
       "    <tr style=\"text-align: right;\">\n",
       "      <th></th>\n",
       "      <th>hypothesis</th>\n",
       "      <th>RICE</th>\n",
       "    </tr>\n",
       "  </thead>\n",
       "  <tbody>\n",
       "    <tr>\n",
       "      <th>7</th>\n",
       "      <td>Добавить форму подписки на все основные страницы, чтобы собрать базу клиентов для email-рассылок</td>\n",
       "      <td>112.0</td>\n",
       "    </tr>\n",
       "    <tr>\n",
       "      <th>2</th>\n",
       "      <td>Добавить блоки рекомендаций товаров на сайт интернет магазина, чтобы повысить конверсию и средни...</td>\n",
       "      <td>56.0</td>\n",
       "    </tr>\n",
       "    <tr>\n",
       "      <th>0</th>\n",
       "      <td>Добавить два новых канала привлечения трафика, что позволит привлекать на 30% больше пользователей</td>\n",
       "      <td>40.0</td>\n",
       "    </tr>\n",
       "    <tr>\n",
       "      <th>6</th>\n",
       "      <td>Показать на главной странице баннеры с актуальными акциями и распродажами, чтобы увеличить конве...</td>\n",
       "      <td>40.0</td>\n",
       "    </tr>\n",
       "    <tr>\n",
       "      <th>8</th>\n",
       "      <td>Запустить акцию, дающую скидку на товар в день рождения</td>\n",
       "      <td>16.2</td>\n",
       "    </tr>\n",
       "    <tr>\n",
       "      <th>3</th>\n",
       "      <td>Изменить структура категорий, что увеличит конверсию, т.к. пользователи быстрее найдут нужный товар</td>\n",
       "      <td>9.0</td>\n",
       "    </tr>\n",
       "    <tr>\n",
       "      <th>1</th>\n",
       "      <td>Запустить собственную службу доставки, что сократит срок доставки заказов</td>\n",
       "      <td>4.0</td>\n",
       "    </tr>\n",
       "    <tr>\n",
       "      <th>5</th>\n",
       "      <td>Добавить страницу отзывов клиентов о магазине, что позволит увеличить количество заказов</td>\n",
       "      <td>4.0</td>\n",
       "    </tr>\n",
       "    <tr>\n",
       "      <th>4</th>\n",
       "      <td>Изменить цвет фона главной страницы, чтобы увеличить вовлеченность пользователей</td>\n",
       "      <td>3.0</td>\n",
       "    </tr>\n",
       "  </tbody>\n",
       "</table>\n",
       "</div>"
      ],
      "text/plain": [
       "                                                                                            hypothesis  \\\n",
       "7     Добавить форму подписки на все основные страницы, чтобы собрать базу клиентов для email-рассылок   \n",
       "2  Добавить блоки рекомендаций товаров на сайт интернет магазина, чтобы повысить конверсию и средни...   \n",
       "0   Добавить два новых канала привлечения трафика, что позволит привлекать на 30% больше пользователей   \n",
       "6  Показать на главной странице баннеры с актуальными акциями и распродажами, чтобы увеличить конве...   \n",
       "8                                              Запустить акцию, дающую скидку на товар в день рождения   \n",
       "3  Изменить структура категорий, что увеличит конверсию, т.к. пользователи быстрее найдут нужный товар   \n",
       "1                            Запустить собственную службу доставки, что сократит срок доставки заказов   \n",
       "5             Добавить страницу отзывов клиентов о магазине, что позволит увеличить количество заказов   \n",
       "4                     Изменить цвет фона главной страницы, чтобы увеличить вовлеченность пользователей   \n",
       "\n",
       "    RICE  \n",
       "7  112.0  \n",
       "2   56.0  \n",
       "0   40.0  \n",
       "6   40.0  \n",
       "8   16.2  \n",
       "3    9.0  \n",
       "1    4.0  \n",
       "5    4.0  \n",
       "4    3.0  "
      ]
     },
     "execution_count": 16,
     "metadata": {},
     "output_type": "execute_result"
    }
   ],
   "source": [
    "hypothesis['RICE'] = (hypothesis['reach'] * hypothesis['impact'] * hypothesis['confidence']) / hypothesis['efforts']\n",
    "hypothesis[['hypothesis','RICE']].sort_values(by='RICE', ascending=False)"
   ]
  },
  {
   "cell_type": "markdown",
   "id": "e146c6d2",
   "metadata": {},
   "source": [
    "Наиболее перспектвные гипотезы по RICE: 8, 0, 7, 2. Шестую гипотезу сменила вторая, так произошло, потому что ее параметр `Reach` больше, следовательно, она затронет больше пользователей.\n",
    "\n",
    "**Вывод** После применения фреймворков ICE и RICE можно выделить наиболее перспективные гипотезы: 8, 0, 7, 2, 6."
   ]
  },
  {
   "cell_type": "markdown",
   "id": "696123a3",
   "metadata": {},
   "source": [
    "## Шаг 4. Анализ A/B-теста"
   ]
  },
  {
   "cell_type": "markdown",
   "id": "29f20d7c",
   "metadata": {},
   "source": [
    "Для начала соберем все кумулятивные данные."
   ]
  },
  {
   "cell_type": "code",
   "execution_count": 17,
   "id": "132b0825",
   "metadata": {
    "scrolled": true
   },
   "outputs": [
    {
     "name": "stdout",
     "output_type": "stream",
     "text": [
      "        date group  orders  revenue  visitors\n",
      "0 2019-08-01     A      20   148579       719\n",
      "1 2019-08-01     B      20   101217       713\n",
      "2 2019-08-02     A      38   242401      1338\n",
      "3 2019-08-02     B      43   266748      1294\n",
      "4 2019-08-03     A      62   354874      1845\n"
     ]
    }
   ],
   "source": [
    "\n",
    "# создаем массив уникальных пар значений дат и групп теста\n",
    "datesGroups = orders[['date','group']].drop_duplicates()\n",
    "\n",
    "# получаем агрегированные кумулятивные по дням данные о заказах \n",
    "ordersAggregated = datesGroups.apply(lambda x: orders[np.logical_and(orders['date'] <= x['date'], orders['group'] == x['group'])].agg({'date' : 'max', 'group' : 'max', 'visitor_id' : 'nunique', 'visitor_id' : 'nunique', 'revenue' : 'sum'}), axis=1).sort_values(by=['date','group'])\n",
    "\n",
    "# получаем агрегированные кумулятивные по дням данные о посетителях интернет-магазина \n",
    "visitorsAggregated = datesGroups.apply(lambda x: visitors[np.logical_and(visitors['date'] <= x['date'], visitors['group'] == x['group'])].agg({'date' : 'max', 'group' : 'max', 'visitors' : 'sum'}), axis=1).sort_values(by=['date','group'])\n",
    "\n",
    "# объединяем кумулятивные данные в одной таблице и присваиваем ее столбцам понятные названия\n",
    "cumulativeData = ordersAggregated.merge(visitorsAggregated, left_on=['date', 'group'], right_on=['date', 'group'])\n",
    "cumulativeData.columns = ['date', 'group', 'orders', 'revenue', 'visitors']\n",
    "\n",
    "print(cumulativeData.head(5))\n"
   ]
  },
  {
   "cell_type": "code",
   "execution_count": 18,
   "id": "984381ad",
   "metadata": {},
   "outputs": [
    {
     "data": {
      "text/plain": [
       "Timestamp('2019-08-01 00:00:00')"
      ]
     },
     "execution_count": 18,
     "metadata": {},
     "output_type": "execute_result"
    }
   ],
   "source": [
    "min(cumulativeData['date'])"
   ]
  },
  {
   "cell_type": "code",
   "execution_count": 19,
   "id": "de221fed",
   "metadata": {},
   "outputs": [
    {
     "data": {
      "text/plain": [
       "Timestamp('2019-08-31 00:00:00')"
      ]
     },
     "execution_count": 19,
     "metadata": {},
     "output_type": "execute_result"
    }
   ],
   "source": [
    "max(cumulativeData['date'])"
   ]
  },
  {
   "cell_type": "code",
   "execution_count": 20,
   "id": "57c77d16",
   "metadata": {},
   "outputs": [],
   "source": [
    "cumulativeData['date']  = pd.to_datetime(cumulativeData['date']).dt.date"
   ]
  },
  {
   "cell_type": "markdown",
   "id": "02b91b86",
   "metadata": {},
   "source": [
    "Построим графики кумулятивной выручки по группам."
   ]
  },
  {
   "cell_type": "code",
   "execution_count": 21,
   "id": "40cb416d",
   "metadata": {},
   "outputs": [
    {
     "data": {
      "image/png": "[encoded data removed]",
      "text/plain": [
       "<Figure size 432x288 with 1 Axes>"
      ]
     },
     "metadata": {
      "needs_background": "light"
     },
     "output_type": "display_data"
    }
   ],
   "source": [
    "# датафрейм с кумулятивным количеством заказов и кумулятивной выручкой по дням в группе А\n",
    "cumulativeRevenueA = cumulativeData[cumulativeData['group']=='A'][['date','revenue', 'orders']]\n",
    "\n",
    "# датафрейм с кумулятивным количеством заказов и кумулятивной выручкой по дням в группе B\n",
    "cumulativeRevenueB = cumulativeData[cumulativeData['group']=='B'][['date','revenue', 'orders']]\n",
    "\n",
    "# Строим график выручки группы А\n",
    "plt.plot(cumulativeRevenueA['date'], cumulativeRevenueA['revenue'], label='A')\n",
    "\n",
    "# Строим график выручки группы B\n",
    "plt.plot(cumulativeRevenueB['date'], cumulativeRevenueB['revenue'], label='B')\n",
    "\n",
    "plt.title('График кумулятивной выручки по группам')\n",
    "plt.xlabel('Дата')\n",
    "plt.ylabel('Выручка')\n",
    "plt.xticks(rotation = 90)\n",
    "plt.legend()\n",
    "plt.show()"
   ]
  },
  {
   "cell_type": "markdown",
   "id": "3e8c0c1c",
   "metadata": {},
   "source": [
    "Сегмент В лидирует весь тест. В его данных замечен резкий скачок, скорее всего на это влияют аномально большие заказы. При заключительнои анализе их нужно будет удалить.\n",
    "\n",
    "Построим график кумулятивного среднего чека по группам. "
   ]
  },
  {
   "cell_type": "code",
   "execution_count": 22,
   "id": "93f1653d",
   "metadata": {
    "scrolled": true
   },
   "outputs": [
    {
     "data": {
      "image/png": "[encoded data removed]",
      "text/plain": [
       "<Figure size 432x288 with 1 Axes>"
      ]
     },
     "metadata": {
      "needs_background": "light"
     },
     "output_type": "display_data"
    }
   ],
   "source": [
    "plt.plot(cumulativeRevenueA['date'], cumulativeRevenueA['revenue']/cumulativeRevenueA['orders'], label='A')\n",
    "plt.plot(cumulativeRevenueB['date'], cumulativeRevenueB['revenue']/cumulativeRevenueB['orders'], label='B')\n",
    "\n",
    "plt.title('График кумулятивного среднего чека по группам')\n",
    "plt.xlabel('Дата')\n",
    "plt.ylabel('Средний чек')\n",
    "plt.xticks(rotation = 90)\n",
    "plt.legend()\n",
    "plt.show()"
   ]
  },
  {
   "cell_type": "markdown",
   "id": "a7497002",
   "metadata": {},
   "source": [
    "Кумулятивное значение среднего чека по сегментам продолжает колебаться. Принимать решение по этой метрике рано, требуется дополнительный анализ выбросов, которые искажают результаты.\n",
    "\n",
    "Далее построим график относительного изменения кумулятивного среднего чека группы B к группе A."
   ]
  },
  {
   "cell_type": "code",
   "execution_count": 23,
   "id": "36fc05a4",
   "metadata": {},
   "outputs": [
    {
     "data": {
      "image/png": "[encoded data removed]",
      "text/plain": [
       "<Figure size 432x288 with 1 Axes>"
      ]
     },
     "metadata": {
      "needs_background": "light"
     },
     "output_type": "display_data"
    }
   ],
   "source": [
    "# собираем данные в одном датафрейме\n",
    "mergedCumulativeRevenue = cumulativeRevenueA.merge(cumulativeRevenueB, left_on='date', right_on='date', how='left', suffixes=['A', 'B'])\n",
    "\n",
    "# cтроим отношение средних чеков\n",
    "plt.plot(mergedCumulativeRevenue['date'], (mergedCumulativeRevenue['revenueB']/mergedCumulativeRevenue['ordersB'])/(mergedCumulativeRevenue['revenueA']/mergedCumulativeRevenue['ordersA'])-1)\n",
    "\n",
    "# добавляем ось X\n",
    "plt.axhline(y=0, color='black', linestyle='--')\n",
    "plt.title('График относительного изменения кумулятивного среднего чека группы B к группе A')\n",
    "plt.xlabel('Дата')\n",
    "plt.ylabel('Относительное изменение')\n",
    "plt.xticks(rotation = 90)\n",
    "plt.show()"
   ]
  },
  {
   "cell_type": "markdown",
   "id": "32566d89",
   "metadata": {},
   "source": [
    "Результаты теста значительно и резко менялись в несколько дат. Видимо, именно тогда были совершены аномальные заказы.\n",
    "\n",
    "Построим график кумулятивной конверсии по группам."
   ]
  },
  {
   "cell_type": "code",
   "execution_count": 24,
   "id": "2ed25c2f",
   "metadata": {
    "scrolled": true
   },
   "outputs": [
    {
     "data": {
      "image/png": "[encoded data removed]",
      "text/plain": [
       "<Figure size 432x288 with 1 Axes>"
      ]
     },
     "metadata": {
      "needs_background": "light"
     },
     "output_type": "display_data"
    }
   ],
   "source": [
    "# считаем кумулятивную конверсию\n",
    "cumulativeData['conversion'] = cumulativeData['orders']/cumulativeData['visitors']\n",
    "\n",
    "# отделяем данные по группе A\n",
    "cumulativeDataA = cumulativeData[cumulativeData['group']=='A']\n",
    "\n",
    "# отделяем данные по группе B\n",
    "cumulativeDataB = cumulativeData[cumulativeData['group']=='B']\n",
    "\n",
    "# строим графики\n",
    "plt.plot(cumulativeDataA['date'], cumulativeDataA['conversion'], label='A')\n",
    "plt.plot(cumulativeDataB['date'], cumulativeDataB['conversion'], label='B')\n",
    "plt.title('График кумулятивной конверсии по группам')\n",
    "plt.xlabel('Дата')\n",
    "plt.ylabel('Кумулятивная конверсия')\n",
    "plt.xticks(rotation = 90)\n",
    "plt.legend()\n",
    "plt.show()\n"
   ]
  },
  {
   "cell_type": "markdown",
   "id": "ef4a98a9",
   "metadata": {},
   "source": [
    "В начале теста сегмент В имел большую конверсию, но чуть позже лидировал сегмент А. После затухания обеих сегментов, большую конверсию имел сегмент В до окончания теста.\n",
    "\n",
    "Построим график относительного изменения кумулятивной конверсии группы B к группе A."
   ]
  },
  {
   "cell_type": "code",
   "execution_count": 25,
   "id": "682b8130",
   "metadata": {},
   "outputs": [
    {
     "data": {
      "image/png": "[encoded data removed]",
      "text/plain": [
       "<Figure size 432x288 with 1 Axes>"
      ]
     },
     "metadata": {
      "needs_background": "light"
     },
     "output_type": "display_data"
    }
   ],
   "source": [
    "mergedCumulativeConversions = cumulativeDataA[['date','conversion']].merge(cumulativeDataB[['date','conversion']], left_on='date', right_on='date', how='left', suffixes=['A', 'B'])\n",
    "\n",
    "plt.plot(mergedCumulativeConversions['date'], mergedCumulativeConversions['conversionB']/mergedCumulativeConversions['conversionA']-1, label=\"Относительный прирост конверсии группы B относительно группы A\")\n",
    "plt.legend()\n",
    "\n",
    "plt.axhline(y=0, color='black', linestyle='--')\n",
    "plt.axhline(y=0.2, color='grey', linestyle='--')\n",
    "plt.title('График относительного изменения кумулятивной конверсии группы B к группе A')\n",
    "plt.xlabel('Дата')\n",
    "plt.ylabel('Относительное изменение')\n",
    "plt.xticks(rotation = 90)\n",
    "plt.legend()\n",
    "plt.show()"
   ]
  },
  {
   "cell_type": "markdown",
   "id": "0dea31b5",
   "metadata": {},
   "source": [
    "Почти с самого начала теста группа В лидирует по конверсии, а позже убывает.\n",
    "\n",
    "Построим точечный график количества заказов по пользователям."
   ]
  },
  {
   "cell_type": "code",
   "execution_count": 26,
   "id": "d3add2de",
   "metadata": {},
   "outputs": [
    {
     "name": "stdout",
     "output_type": "stream",
     "text": [
      "            orders\n",
      "visitor_id        \n",
      "4256040402      11\n",
      "2458001652      11\n",
      "2378935119       9\n",
      "2038680547       8\n",
      "199603092        5\n",
      "3062433592       5\n",
      "237748145        5\n",
      "3803269165       5\n",
      "1230306981       5\n",
      "3717692402       5\n"
     ]
    },
    {
     "data": {
      "image/png": "[encoded data removed]",
      "text/plain": [
       "<Figure size 432x288 with 1 Axes>"
      ]
     },
     "metadata": {
      "needs_background": "light"
     },
     "output_type": "display_data"
    }
   ],
   "source": [
    "ordersByUsers = (\n",
    "    orders.groupby('visitor_id')\n",
    "    .agg({'visitor_id': 'count'})\n",
    ")\n",
    "ordersByUsers.columns = ['orders']\n",
    "\n",
    "print(ordersByUsers.sort_values(by='orders', ascending=False).head(10))\n",
    "\n",
    "# серия из чисел от 0 до количества наблюдений в ordersByUsers\n",
    "x_values = pd.Series(range(0, len(ordersByUsers)))\n",
    "\n",
    "x_values = pd.Series(range(0,len(ordersByUsers)))\n",
    "\n",
    "plt.scatter(x_values, ordersByUsers['orders'])\n",
    "plt.title('График количества заказов по пользователям')\n",
    "plt.xlabel('Пользователи')\n",
    "plt.ylabel('Количество заказов')\n",
    "plt.show()"
   ]
  },
  {
   "cell_type": "markdown",
   "id": "b60a6f62",
   "metadata": {},
   "source": [
    "Большинство пользователей совершили всего 1 заказ. Пользователей, заказавших более двух раз, совсем мало. Они вполне могут быть аномальными.\n",
    "\n",
    "Посчитаем 95-й и 99-й перцентили количества заказов на пользователя."
   ]
  },
  {
   "cell_type": "code",
   "execution_count": 27,
   "id": "40b0bc40",
   "metadata": {},
   "outputs": [
    {
     "data": {
      "text/plain": [
       "array([1., 2., 4.])"
      ]
     },
     "execution_count": 27,
     "metadata": {},
     "output_type": "execute_result"
    }
   ],
   "source": [
    "np.percentile(ordersByUsers['orders'], [90, 95, 99])"
   ]
  },
  {
   "cell_type": "markdown",
   "id": "f55b31f4",
   "metadata": {},
   "source": [
    "Не более 5% пользователей совершали больше двух заказов. И не более 1% пользователей - больше 4 заказов. Разумно выбрать 2 заказа на одного пользователя за нижнюю границу числа заказов, и отсеять аномальных пользователей по ней.\n",
    "\n",
    "Построим точечный график стоимостей заказов. "
   ]
  },
  {
   "cell_type": "code",
   "execution_count": 28,
   "id": "e03c076d",
   "metadata": {
    "scrolled": true
   },
   "outputs": [
    {
     "data": {
      "image/png": "[encoded data removed]",
      "text/plain": [
       "<Figure size 432x288 with 1 Axes>"
      ]
     },
     "metadata": {
      "needs_background": "light"
     },
     "output_type": "display_data"
    }
   ],
   "source": [
    "x_values = pd.Series(range(0, len(orders['revenue'])))\n",
    "\n",
    "x_values = pd.Series(range(0,len(orders['revenue'])))\n",
    "\n",
    "plt.scatter(x_values, orders['revenue'])\n",
    "plt.title('График стоимостей заказов')\n",
    "plt.xlabel('Стоимость заказов')\n",
    "plt.ylabel('Заказы')\n",
    "plt.show()"
   ]
  },
  {
   "cell_type": "markdown",
   "id": "72aed58f",
   "metadata": {},
   "source": [
    "Заказов стоимостью 150 000 рублей не очень много. Есть выбросы в районе 200 000 и 1 200 000. Эти заказы выглядят аномально.\n",
    "\n",
    "Посчитаем 95-й и 99-й перцентили стоимости заказов. "
   ]
  },
  {
   "cell_type": "code",
   "execution_count": 29,
   "id": "299c7ac4",
   "metadata": {
    "scrolled": true
   },
   "outputs": [
    {
     "data": {
      "text/plain": [
       "array([18168. , 28000. , 58233.2])"
      ]
     },
     "execution_count": 29,
     "metadata": {},
     "output_type": "execute_result"
    }
   ],
   "source": [
    "np.percentile(orders['revenue'], [90, 95, 99])"
   ]
  },
  {
   "cell_type": "markdown",
   "id": "09078e70",
   "metadata": {},
   "source": [
    "Не более, чем у 5% заказов чек дороже 28 000. И не больше, чем у 1% заказов - дороже 58 233. За  нижнюю границу выберем 28  000, по ней отсеим аномальные заказы.\n",
    "\n",
    "Посчитаем статистическую значимость различий в конверсии и среднем чеке между группами по «сырым» данным — без удаления аномальных пользователей.\n",
    "Сформулируем гипотезы. Нулевая: различий в конверсии между группами нет. Альтернативная: различия в конверсии между группами есть."
   ]
  },
  {
   "cell_type": "code",
   "execution_count": 30,
   "id": "4654954c",
   "metadata": {
    "scrolled": true
   },
   "outputs": [
    {
     "name": "stdout",
     "output_type": "stream",
     "text": [
      "0.01679\n",
      "0.138\n"
     ]
    }
   ],
   "source": [
    "visitorsADaily = visitors[visitors['group'] == 'A'][['date', 'visitors']]\n",
    "visitorsADaily.columns = ['date', 'visitorsPerDateA']\n",
    "\n",
    "visitorsACummulative = visitorsADaily.apply(\n",
    "    lambda x: visitorsADaily[visitorsADaily['date'] <= x['date']].agg(\n",
    "        {'date': 'max', 'visitorsPerDateA': 'sum'}\n",
    "    ),\n",
    "    axis=1,\n",
    ")\n",
    "visitorsACummulative.columns = ['date', 'visitorsCummulativeA']\n",
    "\n",
    "visitorsBDaily = visitors[visitors['group'] == 'B'][['date', 'visitors']]\n",
    "visitorsBDaily.columns = ['date', 'visitorsPerDateB']\n",
    "\n",
    "visitorsBCummulative = visitorsBDaily.apply(\n",
    "    lambda x: visitorsBDaily[visitorsBDaily['date'] <= x['date']].agg(\n",
    "        {'date': 'max', 'visitorsPerDateB': 'sum'}\n",
    "    ),\n",
    "    axis=1,\n",
    ")\n",
    "visitorsBCummulative.columns = ['date', 'visitorsCummulativeB']\n",
    "\n",
    "ordersADaily = (\n",
    "    orders[orders['group'] == 'A'][['date', 'transaction_id', 'visitor_id', 'revenue']]\n",
    "    .groupby('date', as_index=False)\n",
    "    .agg({'transaction_id': pd.Series.nunique, 'revenue': 'sum'})\n",
    ")\n",
    "ordersADaily.columns = ['date', 'ordersPerDateA', 'revenuePerDateA']\n",
    "\n",
    "ordersACummulative = ordersADaily.apply(\n",
    "    lambda x: ordersADaily[ordersADaily['date'] <= x['date']].agg(\n",
    "        {'date': 'max', 'ordersPerDateA': 'sum', 'revenuePerDateA': 'sum'}\n",
    "    ),\n",
    "    axis=1,\n",
    ").sort_values(by=['date'])\n",
    "ordersACummulative.columns = [\n",
    "    'date',\n",
    "    'ordersCummulativeA',\n",
    "    'revenueCummulativeA',\n",
    "]\n",
    "\n",
    "ordersBDaily = (\n",
    "    orders[orders['group'] == 'B'][['date', 'transaction_id', 'visitor_id', 'revenue']]\n",
    "    .groupby('date', as_index=False)\n",
    "    .agg({'transaction_id': pd.Series.nunique, 'revenue': 'sum'})\n",
    ")\n",
    "ordersBDaily.columns = ['date', 'ordersPerDateB', 'revenuePerDateB']\n",
    "\n",
    "ordersBCummulative = ordersBDaily.apply(\n",
    "    lambda x: ordersBDaily[ordersBDaily['date'] <= x['date']].agg(\n",
    "        {'date': 'max', 'ordersPerDateB': 'sum', 'revenuePerDateB': 'sum'}\n",
    "    ),\n",
    "    axis=1,\n",
    ").sort_values(by=['date'])\n",
    "ordersBCummulative.columns = [\n",
    "    'date',\n",
    "    'ordersCummulativeB',\n",
    "    'revenueCummulativeB',\n",
    "]\n",
    "\n",
    "data = (\n",
    "    ordersADaily.merge(\n",
    "        ordersBDaily, left_on='date', right_on='date', how='left'\n",
    "    )\n",
    "    .merge(ordersACummulative, left_on='date', right_on='date', how='left')\n",
    "    .merge(ordersBCummulative, left_on='date', right_on='date', how='left')\n",
    "    .merge(visitorsADaily, left_on='date', right_on='date', how='left')\n",
    "    .merge(visitorsBDaily, left_on='date', right_on='date', how='left')\n",
    "    .merge(visitorsACummulative, left_on='date', right_on='date', how='left')\n",
    "    .merge(visitorsBCummulative, left_on='date', right_on='date', how='left')\n",
    ")\n",
    "\n",
    "ordersByUsersA=(\n",
    "    orders[orders['group']=='A']\n",
    "    .groupby('visitor_id',as_index=False)\n",
    "    .agg({'transaction_id':pd.Series.nunique})\n",
    ")\n",
    "ordersByUsersA.columns=['visitor_id','orders']\n",
    "ordersByUsersB=(\n",
    "    orders[orders['group']=='B']\n",
    "    .groupby('visitor_id',as_index=False)\n",
    "    .agg({'transaction_id':pd.Series.nunique})\n",
    ")\n",
    "ordersByUsersB.columns=['visitor_id','orders']\n",
    "sampleA = pd.concat([ordersByUsersA['orders'],pd.Series(0, index=np.arange(data['visitorsPerDateA'].sum() - len(ordersByUsersA['orders'])), name='orders')],axis=0)\n",
    "\n",
    "sampleB = pd.concat([ordersByUsersB['orders'],pd.Series(0, index=np.arange(data['visitorsPerDateB'].sum() - len(ordersByUsersB['orders'])), name='orders')],axis=0)\n",
    "\n",
    "print('{0:.5f}'.format(stats.mannwhitneyu(sampleA, sampleB)[1]))\n",
    "print('{0:.3f}'.format((data['ordersPerDateB'].sum()/data['visitorsPerDateB'].sum())/(data['ordersPerDateA'].sum()/data['visitorsPerDateA'].sum())-1))\n"
   ]
  },
  {
   "cell_type": "markdown",
   "id": "19f34f81",
   "metadata": {},
   "source": [
    "Вывод: По «сырым» данным различия в конверсии групп A и B есть.\n",
    "Первое число — p-value = 0.01679 меньше 0.05. Значит, нулевую гипотезу о том, что статистически значимых различий в конверсии между группами нет, отвергаем. Относительный прирост конверсии группы В к конверсии группы А равен 13.8%\n",
    "\n",
    "Теперь проверим статистическую значимость различий в среднем чеке между сегментами. Нулевая гипотеза: различий в среднем чеке между группами нет. Альтернативная гипотеза: различия в среднем чеке между группами есть."
   ]
  },
  {
   "cell_type": "code",
   "execution_count": 31,
   "id": "4132847e",
   "metadata": {},
   "outputs": [
    {
     "name": "stdout",
     "output_type": "stream",
     "text": [
      "0.729\n",
      "0.259\n"
     ]
    }
   ],
   "source": [
    "print('{0:.3f}'.format(stats.mannwhitneyu(orders[orders['group']=='A']['revenue'], orders[orders['group']=='B']['revenue'])[1]))\n",
    "print('{0:.3f}'.format(orders[orders['group']=='B']['revenue'].mean()/orders[orders['group']=='A']['revenue'].mean()-1))"
   ]
  },
  {
   "cell_type": "markdown",
   "id": "b104d916",
   "metadata": {},
   "source": [
    "P-value больше 0.05 - статистически значимых отличий в среднем чеке между группами нет. Кроме того, относительное различие среднего чека между сегментами всего 2.6%\n",
    "\n",
    "Приступаем к подготовке очищенных от аномалий данных. Посчитайем статистическую значимость различия конверсии после удаления аномальных пользователей"
   ]
  },
  {
   "cell_type": "code",
   "execution_count": 32,
   "id": "25ff86a1",
   "metadata": {},
   "outputs": [
    {
     "name": "stdout",
     "output_type": "stream",
     "text": [
      "0.01304\n",
      "0.173\n"
     ]
    }
   ],
   "source": [
    "usersWithManyOrders = pd.concat(\n",
    "    [\n",
    "        ordersByUsersA[ordersByUsersA['orders'] > 2]['visitor_id'],\n",
    "        ordersByUsersB[ordersByUsersB['orders'] > 2]['visitor_id'],\n",
    "    ],\n",
    "    axis=0,\n",
    ")\n",
    "usersWithExpensiveOrders = orders[orders['revenue'] > 28000]['visitor_id']\n",
    "abnormalUsers = (\n",
    "    pd.concat([usersWithManyOrders, usersWithExpensiveOrders], axis=0)\n",
    "    .drop_duplicates()\n",
    "    .sort_values()\n",
    ")\n",
    "\n",
    "sampleAFiltered = pd.concat(\n",
    "    [\n",
    "        ordersByUsersA[\n",
    "            np.logical_not(ordersByUsersA['visitor_id'].isin(abnormalUsers))\n",
    "        ]['orders'],\n",
    "        pd.Series(\n",
    "            0,\n",
    "            index=np.arange(\n",
    "                data['visitorsPerDateA'].sum() - len(ordersByUsersA['orders'])\n",
    "            ),\n",
    "            name='orders',\n",
    "        ),\n",
    "    ],\n",
    "    axis=0,\n",
    ")\n",
    "\n",
    "sampleBFiltered = pd.concat(\n",
    "    [\n",
    "        ordersByUsersB[\n",
    "            np.logical_not(ordersByUsersB['visitor_id'].isin(abnormalUsers))\n",
    "        ]['orders'],\n",
    "        pd.Series(\n",
    "            0,\n",
    "            index=np.arange(\n",
    "                data['visitorsPerDateB'].sum() - len(ordersByUsersB['orders'])\n",
    "            ),\n",
    "            name='orders',\n",
    "        ),\n",
    "    ],\n",
    "    axis=0,\n",
    ")\n",
    "\n",
    "print('{0:.5f}'.format(stats.mannwhitneyu(sampleAFiltered, sampleBFiltered)[1]))\n",
    "print('{0:.3f}'.format(sampleBFiltered.mean()/sampleAFiltered.mean()-1))\n"
   ]
  },
  {
   "cell_type": "markdown",
   "id": "48475876",
   "metadata": {},
   "source": [
    "Как и в случае с сырыми данными, статистическая значиость достигнута. Сегмент В значительно лучше сегмента А.\n",
    "\n",
    "Посчитаем статистическую значимость различия средних чеков после удаления аномальных пользователей."
   ]
  },
  {
   "cell_type": "code",
   "execution_count": 33,
   "id": "135a64a0",
   "metadata": {},
   "outputs": [
    {
     "name": "stdout",
     "output_type": "stream",
     "text": [
      "0.738\n",
      "-0.020\n"
     ]
    }
   ],
   "source": [
    "print(\n",
    "    '{0:.3f}'.format(\n",
    "        stats.mannwhitneyu(\n",
    "            orders[\n",
    "                np.logical_and(\n",
    "                    orders['group'] == 'A',\n",
    "                    np.logical_not(orders['visitor_id'].isin(abnormalUsers)),\n",
    "                )\n",
    "            ]['revenue'],\n",
    "            orders[\n",
    "                np.logical_and(\n",
    "                    orders['group'] == 'B',\n",
    "                    np.logical_not(orders['visitor_id'].isin(abnormalUsers)),\n",
    "                )\n",
    "            ]['revenue'],\n",
    "        )[1]\n",
    "    )\n",
    ")\n",
    "\n",
    "print(\n",
    "    \"{0:.3f}\".format(\n",
    "        orders[\n",
    "            np.logical_and(\n",
    "                orders['group'] == 'B',\n",
    "                np.logical_not(orders['visitor_id'].isin(abnormalUsers)),\n",
    "            )\n",
    "        ]['revenue'].mean()\n",
    "        / orders[\n",
    "            np.logical_and(\n",
    "                orders['group'] == 'A',\n",
    "                np.logical_not(orders['visitor_id'].isin(abnormalUsers)),\n",
    "            )\n",
    "        ]['revenue'].mean()\n",
    "        - 1\n",
    "    )\n",
    ")"
   ]
  },
  {
   "cell_type": "markdown",
   "id": "901e606e",
   "metadata": {},
   "source": [
    "Как и в случае с сырыми данными, статистическая значиость не достигнута. Впрочем, средний чек группы B стал значительно ниже среднего чека группы A."
   ]
  },
  {
   "cell_type": "markdown",
   "id": "f7962fa5",
   "metadata": {},
   "source": [
    "**Вывод** \n",
    "* Есть статистически значимое различие по конверсии между группами как по сырым данным, так и после фильтрации аномалий\n",
    "* По сырым данным нет статистически значимого различия по среднему чеку между группами, так  же и после фильтраци\n",
    "* График различия конверсии между группами сообщает, что результаты группы B лучше группы A: имеют тенденцию к росту, либо зафиксировались около среднего значения.\n",
    "* График различия среднего чека колеблется: он-то и позволил вам найти аномалии. Сделать из этого графика определённые выводы нельзя.\n",
    "\n",
    "Хотя покупатели и не стали делать более дорогих покупок, но само их число увеличилось. Значит и прибыль магазина стала выше. Исходя из этого, тест можно остановить  и признать победу группы В."
   ]
  },
  {
   "cell_type": "markdown",
   "id": "c0f3eda4",
   "metadata": {},
   "source": [
    "## Общий вывод"
   ]
  },
  {
   "cell_type": "markdown",
   "id": "a01bf2dd",
   "metadata": {},
   "source": [
    "В исследовании стояли следующие задачи: приоритизировать гипотезы, запустить A/B-тест и проанализировать результаты.\n",
    "\n",
    "Работа была разделена на 5 шагов: обзор данных; предобработка данных; приоритизация гипотез; анализ A/B-теста; вывод.\n",
    "\n",
    "На этапе предобработки данных были исправлены стили заголовков  и неверные типы данных.\n",
    "\n",
    "В первой части задания стояла цель приоритизации гипотез. После применения фреймворков ICE и RICE были выделены наиболее перспективные гипотезы: 8, 0, 7, 2, 6, а именно: \n",
    "* Запустить акцию, дающую скидку на товар в день рождения\n",
    "* Добавить два новых канала привлечения трафика, что позволит привлекать на 30% больше пользователей\n",
    "* Добавить форму подписки на все основные страницы, чтобы собрать базу клиентов для email-рассылок\n",
    "* Показать на главной странице баннеры с актуальными акциями и распродажами, чтобы увеличить конверсию\n",
    "* Добавить блоки рекомендаций товаров на сайт интернет магазина, чтобы повысить конверсию и средний чек\n",
    "\n",
    "Во второй части задания был запущен A/B-тест и сформированы следующие выводы:\n",
    "* Есть статистически значимое различие по конверсии между группами как по сырым данным, так и после фильтрации аномалий\n",
    "* По сырым данным нет статистически значимого различия по среднему чеку между группами, так  же и после фильтраци\n",
    "* График различия конверсии между группами сообщает, что результаты группы B лучше группы A: имеют тенденцию к росту, либо зафиксировались около среднего значения.\n",
    "* График различия среднего чека колеблется: он-то и позволил вам найти аномалии. Сделать из этого графика определённые выводы нельзя.\n",
    "Хотя покупатели и не стали делать более дорогих покупок, но само их число увеличилось. Значит и прибыль магазина стала выше. Исходя из этого, тест можно остановить  и признать победу группы В.\n"
   ]
  }
 ],
 "metadata": {
  "ExecuteTimeLog": [
   {
    "duration": 1199,
    "start_time": "2022-05-11T11:45:52.329Z"
   },
   {
    "duration": 118,
    "start_time": "2022-05-11T11:45:53.530Z"
   },
   {
    "duration": 14,
    "start_time": "2022-05-11T11:45:53.649Z"
   },
   {
    "duration": 12,
    "start_time": "2022-05-11T11:45:53.664Z"
   },
   {
    "duration": 14,
    "start_time": "2022-05-11T11:45:53.679Z"
   },
   {
    "duration": 24,
    "start_time": "2022-05-11T11:45:53.695Z"
   },
   {
    "duration": 16,
    "start_time": "2022-05-11T11:45:53.721Z"
   },
   {
    "duration": 18,
    "start_time": "2022-05-11T11:45:53.739Z"
   },
   {
    "duration": 16,
    "start_time": "2022-05-11T11:45:53.759Z"
   },
   {
    "duration": 6,
    "start_time": "2022-05-11T11:45:53.777Z"
   },
   {
    "duration": 12,
    "start_time": "2022-05-11T11:45:53.786Z"
   },
   {
    "duration": 16,
    "start_time": "2022-05-11T11:45:53.800Z"
   },
   {
    "duration": 16,
    "start_time": "2022-05-11T11:45:53.819Z"
   },
   {
    "duration": 6,
    "start_time": "2022-05-11T11:45:53.839Z"
   },
   {
    "duration": 20,
    "start_time": "2022-05-11T11:45:53.847Z"
   },
   {
    "duration": 12,
    "start_time": "2022-05-11T11:45:53.869Z"
   },
   {
    "duration": 589,
    "start_time": "2022-05-11T11:45:53.883Z"
   },
   {
    "duration": 6,
    "start_time": "2022-05-11T11:45:54.474Z"
   },
   {
    "duration": 8,
    "start_time": "2022-05-11T11:45:54.481Z"
   },
   {
    "duration": 16,
    "start_time": "2022-05-11T11:45:54.490Z"
   },
   {
    "duration": 305,
    "start_time": "2022-05-11T11:45:54.508Z"
   },
   {
    "duration": 221,
    "start_time": "2022-05-11T11:45:54.815Z"
   },
   {
    "duration": 318,
    "start_time": "2022-05-11T11:45:55.038Z"
   },
   {
    "duration": 227,
    "start_time": "2022-05-11T11:45:55.358Z"
   },
   {
    "duration": 328,
    "start_time": "2022-05-11T11:45:55.587Z"
   },
   {
    "duration": 141,
    "start_time": "2022-05-11T11:45:55.917Z"
   },
   {
    "duration": 6,
    "start_time": "2022-05-11T11:45:56.060Z"
   },
   {
    "duration": 166,
    "start_time": "2022-05-11T11:45:56.069Z"
   },
   {
    "duration": 7,
    "start_time": "2022-05-11T11:45:56.237Z"
   },
   {
    "duration": 393,
    "start_time": "2022-05-11T11:45:56.246Z"
   },
   {
    "duration": 12,
    "start_time": "2022-05-11T11:45:56.641Z"
   },
   {
    "duration": 40,
    "start_time": "2022-05-11T11:45:56.654Z"
   },
   {
    "duration": 41,
    "start_time": "2022-05-11T11:45:56.695Z"
   },
   {
    "duration": 204,
    "start_time": "2022-05-12T10:19:48.860Z"
   },
   {
    "duration": 206,
    "start_time": "2022-05-12T10:19:58.573Z"
   },
   {
    "duration": 806,
    "start_time": "2022-05-12T10:20:02.684Z"
   },
   {
    "duration": 40,
    "start_time": "2022-05-12T10:20:33.243Z"
   },
   {
    "duration": 1171,
    "start_time": "2022-05-12T10:20:40.850Z"
   },
   {
    "duration": 123,
    "start_time": "2022-05-12T10:20:42.023Z"
   },
   {
    "duration": 3,
    "start_time": "2022-05-12T10:20:42.148Z"
   },
   {
    "duration": 12,
    "start_time": "2022-05-12T10:20:42.153Z"
   },
   {
    "duration": 13,
    "start_time": "2022-05-12T10:20:42.166Z"
   },
   {
    "duration": 10,
    "start_time": "2022-05-12T10:20:42.180Z"
   },
   {
    "duration": 9,
    "start_time": "2022-05-12T10:20:42.191Z"
   },
   {
    "duration": 10,
    "start_time": "2022-05-12T10:20:42.202Z"
   },
   {
    "duration": 5,
    "start_time": "2022-05-12T10:20:42.214Z"
   },
   {
    "duration": 3,
    "start_time": "2022-05-12T10:20:42.222Z"
   },
   {
    "duration": 7,
    "start_time": "2022-05-12T10:20:42.227Z"
   },
   {
    "duration": 9,
    "start_time": "2022-05-12T10:20:42.235Z"
   },
   {
    "duration": 6,
    "start_time": "2022-05-12T10:20:42.245Z"
   },
   {
    "duration": 7,
    "start_time": "2022-05-12T10:20:42.252Z"
   },
   {
    "duration": 11,
    "start_time": "2022-05-12T10:20:42.260Z"
   },
   {
    "duration": 10,
    "start_time": "2022-05-12T10:20:42.300Z"
   },
   {
    "duration": 498,
    "start_time": "2022-05-12T10:20:42.312Z"
   },
   {
    "duration": 4,
    "start_time": "2022-05-12T10:20:42.811Z"
   },
   {
    "duration": 5,
    "start_time": "2022-05-12T10:20:42.817Z"
   },
   {
    "duration": 5,
    "start_time": "2022-05-12T10:20:42.824Z"
   },
   {
    "duration": 260,
    "start_time": "2022-05-12T10:20:42.830Z"
   },
   {
    "duration": 163,
    "start_time": "2022-05-12T10:20:43.092Z"
   },
   {
    "duration": 358,
    "start_time": "2022-05-12T10:20:43.256Z"
   },
   {
    "duration": 173,
    "start_time": "2022-05-12T10:20:43.615Z"
   },
   {
    "duration": 321,
    "start_time": "2022-05-12T10:20:43.790Z"
   },
   {
    "duration": 111,
    "start_time": "2022-05-12T10:20:44.112Z"
   },
   {
    "duration": 5,
    "start_time": "2022-05-12T10:20:44.224Z"
   },
   {
    "duration": 117,
    "start_time": "2022-05-12T10:20:44.232Z"
   },
   {
    "duration": 5,
    "start_time": "2022-05-12T10:20:44.351Z"
   },
   {
    "duration": 332,
    "start_time": "2022-05-12T10:20:44.358Z"
   },
   {
    "duration": 15,
    "start_time": "2022-05-12T10:20:44.692Z"
   },
   {
    "duration": 30,
    "start_time": "2022-05-12T10:20:44.708Z"
   },
   {
    "duration": 13,
    "start_time": "2022-05-12T10:20:44.740Z"
   },
   {
    "duration": 147,
    "start_time": "2022-05-12T10:21:30.337Z"
   },
   {
    "duration": 199,
    "start_time": "2022-05-12T10:22:21.528Z"
   },
   {
    "duration": 13,
    "start_time": "2022-05-12T10:23:16.072Z"
   },
   {
    "duration": 164,
    "start_time": "2022-05-12T10:26:08.812Z"
   },
   {
    "duration": 255,
    "start_time": "2022-05-12T10:26:50.310Z"
   },
   {
    "duration": 270,
    "start_time": "2022-05-12T10:30:25.210Z"
   },
   {
    "duration": 171,
    "start_time": "2022-05-12T10:30:48.712Z"
   },
   {
    "duration": 304,
    "start_time": "2022-05-12T10:31:12.177Z"
   },
   {
    "duration": 107,
    "start_time": "2022-05-12T10:32:18.312Z"
   },
   {
    "duration": 115,
    "start_time": "2022-05-12T10:33:04.101Z"
   },
   {
    "duration": 120,
    "start_time": "2022-05-12T10:33:36.676Z"
   },
   {
    "duration": 1012,
    "start_time": "2022-05-12T10:41:32.448Z"
   },
   {
    "duration": 120,
    "start_time": "2022-05-12T10:41:33.462Z"
   },
   {
    "duration": 12,
    "start_time": "2022-05-12T10:41:33.584Z"
   },
   {
    "duration": 11,
    "start_time": "2022-05-12T10:41:33.598Z"
   },
   {
    "duration": 8,
    "start_time": "2022-05-12T10:41:33.612Z"
   },
   {
    "duration": 14,
    "start_time": "2022-05-12T10:41:33.621Z"
   },
   {
    "duration": 9,
    "start_time": "2022-05-12T10:41:33.636Z"
   },
   {
    "duration": 10,
    "start_time": "2022-05-12T10:41:33.646Z"
   },
   {
    "duration": 4,
    "start_time": "2022-05-12T10:41:33.658Z"
   },
   {
    "duration": 6,
    "start_time": "2022-05-12T10:41:33.663Z"
   },
   {
    "duration": 12,
    "start_time": "2022-05-12T10:41:33.670Z"
   },
   {
    "duration": 6,
    "start_time": "2022-05-12T10:41:33.701Z"
   },
   {
    "duration": 6,
    "start_time": "2022-05-12T10:41:33.709Z"
   },
   {
    "duration": 5,
    "start_time": "2022-05-12T10:41:33.719Z"
   },
   {
    "duration": 12,
    "start_time": "2022-05-12T10:41:33.725Z"
   },
   {
    "duration": 11,
    "start_time": "2022-05-12T10:41:33.738Z"
   },
   {
    "duration": 524,
    "start_time": "2022-05-12T10:41:33.751Z"
   },
   {
    "duration": 5,
    "start_time": "2022-05-12T10:41:34.277Z"
   },
   {
    "duration": 4,
    "start_time": "2022-05-12T10:41:34.299Z"
   },
   {
    "duration": 5,
    "start_time": "2022-05-12T10:41:34.304Z"
   },
   {
    "duration": 237,
    "start_time": "2022-05-12T10:41:34.311Z"
   },
   {
    "duration": 171,
    "start_time": "2022-05-12T10:41:34.550Z"
   },
   {
    "duration": 282,
    "start_time": "2022-05-12T10:41:34.723Z"
   },
   {
    "duration": 176,
    "start_time": "2022-05-12T10:41:35.006Z"
   },
   {
    "duration": 330,
    "start_time": "2022-05-12T10:41:35.183Z"
   },
   {
    "duration": 115,
    "start_time": "2022-05-12T10:41:35.515Z"
   },
   {
    "duration": 5,
    "start_time": "2022-05-12T10:41:35.631Z"
   },
   {
    "duration": 129,
    "start_time": "2022-05-12T10:41:35.637Z"
   },
   {
    "duration": 4,
    "start_time": "2022-05-12T10:41:35.768Z"
   },
   {
    "duration": 332,
    "start_time": "2022-05-12T10:41:35.774Z"
   },
   {
    "duration": 9,
    "start_time": "2022-05-12T10:41:36.108Z"
   },
   {
    "duration": 29,
    "start_time": "2022-05-12T10:41:36.118Z"
   },
   {
    "duration": 11,
    "start_time": "2022-05-12T10:41:36.148Z"
   },
   {
    "duration": 60,
    "start_time": "2022-05-13T12:25:31.998Z"
   },
   {
    "duration": 1338,
    "start_time": "2022-05-13T12:25:37.093Z"
   },
   {
    "duration": 135,
    "start_time": "2022-05-13T12:25:38.585Z"
   },
   {
    "duration": 15,
    "start_time": "2022-05-13T12:25:39.853Z"
   },
   {
    "duration": 1163,
    "start_time": "2022-05-13T12:27:55.402Z"
   },
   {
    "duration": 127,
    "start_time": "2022-05-13T12:27:56.567Z"
   },
   {
    "duration": 12,
    "start_time": "2022-05-13T12:27:56.696Z"
   },
   {
    "duration": 12,
    "start_time": "2022-05-13T12:27:56.711Z"
   },
   {
    "duration": 21,
    "start_time": "2022-05-13T12:27:56.725Z"
   },
   {
    "duration": 15,
    "start_time": "2022-05-13T12:27:56.748Z"
   },
   {
    "duration": 11,
    "start_time": "2022-05-13T12:27:56.765Z"
   },
   {
    "duration": 14,
    "start_time": "2022-05-13T12:27:56.778Z"
   },
   {
    "duration": 7,
    "start_time": "2022-05-13T12:27:56.793Z"
   },
   {
    "duration": 8,
    "start_time": "2022-05-13T12:27:56.803Z"
   },
   {
    "duration": 24,
    "start_time": "2022-05-13T12:27:56.813Z"
   },
   {
    "duration": 7,
    "start_time": "2022-05-13T12:27:56.839Z"
   },
   {
    "duration": 11,
    "start_time": "2022-05-13T12:27:56.848Z"
   },
   {
    "duration": 11,
    "start_time": "2022-05-13T12:27:56.861Z"
   },
   {
    "duration": 15,
    "start_time": "2022-05-13T12:27:56.874Z"
   },
   {
    "duration": 12,
    "start_time": "2022-05-13T12:27:56.891Z"
   },
   {
    "duration": 597,
    "start_time": "2022-05-13T12:27:56.934Z"
   },
   {
    "duration": 5,
    "start_time": "2022-05-13T12:27:57.533Z"
   },
   {
    "duration": 14,
    "start_time": "2022-05-13T12:27:57.545Z"
   },
   {
    "duration": 10,
    "start_time": "2022-05-13T12:27:57.561Z"
   },
   {
    "duration": 326,
    "start_time": "2022-05-13T12:27:57.573Z"
   },
   {
    "duration": 257,
    "start_time": "2022-05-13T12:27:57.901Z"
   },
   {
    "duration": 343,
    "start_time": "2022-05-13T12:27:58.161Z"
   },
   {
    "duration": 257,
    "start_time": "2022-05-13T12:27:58.506Z"
   },
   {
    "duration": 349,
    "start_time": "2022-05-13T12:27:58.765Z"
   },
   {
    "duration": 162,
    "start_time": "2022-05-13T12:27:59.116Z"
   },
   {
    "duration": 6,
    "start_time": "2022-05-13T12:27:59.280Z"
   },
   {
    "duration": 181,
    "start_time": "2022-05-13T12:27:59.289Z"
   },
   {
    "duration": 6,
    "start_time": "2022-05-13T12:27:59.472Z"
   },
   {
    "duration": 426,
    "start_time": "2022-05-13T12:27:59.481Z"
   },
   {
    "duration": 12,
    "start_time": "2022-05-13T12:27:59.908Z"
   },
   {
    "duration": 54,
    "start_time": "2022-05-13T12:27:59.921Z"
   },
   {
    "duration": 15,
    "start_time": "2022-05-13T12:27:59.977Z"
   }
  ],
  "kernelspec": {
   "display_name": "Python 3 (ipykernel)",
   "language": "python",
   "name": "python3"
  },
  "language_info": {
   "codemirror_mode": {
    "name": "ipython",
    "version": 3
   },
   "file_extension": ".py",
   "mimetype": "text/x-python",
   "name": "python",
   "nbconvert_exporter": "python",
   "pygments_lexer": "ipython3",
   "version": "3.9.12"
  },
  "toc": {
   "base_numbering": 1,
   "nav_menu": {},
   "number_sections": true,
   "sideBar": true,
   "skip_h1_title": true,
   "title_cell": "Table of Contents",
   "title_sidebar": "Contents",
   "toc_cell": false,
   "toc_position": {},
   "toc_section_display": true,
   "toc_window_display": false
  }
 },
 "nbformat": 4,
 "nbformat_minor": 5
}
