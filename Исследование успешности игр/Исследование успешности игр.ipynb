{
 "cells": [
  {
   "cell_type": "markdown",
   "id": "f03bd946",
   "metadata": {},
   "source": [
    "# Исследование успешности игр"
   ]
  },
  {
   "cell_type": "markdown",
   "id": "4b5a75c5",
   "metadata": {},
   "source": [
    "Интернет-магазин «Стримчик» продаёт по всему миру компьютерные игры. Из открытых источников доступны исторические данные о продажах игр, оценки пользователей и экспертов, жанры и платформы (например, Xbox или PlayStation). \n",
    "\n",
    "**Цель исследования** - выявить определяющие успешность игры закономерности. Это позволит сделать ставку на потенциально популярный продукт и спланировать рекламные кампании.\n",
    "\n",
    "Представим, что сейчас декабрь 2016 г., и мы планируем кампанию на 2017-й.\n",
    "\n",
    "В наборе данных попадается аббревиатура ESRB (Entertainment Software Rating Board) — это ассоциация, определяющая возрастной рейтинг компьютерных игр. ESRB оценивает игровой контент и присваивает ему подходящую возрастную категорию, например, «Для взрослых», «Для детей младшего возраста» или «Для подростков».\n",
    "\n",
    "**Проверить гипотезы:**\n",
    "1. Средние пользовательские рейтинги платформ Xbox One и PC одинаковые; \n",
    "2.  Средние пользовательские рейтинги жанров Action (англ. «действие», экшен-игры) и Sports (англ. «спортивные соревнования») разные. \n",
    "\n",
    "**Ход исследования**\n",
    "\n",
    "Исследование пройдет в шесть этапов:\n",
    "1. Обзор данных;\n",
    "2. Предобработка данных;\n",
    "3. Анализ данных;\n",
    "4. Составление портрета пользователя каждого региона;\n",
    "5. Проверка гипотез;\n",
    "6. Общий вывод."
   ]
  },
  {
   "cell_type": "markdown",
   "id": "23738277",
   "metadata": {},
   "source": [
    "## Шаг 1. Обзор данных"
   ]
  },
  {
   "cell_type": "markdown",
   "id": "f68ea588",
   "metadata": {},
   "source": [
    "Импортируем необходимые библиотеки:"
   ]
  },
  {
   "cell_type": "code",
   "execution_count": 1,
   "id": "678fe004",
   "metadata": {},
   "outputs": [],
   "source": [
    "import pandas as pd\n",
    "import numpy as np\n",
    "import matplotlib.pyplot as plt\n",
    "from scipy import stats as st\n",
    "import seaborn as sns"
   ]
  },
  {
   "cell_type": "markdown",
   "id": "bdf9621d",
   "metadata": {},
   "source": [
    "Читаем файл `games.csv`. Он сохранен в той же папке, что и проект. Сохраняем его в переменную `data`."
   ]
  },
  {
   "cell_type": "code",
   "execution_count": 2,
   "id": "c331e12d",
   "metadata": {},
   "outputs": [],
   "source": [
    "data = pd.read_csv('games.csv')"
   ]
  },
  {
   "cell_type": "code",
   "execution_count": 3,
   "id": "04473291",
   "metadata": {},
   "outputs": [
    {
     "data": {
      "text/html": [
       "<div>\n",
       "<style scoped>\n",
       "    .dataframe tbody tr th:only-of-type {\n",
       "        vertical-align: middle;\n",
       "    }\n",
       "\n",
       "    .dataframe tbody tr th {\n",
       "        vertical-align: top;\n",
       "    }\n",
       "\n",
       "    .dataframe thead th {\n",
       "        text-align: right;\n",
       "    }\n",
       "</style>\n",
       "<table border=\"1\" class=\"dataframe\">\n",
       "  <thead>\n",
       "    <tr style=\"text-align: right;\">\n",
       "      <th></th>\n",
       "      <th>Name</th>\n",
       "      <th>Platform</th>\n",
       "      <th>Year_of_Release</th>\n",
       "      <th>Genre</th>\n",
       "      <th>NA_sales</th>\n",
       "      <th>EU_sales</th>\n",
       "      <th>JP_sales</th>\n",
       "      <th>Other_sales</th>\n",
       "      <th>Critic_Score</th>\n",
       "      <th>User_Score</th>\n",
       "      <th>Rating</th>\n",
       "    </tr>\n",
       "  </thead>\n",
       "  <tbody>\n",
       "    <tr>\n",
       "      <th>0</th>\n",
       "      <td>Wii Sports</td>\n",
       "      <td>Wii</td>\n",
       "      <td>2006.0</td>\n",
       "      <td>Sports</td>\n",
       "      <td>41.36</td>\n",
       "      <td>28.96</td>\n",
       "      <td>3.77</td>\n",
       "      <td>8.45</td>\n",
       "      <td>76.0</td>\n",
       "      <td>8</td>\n",
       "      <td>E</td>\n",
       "    </tr>\n",
       "    <tr>\n",
       "      <th>1</th>\n",
       "      <td>Super Mario Bros.</td>\n",
       "      <td>NES</td>\n",
       "      <td>1985.0</td>\n",
       "      <td>Platform</td>\n",
       "      <td>29.08</td>\n",
       "      <td>3.58</td>\n",
       "      <td>6.81</td>\n",
       "      <td>0.77</td>\n",
       "      <td>NaN</td>\n",
       "      <td>NaN</td>\n",
       "      <td>NaN</td>\n",
       "    </tr>\n",
       "    <tr>\n",
       "      <th>2</th>\n",
       "      <td>Mario Kart Wii</td>\n",
       "      <td>Wii</td>\n",
       "      <td>2008.0</td>\n",
       "      <td>Racing</td>\n",
       "      <td>15.68</td>\n",
       "      <td>12.76</td>\n",
       "      <td>3.79</td>\n",
       "      <td>3.29</td>\n",
       "      <td>82.0</td>\n",
       "      <td>8.3</td>\n",
       "      <td>E</td>\n",
       "    </tr>\n",
       "    <tr>\n",
       "      <th>3</th>\n",
       "      <td>Wii Sports Resort</td>\n",
       "      <td>Wii</td>\n",
       "      <td>2009.0</td>\n",
       "      <td>Sports</td>\n",
       "      <td>15.61</td>\n",
       "      <td>10.93</td>\n",
       "      <td>3.28</td>\n",
       "      <td>2.95</td>\n",
       "      <td>80.0</td>\n",
       "      <td>8</td>\n",
       "      <td>E</td>\n",
       "    </tr>\n",
       "    <tr>\n",
       "      <th>4</th>\n",
       "      <td>Pokemon Red/Pokemon Blue</td>\n",
       "      <td>GB</td>\n",
       "      <td>1996.0</td>\n",
       "      <td>Role-Playing</td>\n",
       "      <td>11.27</td>\n",
       "      <td>8.89</td>\n",
       "      <td>10.22</td>\n",
       "      <td>1.00</td>\n",
       "      <td>NaN</td>\n",
       "      <td>NaN</td>\n",
       "      <td>NaN</td>\n",
       "    </tr>\n",
       "  </tbody>\n",
       "</table>\n",
       "</div>"
      ],
      "text/plain": [
       "                       Name Platform  Year_of_Release         Genre  NA_sales  \\\n",
       "0                Wii Sports      Wii           2006.0        Sports     41.36   \n",
       "1         Super Mario Bros.      NES           1985.0      Platform     29.08   \n",
       "2            Mario Kart Wii      Wii           2008.0        Racing     15.68   \n",
       "3         Wii Sports Resort      Wii           2009.0        Sports     15.61   \n",
       "4  Pokemon Red/Pokemon Blue       GB           1996.0  Role-Playing     11.27   \n",
       "\n",
       "   EU_sales  JP_sales  Other_sales  Critic_Score User_Score Rating  \n",
       "0     28.96      3.77         8.45          76.0          8      E  \n",
       "1      3.58      6.81         0.77           NaN        NaN    NaN  \n",
       "2     12.76      3.79         3.29          82.0        8.3      E  \n",
       "3     10.93      3.28         2.95          80.0          8      E  \n",
       "4      8.89     10.22         1.00           NaN        NaN    NaN  "
      ]
     },
     "execution_count": 3,
     "metadata": {},
     "output_type": "execute_result"
    }
   ],
   "source": [
    "data.head()"
   ]
  },
  {
   "cell_type": "code",
   "execution_count": 4,
   "id": "89cbafcf",
   "metadata": {},
   "outputs": [
    {
     "name": "stdout",
     "output_type": "stream",
     "text": [
      "<class 'pandas.core.frame.DataFrame'>\n",
      "RangeIndex: 16715 entries, 0 to 16714\n",
      "Data columns (total 11 columns):\n",
      " #   Column           Non-Null Count  Dtype  \n",
      "---  ------           --------------  -----  \n",
      " 0   Name             16713 non-null  object \n",
      " 1   Platform         16715 non-null  object \n",
      " 2   Year_of_Release  16446 non-null  float64\n",
      " 3   Genre            16713 non-null  object \n",
      " 4   NA_sales         16715 non-null  float64\n",
      " 5   EU_sales         16715 non-null  float64\n",
      " 6   JP_sales         16715 non-null  float64\n",
      " 7   Other_sales      16715 non-null  float64\n",
      " 8   Critic_Score     8137 non-null   float64\n",
      " 9   User_Score       10014 non-null  object \n",
      " 10  Rating           9949 non-null   object \n",
      "dtypes: float64(6), object(5)\n",
      "memory usage: 1.4+ MB\n"
     ]
    }
   ],
   "source": [
    "data.info()"
   ]
  },
  {
   "cell_type": "markdown",
   "id": "44b0212a",
   "metadata": {},
   "source": [
    "Итак, в таблице 11 столбцов.\n",
    "Согласно документации к данным:\n",
    "* `Name` — название игры \n",
    "* `Platform` — платформа \n",
    "* `Year_of_Release` — год выпуска \n",
    "* `Genre` — жанр игры\n",
    "* `NA_sales` — продажи в Северной Америке (миллионы проданных копий) \n",
    "* `EU_sales` — продажи в Европе (миллионы проданных копий)\n",
    "* `JP_sales` — продажи в Японии (миллионы проданных копий) \n",
    "* `Other_sales` — продажи в других странах (миллионы проданных копий) \n",
    "* `Critic_Score` — оценка критиков (максимум 100)\n",
    "* `User_Score` — оценка пользователей (максимум 10)\n",
    "* `Rating` — рейтинг от организации ESRB (англ. Entertainment Software Rating Board). Эта ассоциация определяет рейтинг компьютерных игр и присваивает им подходящую возрастную категорию.\n",
    "\n",
    "В данных замечены следующие ошибки: \n",
    "1. Нарушение стиля в названиях колонок;\n",
    "2. Пропуски;\n",
    "3. Неправильный тип данных в столбцах `Year_of_Release` и `User_Score`."
   ]
  },
  {
   "cell_type": "markdown",
   "id": "5410a3b1",
   "metadata": {},
   "source": [
    "## Шаг 2. Предобработка данных"
   ]
  },
  {
   "cell_type": "markdown",
   "id": "66812d7d",
   "metadata": {},
   "source": [
    "### 2.1 Стиль заголовков "
   ]
  },
  {
   "cell_type": "code",
   "execution_count": 5,
   "id": "b7b23337",
   "metadata": {},
   "outputs": [
    {
     "data": {
      "text/plain": [
       "Index(['Name', 'Platform', 'Year_of_Release', 'Genre', 'NA_sales', 'EU_sales',\n",
       "       'JP_sales', 'Other_sales', 'Critic_Score', 'User_Score', 'Rating'],\n",
       "      dtype='object')"
      ]
     },
     "execution_count": 5,
     "metadata": {},
     "output_type": "execute_result"
    }
   ],
   "source": [
    "data.columns #выводим названия столбцов"
   ]
  },
  {
   "cell_type": "markdown",
   "id": "0d098e33",
   "metadata": {},
   "source": [
    "Переименуем колонки в соответвие со 'змеиным регистром':"
   ]
  },
  {
   "cell_type": "code",
   "execution_count": 6,
   "id": "f3a0169b",
   "metadata": {},
   "outputs": [],
   "source": [
    "data.columns = data.columns.str.lower()"
   ]
  },
  {
   "cell_type": "markdown",
   "id": "54aa2ae4",
   "metadata": {},
   "source": [
    "### 2.2 Пропуски\n"
   ]
  },
  {
   "cell_type": "markdown",
   "id": "7fb5c1b3",
   "metadata": {},
   "source": [
    "В столбце с оценкой пользователей используется аббревиатура 'tbd'. В сфере компьютерных игр, 'To Be Determined' - 'Будет определено', значит что оценка пока неизвестна. Для дальнейшего анализа, заменем аббревиатуру на '0'."
   ]
  },
  {
   "cell_type": "code",
   "execution_count": 7,
   "id": "88b33375",
   "metadata": {},
   "outputs": [],
   "source": [
    "data['user_score'].replace('tbd',np.nan, inplace=True)\n",
    "data['user_score'] = data['user_score'].fillna(0)"
   ]
  },
  {
   "cell_type": "markdown",
   "id": "ccd40785",
   "metadata": {},
   "source": [
    "В столбцах `name`, `genre`, `critic_score` и `rating` пропуски заменяем на '0'."
   ]
  },
  {
   "cell_type": "code",
   "execution_count": 8,
   "id": "0b027e81",
   "metadata": {},
   "outputs": [
    {
     "name": "stdout",
     "output_type": "stream",
     "text": [
      "<class 'pandas.core.frame.DataFrame'>\n",
      "RangeIndex: 16715 entries, 0 to 16714\n",
      "Data columns (total 11 columns):\n",
      " #   Column           Non-Null Count  Dtype  \n",
      "---  ------           --------------  -----  \n",
      " 0   name             16715 non-null  object \n",
      " 1   platform         16715 non-null  object \n",
      " 2   year_of_release  16446 non-null  float64\n",
      " 3   genre            16715 non-null  object \n",
      " 4   na_sales         16715 non-null  float64\n",
      " 5   eu_sales         16715 non-null  float64\n",
      " 6   jp_sales         16715 non-null  float64\n",
      " 7   other_sales      16715 non-null  float64\n",
      " 8   critic_score     16715 non-null  float64\n",
      " 9   user_score       16715 non-null  object \n",
      " 10  rating           16715 non-null  object \n",
      "dtypes: float64(6), object(5)\n",
      "memory usage: 1.4+ MB\n"
     ]
    }
   ],
   "source": [
    "data['name'] = data['name'].fillna(0)\n",
    "data['genre'] = data['genre'].fillna(0)\n",
    "data['critic_score'] = data['critic_score'].fillna(0)\n",
    "data['rating'] = data['rating'].fillna(0)\n",
    "\n",
    "data.info() #проверяем результат"
   ]
  },
  {
   "cell_type": "markdown",
   "id": "5bf3af74",
   "metadata": {},
   "source": [
    "Также пропущенные значения есть в столбце `year_of_release`. Заменять их не стоит, так как в обработке данных они не помешают. "
   ]
  },
  {
   "cell_type": "markdown",
   "id": "8e308d4a",
   "metadata": {},
   "source": [
    "### 2.2 Изменение типов данных"
   ]
  },
  {
   "cell_type": "markdown",
   "id": "5587d2a7",
   "metadata": {},
   "source": [
    "Поменяем тип данных в столбце `user_score` на `float`."
   ]
  },
  {
   "cell_type": "code",
   "execution_count": 9,
   "id": "66ea8f82",
   "metadata": {},
   "outputs": [],
   "source": [
    "data['user_score'] = data['user_score'].astype('float')"
   ]
  },
  {
   "cell_type": "markdown",
   "id": "e695d9d7",
   "metadata": {},
   "source": [
    "### 2.4 Формирование дополнительных столбцов"
   ]
  },
  {
   "cell_type": "markdown",
   "id": "26f62c93",
   "metadata": {},
   "source": [
    "Посчитаем суммарные продажи во всех регионах и запишите их в столбец `sum_score`."
   ]
  },
  {
   "cell_type": "code",
   "execution_count": 10,
   "id": "2841decb",
   "metadata": {
    "scrolled": true
   },
   "outputs": [
    {
     "data": {
      "text/html": [
       "<div>\n",
       "<style scoped>\n",
       "    .dataframe tbody tr th:only-of-type {\n",
       "        vertical-align: middle;\n",
       "    }\n",
       "\n",
       "    .dataframe tbody tr th {\n",
       "        vertical-align: top;\n",
       "    }\n",
       "\n",
       "    .dataframe thead th {\n",
       "        text-align: right;\n",
       "    }\n",
       "</style>\n",
       "<table border=\"1\" class=\"dataframe\">\n",
       "  <thead>\n",
       "    <tr style=\"text-align: right;\">\n",
       "      <th></th>\n",
       "      <th>name</th>\n",
       "      <th>platform</th>\n",
       "      <th>year_of_release</th>\n",
       "      <th>genre</th>\n",
       "      <th>na_sales</th>\n",
       "      <th>eu_sales</th>\n",
       "      <th>jp_sales</th>\n",
       "      <th>other_sales</th>\n",
       "      <th>critic_score</th>\n",
       "      <th>user_score</th>\n",
       "      <th>rating</th>\n",
       "      <th>sum_sales</th>\n",
       "    </tr>\n",
       "  </thead>\n",
       "  <tbody>\n",
       "    <tr>\n",
       "      <th>0</th>\n",
       "      <td>Wii Sports</td>\n",
       "      <td>Wii</td>\n",
       "      <td>2006.0</td>\n",
       "      <td>Sports</td>\n",
       "      <td>41.36</td>\n",
       "      <td>28.96</td>\n",
       "      <td>3.77</td>\n",
       "      <td>8.45</td>\n",
       "      <td>76.0</td>\n",
       "      <td>8.0</td>\n",
       "      <td>E</td>\n",
       "      <td>82.54</td>\n",
       "    </tr>\n",
       "    <tr>\n",
       "      <th>1</th>\n",
       "      <td>Super Mario Bros.</td>\n",
       "      <td>NES</td>\n",
       "      <td>1985.0</td>\n",
       "      <td>Platform</td>\n",
       "      <td>29.08</td>\n",
       "      <td>3.58</td>\n",
       "      <td>6.81</td>\n",
       "      <td>0.77</td>\n",
       "      <td>0.0</td>\n",
       "      <td>0.0</td>\n",
       "      <td>0</td>\n",
       "      <td>40.24</td>\n",
       "    </tr>\n",
       "    <tr>\n",
       "      <th>2</th>\n",
       "      <td>Mario Kart Wii</td>\n",
       "      <td>Wii</td>\n",
       "      <td>2008.0</td>\n",
       "      <td>Racing</td>\n",
       "      <td>15.68</td>\n",
       "      <td>12.76</td>\n",
       "      <td>3.79</td>\n",
       "      <td>3.29</td>\n",
       "      <td>82.0</td>\n",
       "      <td>8.3</td>\n",
       "      <td>E</td>\n",
       "      <td>35.52</td>\n",
       "    </tr>\n",
       "    <tr>\n",
       "      <th>3</th>\n",
       "      <td>Wii Sports Resort</td>\n",
       "      <td>Wii</td>\n",
       "      <td>2009.0</td>\n",
       "      <td>Sports</td>\n",
       "      <td>15.61</td>\n",
       "      <td>10.93</td>\n",
       "      <td>3.28</td>\n",
       "      <td>2.95</td>\n",
       "      <td>80.0</td>\n",
       "      <td>8.0</td>\n",
       "      <td>E</td>\n",
       "      <td>32.77</td>\n",
       "    </tr>\n",
       "    <tr>\n",
       "      <th>4</th>\n",
       "      <td>Pokemon Red/Pokemon Blue</td>\n",
       "      <td>GB</td>\n",
       "      <td>1996.0</td>\n",
       "      <td>Role-Playing</td>\n",
       "      <td>11.27</td>\n",
       "      <td>8.89</td>\n",
       "      <td>10.22</td>\n",
       "      <td>1.00</td>\n",
       "      <td>0.0</td>\n",
       "      <td>0.0</td>\n",
       "      <td>0</td>\n",
       "      <td>31.38</td>\n",
       "    </tr>\n",
       "    <tr>\n",
       "      <th>...</th>\n",
       "      <td>...</td>\n",
       "      <td>...</td>\n",
       "      <td>...</td>\n",
       "      <td>...</td>\n",
       "      <td>...</td>\n",
       "      <td>...</td>\n",
       "      <td>...</td>\n",
       "      <td>...</td>\n",
       "      <td>...</td>\n",
       "      <td>...</td>\n",
       "      <td>...</td>\n",
       "      <td>...</td>\n",
       "    </tr>\n",
       "    <tr>\n",
       "      <th>16710</th>\n",
       "      <td>Samurai Warriors: Sanada Maru</td>\n",
       "      <td>PS3</td>\n",
       "      <td>2016.0</td>\n",
       "      <td>Action</td>\n",
       "      <td>0.00</td>\n",
       "      <td>0.00</td>\n",
       "      <td>0.01</td>\n",
       "      <td>0.00</td>\n",
       "      <td>0.0</td>\n",
       "      <td>0.0</td>\n",
       "      <td>0</td>\n",
       "      <td>0.01</td>\n",
       "    </tr>\n",
       "    <tr>\n",
       "      <th>16711</th>\n",
       "      <td>LMA Manager 2007</td>\n",
       "      <td>X360</td>\n",
       "      <td>2006.0</td>\n",
       "      <td>Sports</td>\n",
       "      <td>0.00</td>\n",
       "      <td>0.01</td>\n",
       "      <td>0.00</td>\n",
       "      <td>0.00</td>\n",
       "      <td>0.0</td>\n",
       "      <td>0.0</td>\n",
       "      <td>0</td>\n",
       "      <td>0.01</td>\n",
       "    </tr>\n",
       "    <tr>\n",
       "      <th>16712</th>\n",
       "      <td>Haitaka no Psychedelica</td>\n",
       "      <td>PSV</td>\n",
       "      <td>2016.0</td>\n",
       "      <td>Adventure</td>\n",
       "      <td>0.00</td>\n",
       "      <td>0.00</td>\n",
       "      <td>0.01</td>\n",
       "      <td>0.00</td>\n",
       "      <td>0.0</td>\n",
       "      <td>0.0</td>\n",
       "      <td>0</td>\n",
       "      <td>0.01</td>\n",
       "    </tr>\n",
       "    <tr>\n",
       "      <th>16713</th>\n",
       "      <td>Spirits &amp; Spells</td>\n",
       "      <td>GBA</td>\n",
       "      <td>2003.0</td>\n",
       "      <td>Platform</td>\n",
       "      <td>0.01</td>\n",
       "      <td>0.00</td>\n",
       "      <td>0.00</td>\n",
       "      <td>0.00</td>\n",
       "      <td>0.0</td>\n",
       "      <td>0.0</td>\n",
       "      <td>0</td>\n",
       "      <td>0.01</td>\n",
       "    </tr>\n",
       "    <tr>\n",
       "      <th>16714</th>\n",
       "      <td>Winning Post 8 2016</td>\n",
       "      <td>PSV</td>\n",
       "      <td>2016.0</td>\n",
       "      <td>Simulation</td>\n",
       "      <td>0.00</td>\n",
       "      <td>0.00</td>\n",
       "      <td>0.01</td>\n",
       "      <td>0.00</td>\n",
       "      <td>0.0</td>\n",
       "      <td>0.0</td>\n",
       "      <td>0</td>\n",
       "      <td>0.01</td>\n",
       "    </tr>\n",
       "  </tbody>\n",
       "</table>\n",
       "<p>16715 rows × 12 columns</p>\n",
       "</div>"
      ],
      "text/plain": [
       "                                name platform  year_of_release         genre  \\\n",
       "0                         Wii Sports      Wii           2006.0        Sports   \n",
       "1                  Super Mario Bros.      NES           1985.0      Platform   \n",
       "2                     Mario Kart Wii      Wii           2008.0        Racing   \n",
       "3                  Wii Sports Resort      Wii           2009.0        Sports   \n",
       "4           Pokemon Red/Pokemon Blue       GB           1996.0  Role-Playing   \n",
       "...                              ...      ...              ...           ...   \n",
       "16710  Samurai Warriors: Sanada Maru      PS3           2016.0        Action   \n",
       "16711               LMA Manager 2007     X360           2006.0        Sports   \n",
       "16712        Haitaka no Psychedelica      PSV           2016.0     Adventure   \n",
       "16713               Spirits & Spells      GBA           2003.0      Platform   \n",
       "16714            Winning Post 8 2016      PSV           2016.0    Simulation   \n",
       "\n",
       "       na_sales  eu_sales  jp_sales  other_sales  critic_score  user_score  \\\n",
       "0         41.36     28.96      3.77         8.45          76.0         8.0   \n",
       "1         29.08      3.58      6.81         0.77           0.0         0.0   \n",
       "2         15.68     12.76      3.79         3.29          82.0         8.3   \n",
       "3         15.61     10.93      3.28         2.95          80.0         8.0   \n",
       "4         11.27      8.89     10.22         1.00           0.0         0.0   \n",
       "...         ...       ...       ...          ...           ...         ...   \n",
       "16710      0.00      0.00      0.01         0.00           0.0         0.0   \n",
       "16711      0.00      0.01      0.00         0.00           0.0         0.0   \n",
       "16712      0.00      0.00      0.01         0.00           0.0         0.0   \n",
       "16713      0.01      0.00      0.00         0.00           0.0         0.0   \n",
       "16714      0.00      0.00      0.01         0.00           0.0         0.0   \n",
       "\n",
       "      rating  sum_sales  \n",
       "0          E      82.54  \n",
       "1          0      40.24  \n",
       "2          E      35.52  \n",
       "3          E      32.77  \n",
       "4          0      31.38  \n",
       "...      ...        ...  \n",
       "16710      0       0.01  \n",
       "16711      0       0.01  \n",
       "16712      0       0.01  \n",
       "16713      0       0.01  \n",
       "16714      0       0.01  \n",
       "\n",
       "[16715 rows x 12 columns]"
      ]
     },
     "execution_count": 10,
     "metadata": {},
     "output_type": "execute_result"
    }
   ],
   "source": [
    "data['sum_sales'] = data['na_sales'] + data['eu_sales'] + data['jp_sales'] + data['other_sales']\n",
    " \n",
    "data #проверяем результат"
   ]
  },
  {
   "cell_type": "markdown",
   "id": "88a01af2",
   "metadata": {},
   "source": [
    "**Вывод**\n",
    "\n",
    "На этапе предобработки были исправлены следующие ошибки:\n",
    "* стили заголовков;\n",
    "* пропуски;\n",
    "* неверные типы данных.\n",
    "\n",
    "Теперь можно приступить к анализу данных."
   ]
  },
  {
   "cell_type": "markdown",
   "id": "da5cff2d",
   "metadata": {},
   "source": [
    "## Шаг 3. Анализ данных"
   ]
  },
  {
   "cell_type": "markdown",
   "id": "83b0affd",
   "metadata": {},
   "source": [
    "Проведем исследовательский анализ данных.\n",
    "\n",
    "Для начала посмотрим, сколько игр выпускалось в разные годы."
   ]
  },
  {
   "cell_type": "code",
   "execution_count": 11,
   "id": "3834d9ff",
   "metadata": {},
   "outputs": [
    {
     "data": {
      "text/plain": [
       "2008.0    1427\n",
       "2009.0    1426\n",
       "2010.0    1255\n",
       "2007.0    1197\n",
       "2011.0    1136\n",
       "Name: year_of_release, dtype: int64"
      ]
     },
     "execution_count": 11,
     "metadata": {},
     "output_type": "execute_result"
    }
   ],
   "source": [
    "data['year_of_release'].value_counts().head()"
   ]
  },
  {
   "cell_type": "code",
   "execution_count": 12,
   "id": "6570e975",
   "metadata": {},
   "outputs": [
    {
     "data": {
      "image/png": "[encoded data removed]",
      "text/plain": [
       "<Figure size 432x288 with 1 Axes>"
      ]
     },
     "metadata": {
      "needs_background": "light"
     },
     "output_type": "display_data"
    }
   ],
   "source": [
    "data['year_of_release'].hist() \n",
    "plt.show() "
   ]
  },
  {
   "cell_type": "markdown",
   "id": "3efafa54",
   "metadata": {},
   "source": [
    "Больше всего игр выпустили в 2008-2009. \n",
    "\n",
    "\n",
    "Теперь посмотрим, как менялись продажи по платформам, для этого выберем платформы с наибольшими суммарными продажами."
   ]
  },
  {
   "cell_type": "code",
   "execution_count": 13,
   "id": "3fe9b148",
   "metadata": {},
   "outputs": [
    {
     "data": {
      "text/plain": [
       "platform\n",
       "PS2     1255.77\n",
       "X360     971.42\n",
       "PS3      939.65\n",
       "Wii      907.51\n",
       "DS       806.12\n",
       "Name: sum_sales, dtype: float64"
      ]
     },
     "execution_count": 13,
     "metadata": {},
     "output_type": "execute_result"
    }
   ],
   "source": [
    "data.groupby('platform')['sum_sales'].sum().sort_values(ascending=False).head()"
   ]
  },
  {
   "cell_type": "markdown",
   "id": "0c7e6c84",
   "metadata": {},
   "source": [
    "Самыми успешными оказались: PS2, X360, PS3, Wii и DS.\n",
    "\n",
    "Построим распределение выхода игр по годам для каждой платформы."
   ]
  },
  {
   "cell_type": "code",
   "execution_count": 14,
   "id": "8b0d5fa0",
   "metadata": {},
   "outputs": [],
   "source": [
    "ps2 =  data[data['platform'] == 'PS2'] #создаем отдельные датафреймы для платформ\n",
    "x360 = data[data['platform'] == 'X360']\n",
    "ps3 = data[data['platform'] == 'PS3']\n",
    "wii = data[data['platform'] == 'Wii']\n",
    "ds = data[data['platform'] == 'DS']"
   ]
  },
  {
   "cell_type": "code",
   "execution_count": 15,
   "id": "0c4e3332",
   "metadata": {},
   "outputs": [
    {
     "data": {
      "image/png": "[encoded data removed]",
      "text/plain": [
       "<Figure size 432x288 with 1 Axes>"
      ]
     },
     "metadata": {
      "needs_background": "light"
     },
     "output_type": "display_data"
    }
   ],
   "source": [
    "ps2.pivot_table(index='year_of_release', values='sum_sales').plot() #распределение по годам для PS2\n",
    "plt.xlabel('Год')\n",
    "plt.ylabel('Суммарные продажи')\n",
    "plt.title('Продажи платформы PS2')\n",
    "plt.show()"
   ]
  },
  {
   "cell_type": "markdown",
   "id": "4171c58e",
   "metadata": {},
   "source": [
    "Пик продаж - 2001 год, 'жизнь' платформы - 11 лет."
   ]
  },
  {
   "cell_type": "code",
   "execution_count": 16,
   "id": "6fb8fb78",
   "metadata": {},
   "outputs": [
    {
     "data": {
      "image/png": "[encoded data removed]",
      "text/plain": [
       "<Figure size 432x288 with 1 Axes>"
      ]
     },
     "metadata": {
      "needs_background": "light"
     },
     "output_type": "display_data"
    }
   ],
   "source": [
    "x360.pivot_table(index='year_of_release', values='sum_sales').plot() #распределение по годам для X360\n",
    "plt.xlabel('Год')\n",
    "plt.ylabel('Суммарные продажи')\n",
    "plt.title('Продажи платформы X360')\n",
    "plt.show()"
   ]
  },
  {
   "cell_type": "markdown",
   "id": "49d75157",
   "metadata": {},
   "source": [
    "Пик продаж - 2013 год, 'жизнь' платформы - 11 лет."
   ]
  },
  {
   "cell_type": "code",
   "execution_count": 17,
   "id": "c6e57cc5",
   "metadata": {},
   "outputs": [
    {
     "data": {
      "image/png": "[encoded data removed]",
      "text/plain": [
       "<Figure size 432x288 with 1 Axes>"
      ]
     },
     "metadata": {
      "needs_background": "light"
     },
     "output_type": "display_data"
    }
   ],
   "source": [
    "ps3.pivot_table(index='year_of_release', values='sum_sales').plot() #распределение по годам для PS3\n",
    "plt.xlabel('Год')\n",
    "plt.ylabel('Суммарные продажи')\n",
    "plt.title('Продажи платформы PS3')\n",
    "plt.show()"
   ]
  },
  {
   "cell_type": "markdown",
   "id": "82fa75e7",
   "metadata": {},
   "source": [
    "Пик продаж - 2013 год, 'жизнь' платформы - 10 лет."
   ]
  },
  {
   "cell_type": "code",
   "execution_count": 18,
   "id": "672892bc",
   "metadata": {
    "scrolled": true
   },
   "outputs": [
    {
     "data": {
      "image/png": "[encoded data removed]",
      "text/plain": [
       "<Figure size 432x288 with 1 Axes>"
      ]
     },
     "metadata": {
      "needs_background": "light"
     },
     "output_type": "display_data"
    }
   ],
   "source": [
    "wii.pivot_table(index='year_of_release', values='sum_sales').plot() #распределение по годам для Wii\n",
    "plt.xlabel('Год')\n",
    "plt.ylabel('Суммарные продажи')\n",
    "plt.title('Продажи платформы Wii')\n",
    "plt.show()"
   ]
  },
  {
   "cell_type": "markdown",
   "id": "366f7d60",
   "metadata": {},
   "source": [
    "Пик продаж - 2006 год, 'жизнь' платформы - 10 лет."
   ]
  },
  {
   "cell_type": "code",
   "execution_count": 19,
   "id": "3ed7afdd",
   "metadata": {
    "scrolled": true
   },
   "outputs": [
    {
     "data": {
      "image/png": "[encoded data removed]",
      "text/plain": [
       "<Figure size 432x288 with 1 Axes>"
      ]
     },
     "metadata": {
      "needs_background": "light"
     },
     "output_type": "display_data"
    }
   ],
   "source": [
    "ds.pivot_table(index='year_of_release', values='sum_sales').plot() #распределение по годам для DS\n",
    "plt.xlabel('Год')\n",
    "plt.ylabel('Суммарные продажи')\n",
    "plt.title('Продажи платформы DS')\n",
    "plt.show()"
   ]
  },
  {
   "cell_type": "markdown",
   "id": "3c3db063",
   "metadata": {},
   "source": [
    "Пик продаж - 2005 год, 'жизнь' платформы - 28 лет.\n",
    "\n",
    "Если обобщить данные, то, в среднем, жизненный цикл платформы - 11 лет.\n",
    "\n",
    "Для построения прогноза на 2017 год нужно выбрать акутальный период. Возьмем с 2014 по 2016, так как компьютерная индустрия динамично меняющаяся и взяв более ранние года есть опастность захватить отжившие себя тренды. Отобранные данные сохраним в `actual_data`."
   ]
  },
  {
   "cell_type": "code",
   "execution_count": 20,
   "id": "2909389e",
   "metadata": {
    "scrolled": false
   },
   "outputs": [
    {
     "data": {
      "text/html": [
       "<div>\n",
       "<style scoped>\n",
       "    .dataframe tbody tr th:only-of-type {\n",
       "        vertical-align: middle;\n",
       "    }\n",
       "\n",
       "    .dataframe tbody tr th {\n",
       "        vertical-align: top;\n",
       "    }\n",
       "\n",
       "    .dataframe thead th {\n",
       "        text-align: right;\n",
       "    }\n",
       "</style>\n",
       "<table border=\"1\" class=\"dataframe\">\n",
       "  <thead>\n",
       "    <tr style=\"text-align: right;\">\n",
       "      <th></th>\n",
       "      <th>name</th>\n",
       "      <th>platform</th>\n",
       "      <th>year_of_release</th>\n",
       "      <th>genre</th>\n",
       "      <th>na_sales</th>\n",
       "      <th>eu_sales</th>\n",
       "      <th>jp_sales</th>\n",
       "      <th>other_sales</th>\n",
       "      <th>critic_score</th>\n",
       "      <th>user_score</th>\n",
       "      <th>rating</th>\n",
       "      <th>sum_sales</th>\n",
       "    </tr>\n",
       "  </thead>\n",
       "  <tbody>\n",
       "    <tr>\n",
       "      <th>31</th>\n",
       "      <td>Call of Duty: Black Ops 3</td>\n",
       "      <td>PS4</td>\n",
       "      <td>2015.0</td>\n",
       "      <td>Shooter</td>\n",
       "      <td>6.03</td>\n",
       "      <td>5.86</td>\n",
       "      <td>0.36</td>\n",
       "      <td>2.38</td>\n",
       "      <td>0.0</td>\n",
       "      <td>0.0</td>\n",
       "      <td>0</td>\n",
       "      <td>14.63</td>\n",
       "    </tr>\n",
       "    <tr>\n",
       "      <th>42</th>\n",
       "      <td>Grand Theft Auto V</td>\n",
       "      <td>PS4</td>\n",
       "      <td>2014.0</td>\n",
       "      <td>Action</td>\n",
       "      <td>3.96</td>\n",
       "      <td>6.31</td>\n",
       "      <td>0.38</td>\n",
       "      <td>1.97</td>\n",
       "      <td>97.0</td>\n",
       "      <td>8.3</td>\n",
       "      <td>M</td>\n",
       "      <td>12.62</td>\n",
       "    </tr>\n",
       "    <tr>\n",
       "      <th>47</th>\n",
       "      <td>Pokemon Omega Ruby/Pokemon Alpha Sapphire</td>\n",
       "      <td>3DS</td>\n",
       "      <td>2014.0</td>\n",
       "      <td>Role-Playing</td>\n",
       "      <td>4.35</td>\n",
       "      <td>3.49</td>\n",
       "      <td>3.10</td>\n",
       "      <td>0.74</td>\n",
       "      <td>0.0</td>\n",
       "      <td>0.0</td>\n",
       "      <td>0</td>\n",
       "      <td>11.68</td>\n",
       "    </tr>\n",
       "    <tr>\n",
       "      <th>77</th>\n",
       "      <td>FIFA 16</td>\n",
       "      <td>PS4</td>\n",
       "      <td>2015.0</td>\n",
       "      <td>Sports</td>\n",
       "      <td>1.12</td>\n",
       "      <td>6.12</td>\n",
       "      <td>0.06</td>\n",
       "      <td>1.28</td>\n",
       "      <td>82.0</td>\n",
       "      <td>4.3</td>\n",
       "      <td>E</td>\n",
       "      <td>8.58</td>\n",
       "    </tr>\n",
       "    <tr>\n",
       "      <th>87</th>\n",
       "      <td>Star Wars Battlefront (2015)</td>\n",
       "      <td>PS4</td>\n",
       "      <td>2015.0</td>\n",
       "      <td>Shooter</td>\n",
       "      <td>2.99</td>\n",
       "      <td>3.49</td>\n",
       "      <td>0.22</td>\n",
       "      <td>1.28</td>\n",
       "      <td>0.0</td>\n",
       "      <td>0.0</td>\n",
       "      <td>0</td>\n",
       "      <td>7.98</td>\n",
       "    </tr>\n",
       "    <tr>\n",
       "      <th>...</th>\n",
       "      <td>...</td>\n",
       "      <td>...</td>\n",
       "      <td>...</td>\n",
       "      <td>...</td>\n",
       "      <td>...</td>\n",
       "      <td>...</td>\n",
       "      <td>...</td>\n",
       "      <td>...</td>\n",
       "      <td>...</td>\n",
       "      <td>...</td>\n",
       "      <td>...</td>\n",
       "      <td>...</td>\n",
       "    </tr>\n",
       "    <tr>\n",
       "      <th>16703</th>\n",
       "      <td>Strawberry Nauts</td>\n",
       "      <td>PSV</td>\n",
       "      <td>2016.0</td>\n",
       "      <td>Adventure</td>\n",
       "      <td>0.00</td>\n",
       "      <td>0.00</td>\n",
       "      <td>0.01</td>\n",
       "      <td>0.00</td>\n",
       "      <td>0.0</td>\n",
       "      <td>0.0</td>\n",
       "      <td>0</td>\n",
       "      <td>0.01</td>\n",
       "    </tr>\n",
       "    <tr>\n",
       "      <th>16707</th>\n",
       "      <td>Aiyoku no Eustia</td>\n",
       "      <td>PSV</td>\n",
       "      <td>2014.0</td>\n",
       "      <td>Misc</td>\n",
       "      <td>0.00</td>\n",
       "      <td>0.00</td>\n",
       "      <td>0.01</td>\n",
       "      <td>0.00</td>\n",
       "      <td>0.0</td>\n",
       "      <td>0.0</td>\n",
       "      <td>0</td>\n",
       "      <td>0.01</td>\n",
       "    </tr>\n",
       "    <tr>\n",
       "      <th>16710</th>\n",
       "      <td>Samurai Warriors: Sanada Maru</td>\n",
       "      <td>PS3</td>\n",
       "      <td>2016.0</td>\n",
       "      <td>Action</td>\n",
       "      <td>0.00</td>\n",
       "      <td>0.00</td>\n",
       "      <td>0.01</td>\n",
       "      <td>0.00</td>\n",
       "      <td>0.0</td>\n",
       "      <td>0.0</td>\n",
       "      <td>0</td>\n",
       "      <td>0.01</td>\n",
       "    </tr>\n",
       "    <tr>\n",
       "      <th>16712</th>\n",
       "      <td>Haitaka no Psychedelica</td>\n",
       "      <td>PSV</td>\n",
       "      <td>2016.0</td>\n",
       "      <td>Adventure</td>\n",
       "      <td>0.00</td>\n",
       "      <td>0.00</td>\n",
       "      <td>0.01</td>\n",
       "      <td>0.00</td>\n",
       "      <td>0.0</td>\n",
       "      <td>0.0</td>\n",
       "      <td>0</td>\n",
       "      <td>0.01</td>\n",
       "    </tr>\n",
       "    <tr>\n",
       "      <th>16714</th>\n",
       "      <td>Winning Post 8 2016</td>\n",
       "      <td>PSV</td>\n",
       "      <td>2016.0</td>\n",
       "      <td>Simulation</td>\n",
       "      <td>0.00</td>\n",
       "      <td>0.00</td>\n",
       "      <td>0.01</td>\n",
       "      <td>0.00</td>\n",
       "      <td>0.0</td>\n",
       "      <td>0.0</td>\n",
       "      <td>0</td>\n",
       "      <td>0.01</td>\n",
       "    </tr>\n",
       "  </tbody>\n",
       "</table>\n",
       "<p>1689 rows × 12 columns</p>\n",
       "</div>"
      ],
      "text/plain": [
       "                                            name platform  year_of_release  \\\n",
       "31                     Call of Duty: Black Ops 3      PS4           2015.0   \n",
       "42                            Grand Theft Auto V      PS4           2014.0   \n",
       "47     Pokemon Omega Ruby/Pokemon Alpha Sapphire      3DS           2014.0   \n",
       "77                                       FIFA 16      PS4           2015.0   \n",
       "87                  Star Wars Battlefront (2015)      PS4           2015.0   \n",
       "...                                          ...      ...              ...   \n",
       "16703                           Strawberry Nauts      PSV           2016.0   \n",
       "16707                           Aiyoku no Eustia      PSV           2014.0   \n",
       "16710              Samurai Warriors: Sanada Maru      PS3           2016.0   \n",
       "16712                    Haitaka no Psychedelica      PSV           2016.0   \n",
       "16714                        Winning Post 8 2016      PSV           2016.0   \n",
       "\n",
       "              genre  na_sales  eu_sales  jp_sales  other_sales  critic_score  \\\n",
       "31          Shooter      6.03      5.86      0.36         2.38           0.0   \n",
       "42           Action      3.96      6.31      0.38         1.97          97.0   \n",
       "47     Role-Playing      4.35      3.49      3.10         0.74           0.0   \n",
       "77           Sports      1.12      6.12      0.06         1.28          82.0   \n",
       "87          Shooter      2.99      3.49      0.22         1.28           0.0   \n",
       "...             ...       ...       ...       ...          ...           ...   \n",
       "16703     Adventure      0.00      0.00      0.01         0.00           0.0   \n",
       "16707          Misc      0.00      0.00      0.01         0.00           0.0   \n",
       "16710        Action      0.00      0.00      0.01         0.00           0.0   \n",
       "16712     Adventure      0.00      0.00      0.01         0.00           0.0   \n",
       "16714    Simulation      0.00      0.00      0.01         0.00           0.0   \n",
       "\n",
       "       user_score rating  sum_sales  \n",
       "31            0.0      0      14.63  \n",
       "42            8.3      M      12.62  \n",
       "47            0.0      0      11.68  \n",
       "77            4.3      E       8.58  \n",
       "87            0.0      0       7.98  \n",
       "...           ...    ...        ...  \n",
       "16703         0.0      0       0.01  \n",
       "16707         0.0      0       0.01  \n",
       "16710         0.0      0       0.01  \n",
       "16712         0.0      0       0.01  \n",
       "16714         0.0      0       0.01  \n",
       "\n",
       "[1689 rows x 12 columns]"
      ]
     },
     "execution_count": 20,
     "metadata": {},
     "output_type": "execute_result"
    }
   ],
   "source": [
    "actual_data = data.loc[data['year_of_release'] >= 2014]\n",
    "actual_data                    "
   ]
  },
  {
   "cell_type": "markdown",
   "id": "b9df313e",
   "metadata": {},
   "source": [
    "Теперь можем определить потенциально прибыльные на следующий год платформы:"
   ]
  },
  {
   "cell_type": "code",
   "execution_count": 21,
   "id": "a13ead37",
   "metadata": {},
   "outputs": [
    {
     "data": {
      "text/plain": [
       "<AxesSubplot:xlabel='year_of_release'>"
      ]
     },
     "execution_count": 21,
     "metadata": {},
     "output_type": "execute_result"
    },
    {
     "data": {
      "image/png": "[encoded data removed]",
      "text/plain": [
       "<Figure size 432x288 with 1 Axes>"
      ]
     },
     "metadata": {
      "needs_background": "light"
     },
     "output_type": "display_data"
    }
   ],
   "source": [
    "pd.pivot_table(actual_data, index='year_of_release', values='sum_sales', columns='platform').plot()"
   ]
  },
  {
   "cell_type": "markdown",
   "id": "a974dd68",
   "metadata": {},
   "source": [
    "Платформы, которые не закрылись и у которых не упали в несколько раз продажи: 3DS, PSV, PC. Для них и проведем анализ. Для начала построим боксплоты продаж."
   ]
  },
  {
   "cell_type": "code",
   "execution_count": 22,
   "id": "220e7ddf",
   "metadata": {
    "scrolled": true
   },
   "outputs": [
    {
     "data": {
      "image/png": "[encoded data removed]",
      "text/plain": [
       "<Figure size 432x288 with 1 Axes>"
      ]
     },
     "metadata": {
      "needs_background": "light"
     },
     "output_type": "display_data"
    }
   ],
   "source": [
    "actual_platform = actual_data.loc[(actual_data['platform'] == '3DS') | (actual_data['platform'] == 'PSV') | (actual_data['platform'] == 'PC')]\n",
    "sns.boxplot(x='platform', y='sum_sales', data=actual_platform)\n",
    "plt.xlabel('Прибыльные платформы')\n",
    "plt.ylabel('Суммарные продажи')\n",
    "plt.ylim(0, 0.75)\n",
    "plt.show()"
   ]
  },
  {
   "cell_type": "markdown",
   "id": "411591ba",
   "metadata": {},
   "source": [
    "Медиана продаж у платформ 3DS, PC и PSV равна сооветственно 0.098, 0.05 и 0.03, межквартильные размахи - 0.25, 0,2 и 0.8."
   ]
  },
  {
   "cell_type": "markdown",
   "id": "282da832",
   "metadata": {},
   "source": [
    "Теперь рассмотрим, как влияют на продажи внутри одной популярной платформы (PS2) отзывы пользователей и критиков. Для этого построим диаграмму рассеяния"
   ]
  },
  {
   "cell_type": "markdown",
   "id": "07c95a0c",
   "metadata": {},
   "source": [
    "Для потенциально прибыльных платформ рассмотрим влияние оценок пользователей на продажи, исключив из датасета нули, которыми заполняли пропуски."
   ]
  },
  {
   "cell_type": "code",
   "execution_count": 23,
   "id": "82115104",
   "metadata": {
    "scrolled": true
   },
   "outputs": [
    {
     "data": {
      "image/png": "[encoded data removed]",
      "text/plain": [
       "<Figure size 432x288 with 1 Axes>"
      ]
     },
     "metadata": {
      "needs_background": "light"
     },
     "output_type": "display_data"
    }
   ],
   "source": [
    "actual_platform = actual_platform.loc[(actual_data['user_score'] != 0) | (actual_data['critic_score'] != 0)]\n",
    "actual_platform.plot(x='user_score', y='sum_sales', kind='scatter', c='#1f77b4')\n",
    "plt.xlabel('Оценки пользователей')\n",
    "plt.ylabel('Суммарные продажи')\n",
    "plt.title('Влияние оценок пользователей на продажи')\n",
    "plt.show()"
   ]
  },
  {
   "cell_type": "markdown",
   "id": "48a64b12",
   "metadata": {},
   "source": [
    "Далее посчитаем корреляцию."
   ]
  },
  {
   "cell_type": "code",
   "execution_count": 24,
   "id": "011993b0",
   "metadata": {},
   "outputs": [
    {
     "data": {
      "text/plain": [
       "0.0688347207401111"
      ]
     },
     "execution_count": 24,
     "metadata": {},
     "output_type": "execute_result"
    }
   ],
   "source": [
    "actual_platform['user_score'].corr(actual_platform['sum_sales'])"
   ]
  },
  {
   "cell_type": "markdown",
   "id": "b0573fbe",
   "metadata": {},
   "source": [
    "Коэффициент корреляции Пирсона положительный и ненулевой\n",
    "Оценки пользователей и суммарные продажи связаны линейно. Зачастую, чем выше оценка, тем выше суммарные продажи. "
   ]
  },
  {
   "cell_type": "code",
   "execution_count": 25,
   "id": "5bb84b2b",
   "metadata": {
    "scrolled": false
   },
   "outputs": [
    {
     "data": {
      "image/png": "[encoded data removed]",
      "text/plain": [
       "<Figure size 432x288 with 1 Axes>"
      ]
     },
     "metadata": {
      "needs_background": "light"
     },
     "output_type": "display_data"
    }
   ],
   "source": [
    "actual_platform.plot(x='critic_score', y='sum_sales', kind='scatter', c='#1f77b4')\n",
    "plt.xlabel('Оценки критиков')\n",
    "plt.ylabel('Суммарные продажи')\n",
    "plt.title('Влияние оценок критиков на продажи')\n",
    "plt.show()"
   ]
  },
  {
   "cell_type": "markdown",
   "id": "0d02eea8",
   "metadata": {},
   "source": [
    "Посчитаем корреляцию."
   ]
  },
  {
   "cell_type": "code",
   "execution_count": 26,
   "id": "47b412cf",
   "metadata": {},
   "outputs": [
    {
     "data": {
      "text/plain": [
       "0.11853180173562909"
      ]
     },
     "execution_count": 26,
     "metadata": {},
     "output_type": "execute_result"
    }
   ],
   "source": [
    "actual_platform['critic_score'].corr(actual_platform['sum_sales'])"
   ]
  },
  {
   "cell_type": "markdown",
   "id": "fcdb6911",
   "metadata": {},
   "source": [
    "Коэффициент корреляции Пирсона положительный и ненулевой.\n",
    "Оценки пользователей и суммарные продажи связаны линейно. Зачастую, чем выше оценка, тем выше суммарные продажи. "
   ]
  },
  {
   "cell_type": "markdown",
   "id": "6364e125",
   "metadata": {},
   "source": [
    "Посмотрим на общее распределение игр по жанрам, посчитав медиану."
   ]
  },
  {
   "cell_type": "code",
   "execution_count": 27,
   "id": "02c9d93e",
   "metadata": {},
   "outputs": [
    {
     "data": {
      "text/plain": [
       "genre\n",
       "Shooter         0.515\n",
       "Sports          0.180\n",
       "Platform        0.140\n",
       "Fighting        0.125\n",
       "Role-Playing    0.110\n",
       "Simulation      0.100\n",
       "Action          0.090\n",
       "Misc            0.090\n",
       "Racing          0.090\n",
       "Strategy        0.060\n",
       "Puzzle          0.045\n",
       "Adventure       0.030\n",
       "Name: sum_sales, dtype: float64"
      ]
     },
     "execution_count": 27,
     "metadata": {},
     "output_type": "execute_result"
    }
   ],
   "source": [
    "actual_data.groupby('genre')['sum_sales'].median().sort_values(ascending=False)"
   ]
  },
  {
   "cell_type": "markdown",
   "id": "8a122c56",
   "metadata": {},
   "source": [
    "Самыми прибыльными жанрами являются Shooter, Sports и Platform. "
   ]
  },
  {
   "cell_type": "markdown",
   "id": "40d07407",
   "metadata": {},
   "source": [
    "**Вывод**\n",
    "\n",
    "На данномм этапе было проанализировано:\n",
    "* количество игр в разные годы;\n",
    "* продажи по платформам;\n",
    "* лидирующие платформы;\n",
    "* глобальные продажи в разбивке по платформам;\n",
    "* влияние отзывов на продажи;\n",
    "* взаимосвязь оценок критиков и пользователей;\n",
    "* общее распределение по жнрам.\n",
    "\n",
    "Перейдем к следующему шагу - составлению портрета пользователя каждого региона.\n"
   ]
  },
  {
   "cell_type": "markdown",
   "id": "1f8080b8",
   "metadata": {},
   "source": [
    "## Шаг 4. Составление портрета пользователя каждого региона"
   ]
  },
  {
   "cell_type": "markdown",
   "id": "efd86b16",
   "metadata": {},
   "source": [
    "Определим для пользователя каждого региона (NA, EU, JP) самые популярные платформы."
   ]
  },
  {
   "cell_type": "code",
   "execution_count": 28,
   "id": "0e2d08bb",
   "metadata": {
    "scrolled": true
   },
   "outputs": [
    {
     "data": {
      "text/plain": [
       "<AxesSubplot:xlabel='platform', ylabel='sales'>"
      ]
     },
     "execution_count": 28,
     "metadata": {},
     "output_type": "execute_result"
    },
    {
     "data": {
      "image/png": "[encoded data removed]",
      "text/plain": [
       "<Figure size 1440x720 with 1 Axes>"
      ]
     },
     "metadata": {},
     "output_type": "display_data"
    }
   ],
   "source": [
    "actual_data[['platform', 'na_sales', 'eu_sales', 'jp_sales']]\n",
    "na = actual_data[['platform', 'na_sales']].rename(columns={'na_sales': 'sales'})\n",
    "na['region'] = 'na'\n",
    "eu = actual_data[['platform', 'eu_sales']].rename(columns={'eu_sales': 'sales'})\n",
    "eu['region'] = 'eu'\n",
    "jp = actual_data[['platform', 'jp_sales']].rename(columns={'jp_sales': 'sales'})\n",
    "jp['region'] = 'jp'\n",
    "\n",
    "plot_data = pd.concat([na, eu, jp])\n",
    "sns.set(rc={'figure.figsize':(20, 10)})\n",
    "sns.barplot(x=\"platform\", y=\"sales\", hue=\"region\", data=plot_data, ci=None, estimator=np.sum)"
   ]
  },
  {
   "cell_type": "markdown",
   "id": "def53d12",
   "metadata": {},
   "source": [
    "Для Европы и Северной Америки самой популярной является платформа PS4, а для Японии - 3DS.\n",
    "Теперь проанализируем популярные жанры для каждого региона."
   ]
  },
  {
   "cell_type": "code",
   "execution_count": 29,
   "id": "40e32caa",
   "metadata": {},
   "outputs": [
    {
     "data": {
      "text/plain": [
       "<AxesSubplot:xlabel='genre', ylabel='sales'>"
      ]
     },
     "execution_count": 29,
     "metadata": {},
     "output_type": "execute_result"
    },
    {
     "data": {
      "image/png": "[encoded data removed]",
      "text/plain": [
       "<Figure size 1440x720 with 1 Axes>"
      ]
     },
     "metadata": {},
     "output_type": "display_data"
    }
   ],
   "source": [
    "actual_data[['genre', 'na_sales', 'eu_sales', 'jp_sales']]\n",
    "na = actual_data[['genre', 'na_sales']].rename(columns={'na_sales': 'sales'})\n",
    "na['region'] = 'na'\n",
    "eu = actual_data[['genre', 'eu_sales']].rename(columns={'eu_sales': 'sales'})\n",
    "eu['region'] = 'eu'\n",
    "jp = actual_data[['genre', 'jp_sales']].rename(columns={'jp_sales': 'sales'})\n",
    "jp['region'] = 'jp'\n",
    "\n",
    "plot_data = pd.concat([na, eu, jp])\n",
    "sns.set(rc={'figure.figsize':(20, 10)})\n",
    "sns.barplot(x=\"genre\", y=\"sales\", hue=\"region\", data=plot_data, ci=None, estimator=np.sum)"
   ]
  },
  {
   "cell_type": "markdown",
   "id": "dce0be1a",
   "metadata": {},
   "source": [
    "Для Европы самым популярным является жанр Action, для Северной Америки - Shooter, а для Японии - Role-Playing. Спрос на жанр Action у Европы и Америки можно объяснить схожестью популярных платформ и менталитетом.\n",
    "\n",
    "Далее проверим, как влияет рейтинг ESRB на продажи в регионах."
   ]
  },
  {
   "cell_type": "code",
   "execution_count": 30,
   "id": "3483f513",
   "metadata": {},
   "outputs": [
    {
     "data": {
      "text/plain": [
       "<AxesSubplot:xlabel='rating', ylabel='sales'>"
      ]
     },
     "execution_count": 30,
     "metadata": {},
     "output_type": "execute_result"
    },
    {
     "data": {
      "image/png": "[encoded data removed]",
      "text/plain": [
       "<Figure size 1440x720 with 1 Axes>"
      ]
     },
     "metadata": {},
     "output_type": "display_data"
    }
   ],
   "source": [
    "actual_data[['rating', 'na_sales', 'eu_sales', 'jp_sales']]\n",
    "na = actual_data[['rating', 'na_sales']].rename(columns={'na_sales': 'sales'})\n",
    "na['region'] = 'na'\n",
    "eu = actual_data[['rating', 'eu_sales']].rename(columns={'eu_sales': 'sales'})\n",
    "eu['region'] = 'eu'\n",
    "jp = actual_data[['rating', 'jp_sales']].rename(columns={'jp_sales': 'sales'})\n",
    "jp['region'] = 'jp'\n",
    "\n",
    "plot_data = pd.concat([na, eu, jp])\n",
    "sns.set(rc={'figure.figsize':(20, 10)})\n",
    "sns.barplot(x=\"rating\", y=\"sales\", hue=\"region\", data=plot_data, ci=None, estimator=np.sum)"
   ]
  },
  {
   "cell_type": "markdown",
   "id": "213dcd85",
   "metadata": {},
   "source": [
    "Для Европы и Америки видется схожесть в рейтингах. Самыми популярными по продажам являются игры с рейтингом 'М' - 'От 17 лет'. Для Японии это же игры с неизвестным рейтингом."
   ]
  },
  {
   "cell_type": "markdown",
   "id": "f7f13297",
   "metadata": {},
   "source": [
    "**Вывод**\n",
    "\n",
    "Для пользователей стран Северной Америки и Европы замечена схожесть в интересах - это и жанры и платформы. У жиителей Японии инетересы в играх совсем расхоятся с предыдущими. "
   ]
  },
  {
   "cell_type": "markdown",
   "id": "dc3b3bb1",
   "metadata": {},
   "source": [
    "## Шаг 5. Проверка гипотез"
   ]
  },
  {
   "cell_type": "markdown",
   "id": "6bcab072",
   "metadata": {},
   "source": [
    "**Гипотеза 1.** Средние пользовательские рейтинги платформ Xbox One и PC различаются.\n",
    "\n",
    "Сформулируем нулевую и альтернативную гипотезу.\n",
    "\n",
    "Нулевая гипотеза: средние пользовательские рейтинги платформ Xbox One и PC одинаковые.\n",
    "\n",
    "Альтернативная гипотеза: средние пользовательские рейтинги платформ Xbox One и PC различаются.\n",
    "\n",
    "Чтобы проверить гипотезу о равенстве среднего двух генеральных совокупностей применим метод `st.ttest_ind`. Критический уровень статистической значимости зададим равный 0.05. Также исключаем строки с нулями, которыми заполняли пропуски."
   ]
  },
  {
   "cell_type": "code",
   "execution_count": 31,
   "id": "ab5028da",
   "metadata": {},
   "outputs": [
    {
     "name": "stdout",
     "output_type": "stream",
     "text": [
      "p-значение: 0.31981092459798116\n",
      "Не получилось отвергнуть нулевую гипотезу\n"
     ]
    }
   ],
   "source": [
    "xone = actual_data.loc[actual_data['platform'] == 'XOne']\n",
    "pc = actual_data.loc[actual_data['platform'] == 'PC']\n",
    "\n",
    "\n",
    "alpha = .05  # критический уровень статистической значимости\n",
    "# если p-value окажется меньше него - отвегнем гипотезу\n",
    "\n",
    "results = st.ttest_ind(\n",
    "    xone['user_score'], \n",
    "    pc['user_score'], \n",
    "    equal_var = False,nan_policy='omit')\n",
    "\n",
    "print('p-значение:', results.pvalue)\n",
    "\n",
    "if results.pvalue < alpha: # сравниваем получившееся p-значение с заданным уровнем статистической значимости\n",
    "    print(\"Отвергаем нулевую гипотезу\")\n",
    "else:\n",
    "    print(\"Не получилось отвергнуть нулевую гипотезу\")"
   ]
  },
  {
   "cell_type": "markdown",
   "id": "8c2d325b",
   "metadata": {},
   "source": [
    "**Вывод**\n",
    "\n",
    "Нулевуая гипотеза верна. Следовательно, средние пользовательские рейтинги платформ Xbox One и PC одинаковые."
   ]
  },
  {
   "cell_type": "markdown",
   "id": "f90e39d8",
   "metadata": {},
   "source": [
    "**Гипотеза 2.** Средние пользовательские рейтинги жанров Action (англ. «действие», экшен-игры) и Sports (англ. «спортивные соревнования») разные.\n",
    "\n",
    "Сформулируем нулевую и альтернативную гипотезу.\n",
    "\n",
    "Нулевая гипотеза: средние пользовательские рейтинги жанров Action и Sports одинаковые.\n",
    "\n",
    "Альтернативная гипотеза: средние пользовательские рейтинги жанров Action и Sports одинаковые разные.\n",
    "\n",
    "Чтобы проверить гипотезу о равенстве среднего двух генеральных совокупностей применим метод `st.ttest_ind`. Критический уровень статистической значимости зададим равный 0.05. Также исключаем строки с нулями, которыми заполняли пропуски."
   ]
  },
  {
   "cell_type": "code",
   "execution_count": 32,
   "id": "3157be09",
   "metadata": {},
   "outputs": [
    {
     "name": "stdout",
     "output_type": "stream",
     "text": [
      "p-значение:  8.327612976032047e-09\n",
      "Отвергаем нулевую гипотезу\n"
     ]
    }
   ],
   "source": [
    "action_rating = actual_data.loc[(actual_data['genre'] == 'Action') & (actual_data['user_score'] != 0) & (actual_data['critic_score'] != 0)]\n",
    "sports_rating = actual_data.loc[(actual_data['genre'] == 'Sports') & (actual_data['user_score'] != 0) & (actual_data['critic_score'] != 0)]\n",
    " \n",
    "alpha=0.05\n",
    "results = st.ttest_ind(\n",
    "    action_rating['user_score'],\n",
    "    sports_rating['user_score'],\n",
    "    equal_var = False, nan_policy='omit')\n",
    "\n",
    "print('p-значение: ', results.pvalue)\n",
    " \n",
    "if results.pvalue < alpha:\n",
    "    print(\"Отвергаем нулевую гипотезу\")\n",
    "else:\n",
    "    print(\"Не получилось отвергнуть нулевую гипотезу\") \n"
   ]
  },
  {
   "cell_type": "markdown",
   "id": "ce676453",
   "metadata": {},
   "source": [
    "**Вывод**\n",
    "\n",
    "Нулевуая гипотеза не верна. Следовательно, средние пользовательские рейтинги жанров Action и Sports разные."
   ]
  },
  {
   "cell_type": "markdown",
   "id": "bf3742f0",
   "metadata": {},
   "source": [
    "## Общий вывод"
   ]
  },
  {
   "cell_type": "markdown",
   "id": "539722a1",
   "metadata": {},
   "source": [
    "В данной работе был проведен анализ игровых платформ, с помощью котрого можно выявить определяющие успешность игры закономерности. \n",
    "\n",
    "В самом начале данные были подготовлены к анализу: замена названия столбцов, преобразование данныз в нужные типы, обработка пропусков, сделан столбец с суммарными продажами регионов. \n",
    "\n",
    "Далее проведен исследовательский анализ данных. Выяснено, что больше всего игр выпустили в 2008-2009, а самыми успешными платформами оказались: PS2, X360, PS3, Wii и DS. Проанализиров данные платформы было выяснено, что в среднем \"жизненный цикл\" платформы составляет 11 лет. \n",
    "Для построения прогноза на 2017 год был выбран акутальный период - с 2014 по 2016, так как компьютерная индустрия динамично меняющаяся и взяв более ранние года есть опастность захватить отжившие себя тренды. Из акуального периода были выявлены потенциально прибыльные на следующий год платформы: 3DS, PSV, PC и жанры: Shooter, Sports и Platform. \n",
    "\n",
    "Следующим шагом были составлены портреты пользователя каждого региона. Для Европы и Северной Америки самой популярной является платформа PS4 и жанры Action и Shooter, а для Японии платформа 3DS и жанр Role-Playing. \n",
    "Для Европы и Америки видется схожесть в рейтингах. Самыми популярными по продажам являются игры с рейтингом 'М' - 'От 17 лет'. Для Японии это же игры с неизвестным рейтингом.\n",
    "\n",
    "Далее был выдвинуты и доказаны гипотезы: средние пользовательские рейтинги платформ Xbox One и PC одинаковы и средние пользовательские рейтинги жанров Action и Sports разные.\n",
    "\n",
    "Данные выводы позволят сделать ставку на потенциально популярный продукт и спланировать рекламные кампании."
   ]
  }
 ],
 "metadata": {
  "ExecuteTimeLog": [
   {
    "duration": 1620,
    "start_time": "2022-04-11T10:24:37.603Z"
   },
   {
    "duration": 188,
    "start_time": "2022-04-11T10:24:39.226Z"
   },
   {
    "duration": 0,
    "start_time": "2022-04-11T10:24:39.417Z"
   },
   {
    "duration": 0,
    "start_time": "2022-04-11T10:24:39.418Z"
   },
   {
    "duration": 0,
    "start_time": "2022-04-11T10:24:39.420Z"
   },
   {
    "duration": 0,
    "start_time": "2022-04-11T10:24:39.421Z"
   },
   {
    "duration": 0,
    "start_time": "2022-04-11T10:24:39.422Z"
   },
   {
    "duration": 1,
    "start_time": "2022-04-11T10:24:39.423Z"
   },
   {
    "duration": 0,
    "start_time": "2022-04-11T10:24:39.425Z"
   },
   {
    "duration": 0,
    "start_time": "2022-04-11T10:24:39.426Z"
   },
   {
    "duration": 0,
    "start_time": "2022-04-11T10:24:39.427Z"
   },
   {
    "duration": 1,
    "start_time": "2022-04-11T10:24:39.428Z"
   },
   {
    "duration": 0,
    "start_time": "2022-04-11T10:24:39.430Z"
   },
   {
    "duration": 0,
    "start_time": "2022-04-11T10:24:39.431Z"
   },
   {
    "duration": 1,
    "start_time": "2022-04-11T10:24:39.432Z"
   },
   {
    "duration": 0,
    "start_time": "2022-04-11T10:24:39.434Z"
   },
   {
    "duration": 0,
    "start_time": "2022-04-11T10:24:39.436Z"
   },
   {
    "duration": 0,
    "start_time": "2022-04-11T10:24:39.437Z"
   },
   {
    "duration": 0,
    "start_time": "2022-04-11T10:24:39.474Z"
   },
   {
    "duration": 0,
    "start_time": "2022-04-11T10:24:39.478Z"
   },
   {
    "duration": 0,
    "start_time": "2022-04-11T10:24:39.481Z"
   },
   {
    "duration": 0,
    "start_time": "2022-04-11T10:24:39.482Z"
   },
   {
    "duration": 0,
    "start_time": "2022-04-11T10:24:39.483Z"
   },
   {
    "duration": 0,
    "start_time": "2022-04-11T10:24:39.484Z"
   },
   {
    "duration": 0,
    "start_time": "2022-04-11T10:24:39.485Z"
   },
   {
    "duration": 0,
    "start_time": "2022-04-11T10:24:39.487Z"
   },
   {
    "duration": 0,
    "start_time": "2022-04-11T10:24:39.488Z"
   },
   {
    "duration": 56,
    "start_time": "2022-04-11T10:25:08.130Z"
   },
   {
    "duration": 46,
    "start_time": "2022-04-11T10:25:12.991Z"
   },
   {
    "duration": 44,
    "start_time": "2022-04-11T10:25:13.040Z"
   },
   {
    "duration": 24,
    "start_time": "2022-04-11T10:25:13.086Z"
   },
   {
    "duration": 6,
    "start_time": "2022-04-11T10:25:13.112Z"
   },
   {
    "duration": 7,
    "start_time": "2022-04-11T10:25:13.120Z"
   },
   {
    "duration": 9,
    "start_time": "2022-04-11T10:25:13.129Z"
   },
   {
    "duration": 68,
    "start_time": "2022-04-11T10:25:13.140Z"
   },
   {
    "duration": 12,
    "start_time": "2022-04-11T10:25:13.211Z"
   },
   {
    "duration": 68,
    "start_time": "2022-04-11T10:25:13.225Z"
   },
   {
    "duration": 8,
    "start_time": "2022-04-11T10:25:13.297Z"
   },
   {
    "duration": 18,
    "start_time": "2022-04-11T10:25:13.308Z"
   },
   {
    "duration": 18,
    "start_time": "2022-04-11T10:25:13.328Z"
   },
   {
    "duration": 389,
    "start_time": "2022-04-11T10:25:13.348Z"
   },
   {
    "duration": 254,
    "start_time": "2022-04-11T10:25:13.739Z"
   },
   {
    "duration": 295,
    "start_time": "2022-04-11T10:25:13.996Z"
   },
   {
    "duration": 264,
    "start_time": "2022-04-11T10:25:14.294Z"
   },
   {
    "duration": 248,
    "start_time": "2022-04-11T10:25:14.560Z"
   },
   {
    "duration": 10,
    "start_time": "2022-04-11T10:25:14.810Z"
   },
   {
    "duration": 952,
    "start_time": "2022-04-11T10:25:14.822Z"
   },
   {
    "duration": 220,
    "start_time": "2022-04-11T10:25:15.776Z"
   },
   {
    "duration": 9,
    "start_time": "2022-04-11T10:25:15.999Z"
   },
   {
    "duration": 398,
    "start_time": "2022-04-11T10:25:16.011Z"
   },
   {
    "duration": 362,
    "start_time": "2022-04-11T10:25:16.412Z"
   },
   {
    "duration": 359,
    "start_time": "2022-04-11T10:25:16.776Z"
   },
   {
    "duration": 13,
    "start_time": "2022-04-11T10:25:17.138Z"
   },
   {
    "duration": 20,
    "start_time": "2022-04-11T10:25:17.174Z"
   },
   {
    "duration": 76,
    "start_time": "2022-04-15T07:43:15.329Z"
   },
   {
    "duration": 11,
    "start_time": "2022-04-15T07:43:19.401Z"
   },
   {
    "duration": 1660,
    "start_time": "2022-04-15T07:43:32.160Z"
   },
   {
    "duration": 270,
    "start_time": "2022-04-15T07:43:33.823Z"
   },
   {
    "duration": 0,
    "start_time": "2022-04-15T07:43:34.097Z"
   },
   {
    "duration": 0,
    "start_time": "2022-04-15T07:43:34.098Z"
   },
   {
    "duration": 0,
    "start_time": "2022-04-15T07:43:34.099Z"
   },
   {
    "duration": 0,
    "start_time": "2022-04-15T07:43:34.100Z"
   },
   {
    "duration": 1,
    "start_time": "2022-04-15T07:43:34.100Z"
   },
   {
    "duration": 0,
    "start_time": "2022-04-15T07:43:34.102Z"
   },
   {
    "duration": 0,
    "start_time": "2022-04-15T07:43:34.103Z"
   },
   {
    "duration": 0,
    "start_time": "2022-04-15T07:43:34.104Z"
   },
   {
    "duration": 0,
    "start_time": "2022-04-15T07:43:34.105Z"
   },
   {
    "duration": 0,
    "start_time": "2022-04-15T07:43:34.106Z"
   },
   {
    "duration": 0,
    "start_time": "2022-04-15T07:43:34.107Z"
   },
   {
    "duration": 0,
    "start_time": "2022-04-15T07:43:34.122Z"
   },
   {
    "duration": 0,
    "start_time": "2022-04-15T07:43:34.123Z"
   },
   {
    "duration": 0,
    "start_time": "2022-04-15T07:43:34.124Z"
   },
   {
    "duration": 0,
    "start_time": "2022-04-15T07:43:34.125Z"
   },
   {
    "duration": 0,
    "start_time": "2022-04-15T07:43:34.126Z"
   },
   {
    "duration": 0,
    "start_time": "2022-04-15T07:43:34.127Z"
   },
   {
    "duration": 0,
    "start_time": "2022-04-15T07:43:34.128Z"
   },
   {
    "duration": 0,
    "start_time": "2022-04-15T07:43:34.129Z"
   },
   {
    "duration": 0,
    "start_time": "2022-04-15T07:43:34.129Z"
   },
   {
    "duration": 0,
    "start_time": "2022-04-15T07:43:34.131Z"
   },
   {
    "duration": 0,
    "start_time": "2022-04-15T07:43:34.132Z"
   },
   {
    "duration": 0,
    "start_time": "2022-04-15T07:43:34.133Z"
   },
   {
    "duration": 0,
    "start_time": "2022-04-15T07:43:34.134Z"
   },
   {
    "duration": 0,
    "start_time": "2022-04-15T07:43:34.135Z"
   },
   {
    "duration": 0,
    "start_time": "2022-04-15T07:43:34.136Z"
   },
   {
    "duration": 0,
    "start_time": "2022-04-15T07:43:34.136Z"
   },
   {
    "duration": 0,
    "start_time": "2022-04-15T07:43:34.137Z"
   },
   {
    "duration": 0,
    "start_time": "2022-04-15T07:43:34.138Z"
   },
   {
    "duration": 1178,
    "start_time": "2022-04-15T07:44:17.346Z"
   },
   {
    "duration": 54,
    "start_time": "2022-04-15T07:44:18.528Z"
   },
   {
    "duration": 18,
    "start_time": "2022-04-15T07:44:18.584Z"
   },
   {
    "duration": 15,
    "start_time": "2022-04-15T07:44:18.604Z"
   },
   {
    "duration": 4,
    "start_time": "2022-04-15T07:44:18.621Z"
   },
   {
    "duration": 6,
    "start_time": "2022-04-15T07:44:18.627Z"
   },
   {
    "duration": 10,
    "start_time": "2022-04-15T07:44:18.636Z"
   },
   {
    "duration": 32,
    "start_time": "2022-04-15T07:44:18.648Z"
   },
   {
    "duration": 5,
    "start_time": "2022-04-15T07:44:18.683Z"
   },
   {
    "duration": 28,
    "start_time": "2022-04-15T07:44:18.723Z"
   },
   {
    "duration": 6,
    "start_time": "2022-04-15T07:44:18.753Z"
   },
   {
    "duration": 154,
    "start_time": "2022-04-15T07:44:18.761Z"
   },
   {
    "duration": 11,
    "start_time": "2022-04-15T07:44:18.925Z"
   },
   {
    "duration": 17,
    "start_time": "2022-04-15T07:44:18.938Z"
   },
   {
    "duration": 191,
    "start_time": "2022-04-15T07:44:18.957Z"
   },
   {
    "duration": 149,
    "start_time": "2022-04-15T07:44:19.149Z"
   },
   {
    "duration": 158,
    "start_time": "2022-04-15T07:44:19.300Z"
   },
   {
    "duration": 143,
    "start_time": "2022-04-15T07:44:19.460Z"
   },
   {
    "duration": 138,
    "start_time": "2022-04-15T07:44:19.605Z"
   },
   {
    "duration": 25,
    "start_time": "2022-04-15T07:44:19.745Z"
   },
   {
    "duration": 8,
    "start_time": "2022-04-15T07:44:19.772Z"
   },
   {
    "duration": 189,
    "start_time": "2022-04-15T07:44:19.782Z"
   },
   {
    "duration": 138,
    "start_time": "2022-04-15T07:44:19.972Z"
   },
   {
    "duration": 12,
    "start_time": "2022-04-15T07:44:20.112Z"
   },
   {
    "duration": 9,
    "start_time": "2022-04-15T07:44:20.126Z"
   },
   {
    "duration": 564,
    "start_time": "2022-04-15T07:44:20.136Z"
   },
   {
    "duration": 346,
    "start_time": "2022-04-15T07:44:20.702Z"
   },
   {
    "duration": 256,
    "start_time": "2022-04-15T07:44:21.050Z"
   },
   {
    "duration": 16,
    "start_time": "2022-04-15T07:44:21.308Z"
   },
   {
    "duration": 36,
    "start_time": "2022-04-15T07:44:21.327Z"
   },
   {
    "duration": 16,
    "start_time": "2022-04-15T07:44:21.365Z"
   },
   {
    "duration": 1343,
    "start_time": "2022-04-16T06:02:45.626Z"
   },
   {
    "duration": 218,
    "start_time": "2022-04-16T06:02:46.971Z"
   },
   {
    "duration": 0,
    "start_time": "2022-04-16T06:02:47.193Z"
   },
   {
    "duration": 0,
    "start_time": "2022-04-16T06:02:47.194Z"
   },
   {
    "duration": 0,
    "start_time": "2022-04-16T06:02:47.195Z"
   },
   {
    "duration": 0,
    "start_time": "2022-04-16T06:02:47.196Z"
   },
   {
    "duration": 0,
    "start_time": "2022-04-16T06:02:47.196Z"
   },
   {
    "duration": 0,
    "start_time": "2022-04-16T06:02:47.197Z"
   },
   {
    "duration": 0,
    "start_time": "2022-04-16T06:02:47.198Z"
   },
   {
    "duration": 0,
    "start_time": "2022-04-16T06:02:47.199Z"
   },
   {
    "duration": 0,
    "start_time": "2022-04-16T06:02:47.199Z"
   },
   {
    "duration": 0,
    "start_time": "2022-04-16T06:02:47.201Z"
   },
   {
    "duration": 0,
    "start_time": "2022-04-16T06:02:47.202Z"
   },
   {
    "duration": 0,
    "start_time": "2022-04-16T06:02:47.203Z"
   },
   {
    "duration": 1,
    "start_time": "2022-04-16T06:02:47.203Z"
   },
   {
    "duration": 0,
    "start_time": "2022-04-16T06:02:47.204Z"
   },
   {
    "duration": 0,
    "start_time": "2022-04-16T06:02:47.205Z"
   },
   {
    "duration": 0,
    "start_time": "2022-04-16T06:02:47.206Z"
   },
   {
    "duration": 0,
    "start_time": "2022-04-16T06:02:47.207Z"
   },
   {
    "duration": 0,
    "start_time": "2022-04-16T06:02:47.208Z"
   },
   {
    "duration": 0,
    "start_time": "2022-04-16T06:02:47.209Z"
   },
   {
    "duration": 0,
    "start_time": "2022-04-16T06:02:47.210Z"
   },
   {
    "duration": 0,
    "start_time": "2022-04-16T06:02:47.211Z"
   },
   {
    "duration": 0,
    "start_time": "2022-04-16T06:02:47.212Z"
   },
   {
    "duration": 0,
    "start_time": "2022-04-16T06:02:47.213Z"
   },
   {
    "duration": 0,
    "start_time": "2022-04-16T06:02:47.214Z"
   },
   {
    "duration": 0,
    "start_time": "2022-04-16T06:02:47.255Z"
   },
   {
    "duration": 0,
    "start_time": "2022-04-16T06:02:47.256Z"
   },
   {
    "duration": 0,
    "start_time": "2022-04-16T06:02:47.257Z"
   },
   {
    "duration": 0,
    "start_time": "2022-04-16T06:02:47.258Z"
   },
   {
    "duration": 0,
    "start_time": "2022-04-16T06:02:47.259Z"
   },
   {
    "duration": 0,
    "start_time": "2022-04-16T06:02:47.259Z"
   },
   {
    "duration": 1149,
    "start_time": "2022-04-16T06:03:25.048Z"
   },
   {
    "duration": 40,
    "start_time": "2022-04-16T06:03:26.199Z"
   },
   {
    "duration": 16,
    "start_time": "2022-04-16T06:03:26.241Z"
   },
   {
    "duration": 13,
    "start_time": "2022-04-16T06:03:26.259Z"
   },
   {
    "duration": 12,
    "start_time": "2022-04-16T06:03:26.274Z"
   },
   {
    "duration": 18,
    "start_time": "2022-04-16T06:03:26.288Z"
   },
   {
    "duration": 12,
    "start_time": "2022-04-16T06:03:26.308Z"
   },
   {
    "duration": 21,
    "start_time": "2022-04-16T06:03:26.322Z"
   },
   {
    "duration": 5,
    "start_time": "2022-04-16T06:03:26.344Z"
   },
   {
    "duration": 24,
    "start_time": "2022-04-16T06:03:26.354Z"
   },
   {
    "duration": 6,
    "start_time": "2022-04-16T06:03:26.380Z"
   },
   {
    "duration": 130,
    "start_time": "2022-04-16T06:03:26.387Z"
   },
   {
    "duration": 8,
    "start_time": "2022-04-16T06:03:26.518Z"
   },
   {
    "duration": 17,
    "start_time": "2022-04-16T06:03:26.527Z"
   },
   {
    "duration": 129,
    "start_time": "2022-04-16T06:03:26.546Z"
   },
   {
    "duration": 133,
    "start_time": "2022-04-16T06:03:26.676Z"
   },
   {
    "duration": 149,
    "start_time": "2022-04-16T06:03:26.811Z"
   },
   {
    "duration": 133,
    "start_time": "2022-04-16T06:03:26.962Z"
   },
   {
    "duration": 127,
    "start_time": "2022-04-16T06:03:27.097Z"
   },
   {
    "duration": 30,
    "start_time": "2022-04-16T06:03:27.225Z"
   },
   {
    "duration": 233,
    "start_time": "2022-04-16T06:03:27.256Z"
   },
   {
    "duration": 122,
    "start_time": "2022-04-16T06:03:27.491Z"
   },
   {
    "duration": 215,
    "start_time": "2022-04-16T06:03:27.614Z"
   },
   {
    "duration": 5,
    "start_time": "2022-04-16T06:03:27.830Z"
   },
   {
    "duration": 147,
    "start_time": "2022-04-16T06:03:27.836Z"
   },
   {
    "duration": 4,
    "start_time": "2022-04-16T06:03:27.984Z"
   },
   {
    "duration": 14,
    "start_time": "2022-04-16T06:03:27.990Z"
   },
   {
    "duration": 276,
    "start_time": "2022-04-16T06:03:28.006Z"
   },
   {
    "duration": 300,
    "start_time": "2022-04-16T06:03:28.284Z"
   },
   {
    "duration": 225,
    "start_time": "2022-04-16T06:03:28.586Z"
   },
   {
    "duration": 7,
    "start_time": "2022-04-16T06:03:28.812Z"
   },
   {
    "duration": 19,
    "start_time": "2022-04-16T06:03:28.821Z"
   }
  ],
  "kernelspec": {
   "display_name": "Python 3 (ipykernel)",
   "language": "python",
   "name": "python3"
  },
  "language_info": {
   "codemirror_mode": {
    "name": "ipython",
    "version": 3
   },
   "file_extension": ".py",
   "mimetype": "text/x-python",
   "name": "python",
   "nbconvert_exporter": "python",
   "pygments_lexer": "ipython3",
   "version": "3.9.12"
  },
  "toc": {
   "base_numbering": 1,
   "nav_menu": {},
   "number_sections": false,
   "sideBar": true,
   "skip_h1_title": false,
   "title_cell": "Table of Contents",
   "title_sidebar": "Contents",
   "toc_cell": false,
   "toc_position": {},
   "toc_section_display": true,
   "toc_window_display": true
  }
 },
 "nbformat": 4,
 "nbformat_minor": 5
}
