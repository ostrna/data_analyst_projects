{
 "cells": [
  {
   "cell_type": "markdown",
   "id": "891232c1",
   "metadata": {},
   "source": [
    "# Мобильное приложение стартапа"
   ]
  },
  {
   "cell_type": "markdown",
   "id": "48f13beb",
   "metadata": {},
   "source": [
    "Для анализа предлагается стартап, который продаёт продукты питания. \n",
    "\n",
    "**Цель исследования** - разобраться, как ведут себя пользователи мобильного приложения.\n",
    "\n",
    "**Задачи исследования**\n",
    "* Изучить воронку продаж. Узнать, как пользователи доходят до покупки. Сколько пользователей доходит до покупки, а сколько — «застревает» на предыдущих шагах? На каких именно?\n",
    "* Исследовать результаты A/A/B-эксперимента. Дизайнеры захотели поменять шрифты во всём приложении, а менеджеры испугались, что пользователям будет непривычно. Договорились принять решение по результатам A/A/B-теста. Пользователей разбили на 3 группы: 2 контрольные со старыми шрифтами и одну экспериментальную — с новыми. Выяснить, какой шрифт лучше.\n",
    "\n",
    "Создание двух групп A вместо одной имеет определённые преимущества. Если две контрольные группы окажутся равны, мы можем быть уверены в точности проведенного тестирования. Если же между значениями A и A будут существенные различия, это поможет обнаружить факторы, которые привели к искажению результатов. Сравнение контрольных групп также помогает понять, сколько времени и данных потребуется для дальнейших тестов.\n",
    "\n",
    "**Ход исследования**\n",
    "\n",
    "Исследование пройдет в 6 этапов:\n",
    "\n",
    "1. Обзор данных;\n",
    "2. Предобработка данных;\n",
    "3. Изучение и проверка данных;\n",
    "4. Изучение воронки событий;\n",
    "5. Изучение результатов эксперимента;\n",
    "6. Вывод."
   ]
  },
  {
   "cell_type": "markdown",
   "id": "8f61c4b7",
   "metadata": {},
   "source": [
    "## Шаг 1. Обзор данных"
   ]
  },
  {
   "cell_type": "markdown",
   "id": "cbfa0af4",
   "metadata": {},
   "source": [
    "Импортируем необходимые библиотеки."
   ]
  },
  {
   "cell_type": "code",
   "execution_count": 1,
   "id": "445d91fe",
   "metadata": {},
   "outputs": [],
   "source": [
    "import pandas as pd\n",
    "import numpy as np\n",
    "import seaborn as sns\n",
    "from matplotlib import pyplot as plt\n",
    "import math\n",
    "from scipy import stats\n"
   ]
  },
  {
   "cell_type": "markdown",
   "id": "0d82bcb8",
   "metadata": {},
   "source": [
    "Читаем файл `logs_exp.csv` и сохраняем его в переменную `data`."
   ]
  },
  {
   "cell_type": "code",
   "execution_count": 2,
   "id": "954eb5a6",
   "metadata": {},
   "outputs": [],
   "source": [
    "try: \n",
    "    data = pd.read_csv('/datasets/logs_exp.csv', sep='\\t')\n",
    "except: \n",
    "    data = pd.read_csv('logs_exp.csv', sep='\\t')"
   ]
  },
  {
   "cell_type": "markdown",
   "id": "1d619a1b",
   "metadata": {},
   "source": [
    "Выводим на экран первые 10 строк таблицы `logs_exp.csv`, а также общую информацию о таблице."
   ]
  },
  {
   "cell_type": "code",
   "execution_count": 3,
   "id": "9b051191",
   "metadata": {},
   "outputs": [
    {
     "data": {
      "text/html": [
       "<div>\n",
       "<style scoped>\n",
       "    .dataframe tbody tr th:only-of-type {\n",
       "        vertical-align: middle;\n",
       "    }\n",
       "\n",
       "    .dataframe tbody tr th {\n",
       "        vertical-align: top;\n",
       "    }\n",
       "\n",
       "    .dataframe thead th {\n",
       "        text-align: right;\n",
       "    }\n",
       "</style>\n",
       "<table border=\"1\" class=\"dataframe\">\n",
       "  <thead>\n",
       "    <tr style=\"text-align: right;\">\n",
       "      <th></th>\n",
       "      <th>EventName</th>\n",
       "      <th>DeviceIDHash</th>\n",
       "      <th>EventTimestamp</th>\n",
       "      <th>ExpId</th>\n",
       "    </tr>\n",
       "  </thead>\n",
       "  <tbody>\n",
       "    <tr>\n",
       "      <th>0</th>\n",
       "      <td>MainScreenAppear</td>\n",
       "      <td>4575588528974610257</td>\n",
       "      <td>1564029816</td>\n",
       "      <td>246</td>\n",
       "    </tr>\n",
       "    <tr>\n",
       "      <th>1</th>\n",
       "      <td>MainScreenAppear</td>\n",
       "      <td>7416695313311560658</td>\n",
       "      <td>1564053102</td>\n",
       "      <td>246</td>\n",
       "    </tr>\n",
       "    <tr>\n",
       "      <th>2</th>\n",
       "      <td>PaymentScreenSuccessful</td>\n",
       "      <td>3518123091307005509</td>\n",
       "      <td>1564054127</td>\n",
       "      <td>248</td>\n",
       "    </tr>\n",
       "    <tr>\n",
       "      <th>3</th>\n",
       "      <td>CartScreenAppear</td>\n",
       "      <td>3518123091307005509</td>\n",
       "      <td>1564054127</td>\n",
       "      <td>248</td>\n",
       "    </tr>\n",
       "    <tr>\n",
       "      <th>4</th>\n",
       "      <td>PaymentScreenSuccessful</td>\n",
       "      <td>6217807653094995999</td>\n",
       "      <td>1564055322</td>\n",
       "      <td>248</td>\n",
       "    </tr>\n",
       "    <tr>\n",
       "      <th>5</th>\n",
       "      <td>CartScreenAppear</td>\n",
       "      <td>6217807653094995999</td>\n",
       "      <td>1564055323</td>\n",
       "      <td>248</td>\n",
       "    </tr>\n",
       "    <tr>\n",
       "      <th>6</th>\n",
       "      <td>OffersScreenAppear</td>\n",
       "      <td>8351860793733343758</td>\n",
       "      <td>1564066242</td>\n",
       "      <td>246</td>\n",
       "    </tr>\n",
       "    <tr>\n",
       "      <th>7</th>\n",
       "      <td>MainScreenAppear</td>\n",
       "      <td>5682100281902512875</td>\n",
       "      <td>1564085677</td>\n",
       "      <td>246</td>\n",
       "    </tr>\n",
       "    <tr>\n",
       "      <th>8</th>\n",
       "      <td>MainScreenAppear</td>\n",
       "      <td>1850981295691852772</td>\n",
       "      <td>1564086702</td>\n",
       "      <td>247</td>\n",
       "    </tr>\n",
       "    <tr>\n",
       "      <th>9</th>\n",
       "      <td>MainScreenAppear</td>\n",
       "      <td>5407636962369102641</td>\n",
       "      <td>1564112112</td>\n",
       "      <td>246</td>\n",
       "    </tr>\n",
       "  </tbody>\n",
       "</table>\n",
       "</div>"
      ],
      "text/plain": [
       "                 EventName         DeviceIDHash  EventTimestamp  ExpId\n",
       "0         MainScreenAppear  4575588528974610257      1564029816    246\n",
       "1         MainScreenAppear  7416695313311560658      1564053102    246\n",
       "2  PaymentScreenSuccessful  3518123091307005509      1564054127    248\n",
       "3         CartScreenAppear  3518123091307005509      1564054127    248\n",
       "4  PaymentScreenSuccessful  6217807653094995999      1564055322    248\n",
       "5         CartScreenAppear  6217807653094995999      1564055323    248\n",
       "6       OffersScreenAppear  8351860793733343758      1564066242    246\n",
       "7         MainScreenAppear  5682100281902512875      1564085677    246\n",
       "8         MainScreenAppear  1850981295691852772      1564086702    247\n",
       "9         MainScreenAppear  5407636962369102641      1564112112    246"
      ]
     },
     "execution_count": 3,
     "metadata": {},
     "output_type": "execute_result"
    }
   ],
   "source": [
    "data.head(10)"
   ]
  },
  {
   "cell_type": "code",
   "execution_count": 4,
   "id": "24c8967b",
   "metadata": {},
   "outputs": [
    {
     "name": "stdout",
     "output_type": "stream",
     "text": [
      "<class 'pandas.core.frame.DataFrame'>\n",
      "RangeIndex: 244126 entries, 0 to 244125\n",
      "Data columns (total 4 columns):\n",
      " #   Column          Non-Null Count   Dtype \n",
      "---  ------          --------------   ----- \n",
      " 0   EventName       244126 non-null  object\n",
      " 1   DeviceIDHash    244126 non-null  int64 \n",
      " 2   EventTimestamp  244126 non-null  int64 \n",
      " 3   ExpId           244126 non-null  int64 \n",
      "dtypes: int64(3), object(1)\n",
      "memory usage: 7.5+ MB\n"
     ]
    }
   ],
   "source": [
    "data.info()"
   ]
  },
  {
   "cell_type": "markdown",
   "id": "ef058d43",
   "metadata": {},
   "source": [
    "В таблице 4 столбца. Согласно документации к данным:\n",
    "* `EventName` — название события;\n",
    "* `DeviceIDHash` — уникальный идентификатор пользователя;\n",
    "* `EventTimestamp` — время события;\n",
    "* `ExpId` — номер эксперимента: 246 и 247 — контрольные группы, а 248 — экспериментальная.\n",
    "\n",
    "В данных замечены ошибки: \n",
    "* неправильный тип данных в столбце `EventTimestamp`;\n",
    "* yарушение стиля в названиях колонок."
   ]
  },
  {
   "cell_type": "markdown",
   "id": "ae6669f5",
   "metadata": {},
   "source": [
    "## Шаг 2. Предобработка данных"
   ]
  },
  {
   "cell_type": "markdown",
   "id": "1b125025",
   "metadata": {},
   "source": [
    "### 2.1 Изменение типов данных "
   ]
  },
  {
   "cell_type": "markdown",
   "id": "219fde74",
   "metadata": {},
   "source": [
    "Добавим столбец даты и времени, а также отдельный столбец дат"
   ]
  },
  {
   "cell_type": "code",
   "execution_count": 5,
   "id": "000a8d52",
   "metadata": {
    "scrolled": false
   },
   "outputs": [
    {
     "data": {
      "text/html": [
       "<div>\n",
       "<style scoped>\n",
       "    .dataframe tbody tr th:only-of-type {\n",
       "        vertical-align: middle;\n",
       "    }\n",
       "\n",
       "    .dataframe tbody tr th {\n",
       "        vertical-align: top;\n",
       "    }\n",
       "\n",
       "    .dataframe thead th {\n",
       "        text-align: right;\n",
       "    }\n",
       "</style>\n",
       "<table border=\"1\" class=\"dataframe\">\n",
       "  <thead>\n",
       "    <tr style=\"text-align: right;\">\n",
       "      <th></th>\n",
       "      <th>EventName</th>\n",
       "      <th>DeviceIDHash</th>\n",
       "      <th>EventTimestamp</th>\n",
       "      <th>ExpId</th>\n",
       "      <th>date_time</th>\n",
       "      <th>date</th>\n",
       "    </tr>\n",
       "  </thead>\n",
       "  <tbody>\n",
       "    <tr>\n",
       "      <th>0</th>\n",
       "      <td>MainScreenAppear</td>\n",
       "      <td>4575588528974610257</td>\n",
       "      <td>1564029816</td>\n",
       "      <td>246</td>\n",
       "      <td>2019-07-25 04:43:36</td>\n",
       "      <td>2019-07-25</td>\n",
       "    </tr>\n",
       "    <tr>\n",
       "      <th>1</th>\n",
       "      <td>MainScreenAppear</td>\n",
       "      <td>7416695313311560658</td>\n",
       "      <td>1564053102</td>\n",
       "      <td>246</td>\n",
       "      <td>2019-07-25 11:11:42</td>\n",
       "      <td>2019-07-25</td>\n",
       "    </tr>\n",
       "    <tr>\n",
       "      <th>2</th>\n",
       "      <td>PaymentScreenSuccessful</td>\n",
       "      <td>3518123091307005509</td>\n",
       "      <td>1564054127</td>\n",
       "      <td>248</td>\n",
       "      <td>2019-07-25 11:28:47</td>\n",
       "      <td>2019-07-25</td>\n",
       "    </tr>\n",
       "    <tr>\n",
       "      <th>3</th>\n",
       "      <td>CartScreenAppear</td>\n",
       "      <td>3518123091307005509</td>\n",
       "      <td>1564054127</td>\n",
       "      <td>248</td>\n",
       "      <td>2019-07-25 11:28:47</td>\n",
       "      <td>2019-07-25</td>\n",
       "    </tr>\n",
       "    <tr>\n",
       "      <th>4</th>\n",
       "      <td>PaymentScreenSuccessful</td>\n",
       "      <td>6217807653094995999</td>\n",
       "      <td>1564055322</td>\n",
       "      <td>248</td>\n",
       "      <td>2019-07-25 11:48:42</td>\n",
       "      <td>2019-07-25</td>\n",
       "    </tr>\n",
       "    <tr>\n",
       "      <th>...</th>\n",
       "      <td>...</td>\n",
       "      <td>...</td>\n",
       "      <td>...</td>\n",
       "      <td>...</td>\n",
       "      <td>...</td>\n",
       "      <td>...</td>\n",
       "    </tr>\n",
       "    <tr>\n",
       "      <th>244121</th>\n",
       "      <td>MainScreenAppear</td>\n",
       "      <td>4599628364049201812</td>\n",
       "      <td>1565212345</td>\n",
       "      <td>247</td>\n",
       "      <td>2019-08-07 21:12:25</td>\n",
       "      <td>2019-08-07</td>\n",
       "    </tr>\n",
       "    <tr>\n",
       "      <th>244122</th>\n",
       "      <td>MainScreenAppear</td>\n",
       "      <td>5849806612437486590</td>\n",
       "      <td>1565212439</td>\n",
       "      <td>246</td>\n",
       "      <td>2019-08-07 21:13:59</td>\n",
       "      <td>2019-08-07</td>\n",
       "    </tr>\n",
       "    <tr>\n",
       "      <th>244123</th>\n",
       "      <td>MainScreenAppear</td>\n",
       "      <td>5746969938801999050</td>\n",
       "      <td>1565212483</td>\n",
       "      <td>246</td>\n",
       "      <td>2019-08-07 21:14:43</td>\n",
       "      <td>2019-08-07</td>\n",
       "    </tr>\n",
       "    <tr>\n",
       "      <th>244124</th>\n",
       "      <td>MainScreenAppear</td>\n",
       "      <td>5746969938801999050</td>\n",
       "      <td>1565212498</td>\n",
       "      <td>246</td>\n",
       "      <td>2019-08-07 21:14:58</td>\n",
       "      <td>2019-08-07</td>\n",
       "    </tr>\n",
       "    <tr>\n",
       "      <th>244125</th>\n",
       "      <td>OffersScreenAppear</td>\n",
       "      <td>5746969938801999050</td>\n",
       "      <td>1565212517</td>\n",
       "      <td>246</td>\n",
       "      <td>2019-08-07 21:15:17</td>\n",
       "      <td>2019-08-07</td>\n",
       "    </tr>\n",
       "  </tbody>\n",
       "</table>\n",
       "<p>244126 rows × 6 columns</p>\n",
       "</div>"
      ],
      "text/plain": [
       "                      EventName         DeviceIDHash  EventTimestamp  ExpId  \\\n",
       "0              MainScreenAppear  4575588528974610257      1564029816    246   \n",
       "1              MainScreenAppear  7416695313311560658      1564053102    246   \n",
       "2       PaymentScreenSuccessful  3518123091307005509      1564054127    248   \n",
       "3              CartScreenAppear  3518123091307005509      1564054127    248   \n",
       "4       PaymentScreenSuccessful  6217807653094995999      1564055322    248   \n",
       "...                         ...                  ...             ...    ...   \n",
       "244121         MainScreenAppear  4599628364049201812      1565212345    247   \n",
       "244122         MainScreenAppear  5849806612437486590      1565212439    246   \n",
       "244123         MainScreenAppear  5746969938801999050      1565212483    246   \n",
       "244124         MainScreenAppear  5746969938801999050      1565212498    246   \n",
       "244125       OffersScreenAppear  5746969938801999050      1565212517    246   \n",
       "\n",
       "                 date_time        date  \n",
       "0      2019-07-25 04:43:36  2019-07-25  \n",
       "1      2019-07-25 11:11:42  2019-07-25  \n",
       "2      2019-07-25 11:28:47  2019-07-25  \n",
       "3      2019-07-25 11:28:47  2019-07-25  \n",
       "4      2019-07-25 11:48:42  2019-07-25  \n",
       "...                    ...         ...  \n",
       "244121 2019-08-07 21:12:25  2019-08-07  \n",
       "244122 2019-08-07 21:13:59  2019-08-07  \n",
       "244123 2019-08-07 21:14:43  2019-08-07  \n",
       "244124 2019-08-07 21:14:58  2019-08-07  \n",
       "244125 2019-08-07 21:15:17  2019-08-07  \n",
       "\n",
       "[244126 rows x 6 columns]"
      ]
     },
     "execution_count": 5,
     "metadata": {},
     "output_type": "execute_result"
    }
   ],
   "source": [
    "data['date_time'] = pd.to_datetime(data['EventTimestamp'], unit='s') #добавление столбца даты и времени\n",
    "data['date'] = data['date_time'].dt.date #добавление столбца дат\n",
    "data #результат"
   ]
  },
  {
   "cell_type": "markdown",
   "id": "487417e1",
   "metadata": {},
   "source": [
    "### 2.2 Стиль заголовков"
   ]
  },
  {
   "cell_type": "code",
   "execution_count": 6,
   "id": "67dfd70c",
   "metadata": {},
   "outputs": [
    {
     "data": {
      "text/plain": [
       "Index(['EventName', 'DeviceIDHash', 'EventTimestamp', 'ExpId', 'date_time',\n",
       "       'date'],\n",
       "      dtype='object')"
      ]
     },
     "execution_count": 6,
     "metadata": {},
     "output_type": "execute_result"
    }
   ],
   "source": [
    "data.columns #выводим названия столбцов датафрейма costs"
   ]
  },
  {
   "cell_type": "markdown",
   "id": "0ac717b9",
   "metadata": {},
   "source": [
    "Переименуем колонки таблиц в соответвие со 'змеиным регистром':"
   ]
  },
  {
   "cell_type": "code",
   "execution_count": 7,
   "id": "3714a82e",
   "metadata": {},
   "outputs": [],
   "source": [
    "data = data.rename( \n",
    "    columns={\n",
    "        'EventName': 'event_name',\n",
    "        'DeviceIDHash': 'device_id_hash',\n",
    "        'EventTimestamp': 'event_timestamp',\n",
    "        'ExpId': 'exp_id',\n",
    "    }\n",
    ")"
   ]
  },
  {
   "cell_type": "markdown",
   "id": "c01cae8a",
   "metadata": {},
   "source": [
    "### 2.3 Дубликаты"
   ]
  },
  {
   "cell_type": "markdown",
   "id": "fb5252dc",
   "metadata": {},
   "source": [
    "Для качества анализа данные необходимо проверить на дубликаты. Сначала займемся явными дубликатами."
   ]
  },
  {
   "cell_type": "code",
   "execution_count": 8,
   "id": "5bda37fc",
   "metadata": {},
   "outputs": [
    {
     "data": {
      "text/plain": [
       "413"
      ]
     },
     "execution_count": 8,
     "metadata": {},
     "output_type": "execute_result"
    }
   ],
   "source": [
    "# подсчёт явных дубликатов\n",
    "data.duplicated().sum()"
   ]
  },
  {
   "cell_type": "code",
   "execution_count": 9,
   "id": "bde59d75",
   "metadata": {},
   "outputs": [],
   "source": [
    "# удаление явных дубликатов (с удалением старых индексов и формированием новых)\n",
    "data = data.drop_duplicates().reset_index(drop=True)"
   ]
  },
  {
   "cell_type": "code",
   "execution_count": 10,
   "id": "b2d7099c",
   "metadata": {},
   "outputs": [
    {
     "data": {
      "text/plain": [
       "0"
      ]
     },
     "execution_count": 10,
     "metadata": {},
     "output_type": "execute_result"
    }
   ],
   "source": [
    "# проверка на отсутствие явных дубликатов\n",
    "data.duplicated().sum()"
   ]
  },
  {
   "cell_type": "markdown",
   "id": "36419c48",
   "metadata": {},
   "source": [
    "Теперь проверим неявные дубкаты. Для этого выведем уникальные значения столбцов."
   ]
  },
  {
   "cell_type": "code",
   "execution_count": 11,
   "id": "9c44327d",
   "metadata": {
    "scrolled": true
   },
   "outputs": [
    {
     "data": {
      "text/plain": [
       "array(['MainScreenAppear', 'PaymentScreenSuccessful', 'CartScreenAppear',\n",
       "       'OffersScreenAppear', 'Tutorial'], dtype=object)"
      ]
     },
     "execution_count": 11,
     "metadata": {},
     "output_type": "execute_result"
    }
   ],
   "source": [
    "data['event_name'].unique()"
   ]
  },
  {
   "cell_type": "markdown",
   "id": "49a0619a",
   "metadata": {},
   "source": [
    "Неявных дубликатов нет"
   ]
  },
  {
   "cell_type": "code",
   "execution_count": 12,
   "id": "38b646a4",
   "metadata": {},
   "outputs": [
    {
     "name": "stdout",
     "output_type": "stream",
     "text": [
      "<class 'pandas.core.frame.DataFrame'>\n",
      "RangeIndex: 243713 entries, 0 to 243712\n",
      "Data columns (total 6 columns):\n",
      " #   Column           Non-Null Count   Dtype         \n",
      "---  ------           --------------   -----         \n",
      " 0   event_name       243713 non-null  object        \n",
      " 1   device_id_hash   243713 non-null  int64         \n",
      " 2   event_timestamp  243713 non-null  int64         \n",
      " 3   exp_id           243713 non-null  int64         \n",
      " 4   date_time        243713 non-null  datetime64[ns]\n",
      " 5   date             243713 non-null  object        \n",
      "dtypes: datetime64[ns](1), int64(3), object(2)\n",
      "memory usage: 11.2+ MB\n"
     ]
    }
   ],
   "source": [
    "data.info() #проверка"
   ]
  },
  {
   "cell_type": "markdown",
   "id": "e1aee9a2",
   "metadata": {},
   "source": [
    "**Вывод**\n",
    "\n",
    "\n",
    "На этапе предобработки были исправлены следующие ошибки:\n",
    "* стили заголовков;\n",
    "* неверные типы данных;\n",
    "* явные дубликаты.\n",
    "\n",
    "Теперь можно приступить к следующему шагу."
   ]
  },
  {
   "cell_type": "markdown",
   "id": "8d19b3b5",
   "metadata": {},
   "source": [
    "## Шаг 3. Изучение и проверка данных"
   ]
  },
  {
   "cell_type": "markdown",
   "id": "232b26da",
   "metadata": {},
   "source": [
    "Посмотрим, сколько всего событий и пользователей в логе"
   ]
  },
  {
   "cell_type": "code",
   "execution_count": 13,
   "id": "345faeec",
   "metadata": {},
   "outputs": [
    {
     "data": {
      "text/plain": [
       "MainScreenAppear           119101\n",
       "OffersScreenAppear          46808\n",
       "CartScreenAppear            42668\n",
       "PaymentScreenSuccessful     34118\n",
       "Tutorial                     1018\n",
       "Name: event_name, dtype: int64"
      ]
     },
     "execution_count": 13,
     "metadata": {},
     "output_type": "execute_result"
    }
   ],
   "source": [
    "data['event_name'].value_counts()"
   ]
  },
  {
   "cell_type": "markdown",
   "id": "a44dd5a5",
   "metadata": {},
   "source": [
    "Событий всего 5. Самое распространенное - MainScreenAppear."
   ]
  },
  {
   "cell_type": "code",
   "execution_count": 14,
   "id": "194813d7",
   "metadata": {},
   "outputs": [
    {
     "data": {
      "text/plain": [
       "6304868067479728361    2307\n",
       "197027893265565660     1998\n",
       "4623191541214045580    1768\n",
       "6932517045703054087    1439\n",
       "1754140665440434215    1221\n",
       "                       ... \n",
       "6888746892508752          1\n",
       "6671109879025379318       1\n",
       "1223708690315846789       1\n",
       "5229230634268921313       1\n",
       "2408195006658927235       1\n",
       "Name: device_id_hash, Length: 7551, dtype: int64"
      ]
     },
     "execution_count": 14,
     "metadata": {},
     "output_type": "execute_result"
    }
   ],
   "source": [
    "data['device_id_hash'].value_counts()"
   ]
  },
  {
   "cell_type": "code",
   "execution_count": 15,
   "id": "530729e0",
   "metadata": {},
   "outputs": [
    {
     "data": {
      "text/plain": [
       "event_name    20.0\n",
       "dtype: float64"
      ]
     },
     "execution_count": 15,
     "metadata": {},
     "output_type": "execute_result"
    }
   ],
   "source": [
    "data.groupby('device_id_hash').agg({'event_name' : 'count'}).median()\n"
   ]
  },
  {
   "cell_type": "markdown",
   "id": "928b0ff6",
   "metadata": {},
   "source": [
    "Пользователей в логе 7551. В среднем на пользователя приходится 20 событий.\n",
    "\n",
    "Посмотрим, данными за какой период мы располагаем."
   ]
  },
  {
   "cell_type": "code",
   "execution_count": 16,
   "id": "ce564494",
   "metadata": {},
   "outputs": [
    {
     "data": {
      "text/plain": [
       "datetime.date(2019, 7, 25)"
      ]
     },
     "execution_count": 16,
     "metadata": {},
     "output_type": "execute_result"
    }
   ],
   "source": [
    "data['date'].min()"
   ]
  },
  {
   "cell_type": "code",
   "execution_count": 17,
   "id": "5aadcaca",
   "metadata": {},
   "outputs": [
    {
     "data": {
      "text/plain": [
       "datetime.date(2019, 8, 7)"
      ]
     },
     "execution_count": 17,
     "metadata": {},
     "output_type": "execute_result"
    }
   ],
   "source": [
    "data['date'].max()"
   ]
  },
  {
   "cell_type": "markdown",
   "id": "f812ea01",
   "metadata": {},
   "source": [
    "В даннных максимальная дата - 7 августа 2019, минимальная - 25 июля 2019. \n",
    "\n",
    "Построим гистограмму по дате и времени, чтобы убедиться, что за все даты анализа полные данные."
   ]
  },
  {
   "cell_type": "code",
   "execution_count": 18,
   "id": "8f7cf3c4",
   "metadata": {},
   "outputs": [
    {
     "data": {
      "image/png": "[encoded data removed]",
      "text/plain": [
       "<Figure size 1008x360 with 1 Axes>"
      ]
     },
     "metadata": {
      "needs_background": "light"
     },
     "output_type": "display_data"
    }
   ],
   "source": [
    "data['date_time'].hist(bins=7*24, figsize=(14, 5));\n",
    "plt.title('Гистограмма по дате и времени')\n",
    "plt.xlabel('Дата')\n",
    "plt.ylabel('Количество')\n",
    "plt.show()"
   ]
  },
  {
   "cell_type": "code",
   "execution_count": 19,
   "id": "4fe8a847",
   "metadata": {},
   "outputs": [],
   "source": [
    "data['date'] = pd.to_datetime(data['date'], format='%Y-%m-%d')\n",
    "new_data = data.loc[data['date'] >= '2019-08-01'].reset_index()"
   ]
  },
  {
   "cell_type": "markdown",
   "id": "4da164b3",
   "metadata": {},
   "source": [
    "Проверим, много ли событий и пользователей потеряли, отбросив старые данные. Также проверим, что у нас есть пользователи из всех трёх экспериментальных групп."
   ]
  },
  {
   "cell_type": "code",
   "execution_count": 20,
   "id": "c74c5667",
   "metadata": {
    "scrolled": true
   },
   "outputs": [
    {
     "data": {
      "text/plain": [
       "2826"
      ]
     },
     "execution_count": 20,
     "metadata": {},
     "output_type": "execute_result"
    }
   ],
   "source": [
    "len(data)- len(new_data)"
   ]
  },
  {
   "cell_type": "code",
   "execution_count": 21,
   "id": "5f09eb11",
   "metadata": {},
   "outputs": [
    {
     "data": {
      "text/plain": [
       "17"
      ]
     },
     "execution_count": 21,
     "metadata": {},
     "output_type": "execute_result"
    }
   ],
   "source": [
    "len(data['device_id_hash'].unique())- len(new_data['device_id_hash'].unique())"
   ]
  },
  {
   "cell_type": "code",
   "execution_count": 22,
   "id": "90b295c3",
   "metadata": {},
   "outputs": [
    {
     "data": {
      "text/plain": [
       "248    84563\n",
       "246    79302\n",
       "247    77022\n",
       "Name: exp_id, dtype: int64"
      ]
     },
     "execution_count": 22,
     "metadata": {},
     "output_type": "execute_result"
    }
   ],
   "source": [
    "new_data['exp_id'].value_counts()"
   ]
  },
  {
   "cell_type": "markdown",
   "id": "4bfdc7f9",
   "metadata": {},
   "source": [
    "Отбросив эти даты, было потеряно 2826 событий и 17 пользователей. Пользователи остались из всех экспериментальных групп.\n",
    "\n",
    "**Вывод**\n",
    "\n",
    "В логе 5 событий, самое распространенное - `MainScreenAppear`. Пользователей в логе 7551, в среднем на пользователя приходится 20 событий. В даннных максимальная дата - 7 августа 2019, минимальная - 25 июля 2019. До 1 августа данные не полные, их можно отбросить. Связано это с тем, что технически в логи новых дней по некоторым пользователям могут «доезжать» события из прошлого — это может «перекашивать данные». Отбросив эти даты, было потеряно 2826 событий и 17 пользователей. Пользователи остались из всех экспериментальных групп."
   ]
  },
  {
   "cell_type": "markdown",
   "id": "34210a2d",
   "metadata": {},
   "source": [
    "## Шаг 4. Изучение воронки событий"
   ]
  },
  {
   "cell_type": "markdown",
   "id": "474f61f9",
   "metadata": {},
   "source": [
    "Посмотрим, какие события есть в логах и как часто они встречаются. "
   ]
  },
  {
   "cell_type": "code",
   "execution_count": 23,
   "id": "21cf6ff6",
   "metadata": {},
   "outputs": [
    {
     "data": {
      "text/plain": [
       "<Figure size 1080x288 with 0 Axes>"
      ]
     },
     "metadata": {},
     "output_type": "display_data"
    },
    {
     "data": {
      "image/png": "[encoded data removed]",
      "text/plain": [
       "<Figure size 1080x288 with 1 Axes>"
      ]
     },
     "metadata": {
      "needs_background": "light"
     },
     "output_type": "display_data"
    }
   ],
   "source": [
    "plt.figure(figsize=(15,4))\n",
    "\n",
    "data_demo = new_data.groupby('event_name')\\\n",
    "                     .agg(count=('exp_id','count'))\\\n",
    "                     .reset_index()\\\n",
    "                     .sort_values(by='count', ascending=False)\n",
    "\n",
    "plt.figure(figsize=(15,4))\n",
    "sns.barplot(data=data_demo, x='event_name', y='count')\n",
    "plt.title('Частота событий')\n",
    "plt.xlabel('События')\n",
    "plt.ylabel('Частота')\n",
    "plt.show()"
   ]
  },
  {
   "cell_type": "markdown",
   "id": "c4c2e153",
   "metadata": {},
   "source": [
    "Чаще всего производится действие `MainScreenAppear`.\n",
    "\n",
    "Посчитаем, сколько пользователей совершали каждое из этих событий и долю пользователей, которые хоть раз совершали событие."
   ]
  },
  {
   "cell_type": "code",
   "execution_count": 24,
   "id": "e22be036",
   "metadata": {
    "scrolled": true
   },
   "outputs": [
    {
     "data": {
      "text/html": [
       "<div>\n",
       "<style scoped>\n",
       "    .dataframe tbody tr th:only-of-type {\n",
       "        vertical-align: middle;\n",
       "    }\n",
       "\n",
       "    .dataframe tbody tr th {\n",
       "        vertical-align: top;\n",
       "    }\n",
       "\n",
       "    .dataframe thead th {\n",
       "        text-align: right;\n",
       "    }\n",
       "</style>\n",
       "<table border=\"1\" class=\"dataframe\">\n",
       "  <thead>\n",
       "    <tr style=\"text-align: right;\">\n",
       "      <th></th>\n",
       "      <th>users</th>\n",
       "      <th>fraction</th>\n",
       "    </tr>\n",
       "    <tr>\n",
       "      <th>event_name</th>\n",
       "      <th></th>\n",
       "      <th></th>\n",
       "    </tr>\n",
       "  </thead>\n",
       "  <tbody>\n",
       "    <tr>\n",
       "      <th>MainScreenAppear</th>\n",
       "      <td>7419</td>\n",
       "      <td>0.984736</td>\n",
       "    </tr>\n",
       "    <tr>\n",
       "      <th>OffersScreenAppear</th>\n",
       "      <td>4593</td>\n",
       "      <td>0.609636</td>\n",
       "    </tr>\n",
       "    <tr>\n",
       "      <th>CartScreenAppear</th>\n",
       "      <td>3734</td>\n",
       "      <td>0.495620</td>\n",
       "    </tr>\n",
       "    <tr>\n",
       "      <th>PaymentScreenSuccessful</th>\n",
       "      <td>3539</td>\n",
       "      <td>0.469737</td>\n",
       "    </tr>\n",
       "    <tr>\n",
       "      <th>Tutorial</th>\n",
       "      <td>840</td>\n",
       "      <td>0.111495</td>\n",
       "    </tr>\n",
       "  </tbody>\n",
       "</table>\n",
       "</div>"
      ],
      "text/plain": [
       "                         users  fraction\n",
       "event_name                              \n",
       "MainScreenAppear          7419  0.984736\n",
       "OffersScreenAppear        4593  0.609636\n",
       "CartScreenAppear          3734  0.495620\n",
       "PaymentScreenSuccessful   3539  0.469737\n",
       "Tutorial                   840  0.111495"
      ]
     },
     "execution_count": 24,
     "metadata": {},
     "output_type": "execute_result"
    }
   ],
   "source": [
    "sales_funnel = new_data.groupby('event_name').agg({'device_id_hash': 'nunique'}).sort_values(by='device_id_hash', ascending=False)\n",
    "sales_funnel.rename(columns={'device_id_hash': 'users'}, inplace=True)\n",
    "sales_funnel['fraction'] = sales_funnel['users'] / len(new_data['device_id_hash'].unique())\n",
    "sales_funnel"
   ]
  },
  {
   "cell_type": "markdown",
   "id": "e7e634c4",
   "metadata": {},
   "source": [
    "Из этой таблицы можно предположить, что воронка выстраивается так - `MainScreenAppear`, `OffersScreenAppear`, `CartScreenAppear`, `PaymentScreenSuccessful`. `Tutorial` в воронке будет лишним.\n",
    "\n",
    "По воронке событий посчитаем, какая доля пользователей проходит на следующий шаг воронки (от числа пользователей на предыдущем)."
   ]
  },
  {
   "cell_type": "code",
   "execution_count": 25,
   "id": "5b26476b",
   "metadata": {},
   "outputs": [
    {
     "data": {
      "text/html": [
       "<div>\n",
       "<style scoped>\n",
       "    .dataframe tbody tr th:only-of-type {\n",
       "        vertical-align: middle;\n",
       "    }\n",
       "\n",
       "    .dataframe tbody tr th {\n",
       "        vertical-align: top;\n",
       "    }\n",
       "\n",
       "    .dataframe thead th {\n",
       "        text-align: right;\n",
       "    }\n",
       "</style>\n",
       "<table border=\"1\" class=\"dataframe\">\n",
       "  <thead>\n",
       "    <tr style=\"text-align: right;\">\n",
       "      <th></th>\n",
       "      <th>users</th>\n",
       "      <th>fraction</th>\n",
       "    </tr>\n",
       "    <tr>\n",
       "      <th>event_name</th>\n",
       "      <th></th>\n",
       "      <th></th>\n",
       "    </tr>\n",
       "  </thead>\n",
       "  <tbody>\n",
       "    <tr>\n",
       "      <th>MainScreenAppear</th>\n",
       "      <td>7419</td>\n",
       "      <td>NaN</td>\n",
       "    </tr>\n",
       "    <tr>\n",
       "      <th>OffersScreenAppear</th>\n",
       "      <td>4593</td>\n",
       "      <td>0.619086</td>\n",
       "    </tr>\n",
       "    <tr>\n",
       "      <th>CartScreenAppear</th>\n",
       "      <td>3734</td>\n",
       "      <td>0.812976</td>\n",
       "    </tr>\n",
       "    <tr>\n",
       "      <th>PaymentScreenSuccessful</th>\n",
       "      <td>3539</td>\n",
       "      <td>0.947777</td>\n",
       "    </tr>\n",
       "    <tr>\n",
       "      <th>Tutorial</th>\n",
       "      <td>840</td>\n",
       "      <td>0.237355</td>\n",
       "    </tr>\n",
       "  </tbody>\n",
       "</table>\n",
       "</div>"
      ],
      "text/plain": [
       "                         users  fraction\n",
       "event_name                              \n",
       "MainScreenAppear          7419       NaN\n",
       "OffersScreenAppear        4593  0.619086\n",
       "CartScreenAppear          3734  0.812976\n",
       "PaymentScreenSuccessful   3539  0.947777\n",
       "Tutorial                   840  0.237355"
      ]
     },
     "execution_count": 25,
     "metadata": {},
     "output_type": "execute_result"
    }
   ],
   "source": [
    "sales_funnel['fraction'] = sales_funnel['users']/sales_funnel['users'].shift()\n",
    "sales_funnel"
   ]
  },
  {
   "cell_type": "markdown",
   "id": "3966240e",
   "metadata": {},
   "source": [
    "Больше всего пользователей теряется при переходе к шагу `OffersScreenAppear`. Больше половины! \n",
    "\n",
    "От первого события до оплаты доходит примерно 47%.\n",
    "\n",
    "**Вывод**\n",
    "\n",
    "Чаще всего производится действие `MainScreenAppear`. Воронка выстраивается так - `MainScreenAppear`, `OffersScreenAppear`, `CartScreenAppear`, `PaymentScreenSuccessful`. Больше всего пользователей теряется при переходе к шагу `OffersScreenAppear`. Больше половины! От первого события до оплаты доходит примерно 47%."
   ]
  },
  {
   "cell_type": "markdown",
   "id": "b39dc2a7",
   "metadata": {},
   "source": [
    "## Шаг 5. Изучение результатов эксперимента"
   ]
  },
  {
   "cell_type": "markdown",
   "id": "1f562206",
   "metadata": {},
   "source": [
    "Посмотрим, сколько пользователей в каждой экспериментальной группе"
   ]
  },
  {
   "cell_type": "code",
   "execution_count": 26,
   "id": "ac6848b1",
   "metadata": {},
   "outputs": [
    {
     "data": {
      "text/plain": [
       "248    84563\n",
       "246    79302\n",
       "247    77022\n",
       "Name: exp_id, dtype: int64"
      ]
     },
     "execution_count": 26,
     "metadata": {},
     "output_type": "execute_result"
    }
   ],
   "source": [
    "new_data['exp_id'].value_counts()"
   ]
  },
  {
   "cell_type": "markdown",
   "id": "23391902",
   "metadata": {},
   "source": [
    "В `246` группе 79302 пользователей, в `247` - 77022, в `248` - 84563. \n",
    "\n",
    "Есть 2 контрольные группы для А/А-эксперимента, чтобы проверить корректность всех механизмов и расчётов. Проверим, находят ли статистические критерии разницу между выборками `246` и `247`.\n"
   ]
  },
  {
   "cell_type": "code",
   "execution_count": 27,
   "id": "5932b75c",
   "metadata": {
    "scrolled": true
   },
   "outputs": [
    {
     "name": "stdout",
     "output_type": "stream",
     "text": [
      "p-значение:  [0.75705972]\n",
      "Не получилось отвергнуть нулевую гипотезу, нет оснований считать доли разными\n"
     ]
    }
   ],
   "source": [
    "exp_246 = new_data[new_data['exp_id'] == 246].groupby('event_name').agg({'device_id_hash': 'nunique'}).sort_values(by='device_id_hash', ascending=False)\n",
    "exp_247 = new_data[new_data['exp_id'] == 247].groupby('event_name').agg({'device_id_hash': 'nunique'}).sort_values(by='device_id_hash', ascending=False)\n",
    "exp_248 = new_data[new_data['exp_id'] == 248].groupby('event_name').agg({'device_id_hash': 'nunique'}).sort_values(by='device_id_hash', ascending=False)\n",
    "exp_246_247 = exp_246.add(exp_247).combine_first(exp_246).combine_first(exp_247)\n",
    "\n",
    "#для события MainScreenAppear\n",
    "successes1 = exp_246.loc['MainScreenAppear']\n",
    "successes2 = exp_247.loc['MainScreenAppear']\n",
    "trials1 = new_data[new_data['exp_id'] == 246]['device_id_hash'].nunique()\n",
    "trials2 = new_data[new_data['exp_id'] == 247]['device_id_hash'].nunique()\n",
    "\n",
    "def check_hypothesis(successes1, successes2, trials1, trials2, alpha=0.01):\n",
    "    # пропорция успехов в первой группе:\n",
    "    p1 = successes1/trials1\n",
    "\n",
    "    # пропорция успехов во второй группе:\n",
    "    p2 = successes2/trials2\n",
    "\n",
    "    # пропорция успехов в комбинированном датасете:\n",
    "    p_combined = (successes1 + successes2) / (trials1 + trials2)\n",
    "\n",
    "    # разница пропорций в датасетах\n",
    "    difference = p1 - p2\n",
    "    \n",
    "    # считаем статистику в ст.отклонениях стандартного нормального распределения\n",
    "    z_value = difference / math.sqrt(p_combined * (1 - p_combined) * (1/trials1 + 1/trials2))\n",
    "\n",
    "    # задаем стандартное нормальное распределение (среднее 0, ст.отклонение 1)\n",
    "    distr = stats.norm(0, 1) \n",
    "\n",
    "    p_value = (1 - distr.cdf(abs(z_value))) * 2\n",
    "\n",
    "    print('p-значение: ', p_value)\n",
    "\n",
    "    if (p_value < alpha):\n",
    "        print(\"Отвергаем нулевую гипотезу: между долями есть значимая разница\")\n",
    "    else:\n",
    "        print(\"Не получилось отвергнуть нулевую гипотезу, нет оснований считать доли разными\")  \n",
    "        \n",
    "check_hypothesis(successes1, successes2, trials1, trials2, alpha=0.01)"
   ]
  },
  {
   "cell_type": "code",
   "execution_count": 28,
   "id": "2d5be18e",
   "metadata": {},
   "outputs": [
    {
     "name": "stdout",
     "output_type": "stream",
     "text": [
      "p-значение:  [0.24809546]\n",
      "Не получилось отвергнуть нулевую гипотезу, нет оснований считать доли разными\n"
     ]
    }
   ],
   "source": [
    "#для события OffersScreenAppear\n",
    "successes1 = exp_246.loc['OffersScreenAppear']\n",
    "successes2 = exp_247.loc['OffersScreenAppear']\n",
    "\n",
    "check_hypothesis(successes1, successes2, trials1, trials2, alpha=0.01)"
   ]
  },
  {
   "cell_type": "code",
   "execution_count": 29,
   "id": "6170c899",
   "metadata": {},
   "outputs": [
    {
     "name": "stdout",
     "output_type": "stream",
     "text": [
      "p-значение:  [0.22883372]\n",
      "Не получилось отвергнуть нулевую гипотезу, нет оснований считать доли разными\n"
     ]
    }
   ],
   "source": [
    "#для события CartScreenAppear\n",
    "successes1 = exp_246.loc['CartScreenAppear']\n",
    "successes2 = exp_247.loc['CartScreenAppear']\n",
    "\n",
    "check_hypothesis(successes1, successes2, trials1, trials2, alpha=0.01)"
   ]
  },
  {
   "cell_type": "code",
   "execution_count": 30,
   "id": "6cffe12c",
   "metadata": {},
   "outputs": [
    {
     "name": "stdout",
     "output_type": "stream",
     "text": [
      "p-значение:  [0.11456679]\n",
      "Не получилось отвергнуть нулевую гипотезу, нет оснований считать доли разными\n"
     ]
    }
   ],
   "source": [
    "#для события PaymentScreenSuccessful\n",
    "successes1 = exp_246.loc['PaymentScreenSuccessful']\n",
    "successes2 = exp_247.loc['PaymentScreenSuccessful']\n",
    "\n",
    "check_hypothesis(successes1, successes2, trials1, trials2, alpha=0.01)"
   ]
  },
  {
   "cell_type": "markdown",
   "id": "38f6f59e",
   "metadata": {},
   "source": [
    "Не получилось отвергнуть нулевую гипотезу, нет оснований считать доли разными. Следовательно, статистической разницы между группами 246 и 247 нет."
   ]
  },
  {
   "cell_type": "markdown",
   "id": "d3e2aae9",
   "metadata": {},
   "source": [
    "Аналогично проверим группы 246 и 248."
   ]
  },
  {
   "cell_type": "code",
   "execution_count": 31,
   "id": "c8fbb412",
   "metadata": {},
   "outputs": [
    {
     "name": "stdout",
     "output_type": "stream",
     "text": [
      "p-значение:  [0.29497219]\n",
      "Не получилось отвергнуть нулевую гипотезу, нет оснований считать доли разными\n"
     ]
    }
   ],
   "source": [
    "#для события MainScreenAppear\n",
    "successes1 = exp_246.loc['MainScreenAppear']\n",
    "successes2 = exp_248.loc['MainScreenAppear']\n",
    "trials1 = new_data[new_data['exp_id'] == 246]['device_id_hash'].nunique()\n",
    "trials2 = new_data[new_data['exp_id'] == 248]['device_id_hash'].nunique()\n",
    "        \n",
    "check_hypothesis(successes1, successes2, trials1, trials2, alpha=0.01)"
   ]
  },
  {
   "cell_type": "code",
   "execution_count": 32,
   "id": "5e908fbf",
   "metadata": {},
   "outputs": [
    {
     "name": "stdout",
     "output_type": "stream",
     "text": [
      "p-значение:  [0.20836205]\n",
      "Не получилось отвергнуть нулевую гипотезу, нет оснований считать доли разными\n"
     ]
    }
   ],
   "source": [
    "#для события OffersScreenAppear\n",
    "successes1 = exp_246.loc['OffersScreenAppear']\n",
    "successes2 = exp_248.loc['OffersScreenAppear']\n",
    "\n",
    "check_hypothesis(successes1, successes2, trials1, trials2, alpha=0.01)"
   ]
  },
  {
   "cell_type": "code",
   "execution_count": 33,
   "id": "5f3e991c",
   "metadata": {},
   "outputs": [
    {
     "name": "stdout",
     "output_type": "stream",
     "text": [
      "p-значение:  [0.07842923]\n",
      "Не получилось отвергнуть нулевую гипотезу, нет оснований считать доли разными\n"
     ]
    }
   ],
   "source": [
    "#для события CartScreenAppear\n",
    "successes1 = exp_246.loc['CartScreenAppear']\n",
    "successes2 = exp_248.loc['CartScreenAppear']\n",
    "\n",
    "check_hypothesis(successes1, successes2, trials1, trials2, alpha=0.01)"
   ]
  },
  {
   "cell_type": "code",
   "execution_count": 34,
   "id": "4f6149fd",
   "metadata": {},
   "outputs": [
    {
     "name": "stdout",
     "output_type": "stream",
     "text": [
      "p-значение:  [0.21225533]\n",
      "Не получилось отвергнуть нулевую гипотезу, нет оснований считать доли разными\n"
     ]
    }
   ],
   "source": [
    "#для события PaymentScreenSuccessful\n",
    "successes1 = exp_246.loc['PaymentScreenSuccessful']\n",
    "successes2 = exp_248.loc['PaymentScreenSuccessful']\n",
    "\n",
    "check_hypothesis(successes1, successes2, trials1, trials2, alpha=0.01)"
   ]
  },
  {
   "cell_type": "markdown",
   "id": "cbd696fc",
   "metadata": {},
   "source": [
    "Статистической разницы нет. Контрольные группы 246 и 248 можно считать идентичными. Далее проверим 247 и 248."
   ]
  },
  {
   "cell_type": "code",
   "execution_count": 35,
   "id": "dab03e2b",
   "metadata": {},
   "outputs": [
    {
     "name": "stdout",
     "output_type": "stream",
     "text": [
      "p-значение:  [0.45870536]\n",
      "Не получилось отвергнуть нулевую гипотезу, нет оснований считать доли разными\n"
     ]
    }
   ],
   "source": [
    "#для события MainScreenAppear\n",
    "successes1 = exp_247.loc['MainScreenAppear']\n",
    "successes2 = exp_248.loc['MainScreenAppear']\n",
    "trials1 = new_data[new_data['exp_id'] == 247]['device_id_hash'].nunique()\n",
    "trials2 = new_data[new_data['exp_id'] == 248]['device_id_hash'].nunique()\n",
    "        \n",
    "check_hypothesis(successes1, successes2, trials1, trials2, alpha=0.01)"
   ]
  },
  {
   "cell_type": "code",
   "execution_count": 36,
   "id": "a8d969ae",
   "metadata": {},
   "outputs": [
    {
     "name": "stdout",
     "output_type": "stream",
     "text": [
      "p-значение:  [0.91978178]\n",
      "Не получилось отвергнуть нулевую гипотезу, нет оснований считать доли разными\n"
     ]
    }
   ],
   "source": [
    "#для события OffersScreenAppear\n",
    "successes1 = exp_247.loc['OffersScreenAppear']\n",
    "successes2 = exp_248.loc['OffersScreenAppear']\n",
    "\n",
    "check_hypothesis(successes1, successes2, trials1, trials2, alpha=0.01)"
   ]
  },
  {
   "cell_type": "code",
   "execution_count": 37,
   "id": "4dc9d2fd",
   "metadata": {},
   "outputs": [
    {
     "name": "stdout",
     "output_type": "stream",
     "text": [
      "p-значение:  [0.57861979]\n",
      "Не получилось отвергнуть нулевую гипотезу, нет оснований считать доли разными\n"
     ]
    }
   ],
   "source": [
    "#для события CartScreenAppear\n",
    "successes1 = exp_247.loc['CartScreenAppear']\n",
    "successes2 = exp_248.loc['CartScreenAppear']\n",
    "\n",
    "check_hypothesis(successes1, successes2, trials1, trials2, alpha=0.01)"
   ]
  },
  {
   "cell_type": "code",
   "execution_count": 38,
   "id": "1c59822c",
   "metadata": {},
   "outputs": [
    {
     "name": "stdout",
     "output_type": "stream",
     "text": [
      "p-значение:  [0.73734151]\n",
      "Не получилось отвергнуть нулевую гипотезу, нет оснований считать доли разными\n"
     ]
    }
   ],
   "source": [
    "#для события PaymentScreenSuccessful\n",
    "successes1 = exp_247.loc['PaymentScreenSuccessful']\n",
    "successes2 = exp_248.loc['PaymentScreenSuccessful']\n",
    "\n",
    "check_hypothesis(successes1, successes2, trials1, trials2, alpha=0.01)"
   ]
  },
  {
   "cell_type": "markdown",
   "id": "aab9ef93",
   "metadata": {},
   "source": [
    "Статистической разницы нет. Контрольные группы 247 и 248 можно считать идентичными. \n",
    "\n",
    "Также проверим объединенную группу (246 и 247) и 248."
   ]
  },
  {
   "cell_type": "code",
   "execution_count": 39,
   "id": "58effe2e",
   "metadata": {
    "scrolled": true
   },
   "outputs": [
    {
     "name": "stdout",
     "output_type": "stream",
     "text": [
      "p-значение:  [0.29424527]\n",
      "Не получилось отвергнуть нулевую гипотезу, нет оснований считать доли разными\n"
     ]
    }
   ],
   "source": [
    "#для события MainScreenAppear\n",
    "successes1 = exp_246_247.loc['MainScreenAppear']\n",
    "successes2 = exp_248.loc['MainScreenAppear']\n",
    "trials1 = new_data.query('exp_id == (246, 247)')\n",
    "trials1  = trials1['device_id_hash'].nunique()\n",
    "trials2 = new_data[new_data['exp_id'] == 248]['device_id_hash'].nunique()\n",
    "        \n",
    "check_hypothesis(successes1, successes2, trials1, trials2, alpha=0.01)"
   ]
  },
  {
   "cell_type": "code",
   "execution_count": 40,
   "id": "de0926fb",
   "metadata": {},
   "outputs": [
    {
     "name": "stdout",
     "output_type": "stream",
     "text": [
      "p-значение:  [0.4342555]\n",
      "Не получилось отвергнуть нулевую гипотезу, нет оснований считать доли разными\n"
     ]
    }
   ],
   "source": [
    "#для события OffersScreenAppear\n",
    "successes1 = exp_246_247.loc['OffersScreenAppear']\n",
    "successes2 = exp_248.loc['OffersScreenAppear']\n",
    "\n",
    "check_hypothesis(successes1, successes2, trials1, trials2, alpha=0.01)"
   ]
  },
  {
   "cell_type": "code",
   "execution_count": 41,
   "id": "bf2cf3e5",
   "metadata": {},
   "outputs": [
    {
     "name": "stdout",
     "output_type": "stream",
     "text": [
      "p-значение:  [0.18175875]\n",
      "Не получилось отвергнуть нулевую гипотезу, нет оснований считать доли разными\n"
     ]
    }
   ],
   "source": [
    "#для события CartScreenAppear\n",
    "successes1 = exp_246_247.loc['CartScreenAppear']\n",
    "successes2 = exp_248.loc['CartScreenAppear']\n",
    "\n",
    "check_hypothesis(successes1, successes2, trials1, trials2, alpha=0.01)"
   ]
  },
  {
   "cell_type": "code",
   "execution_count": 42,
   "id": "4a40dab2",
   "metadata": {},
   "outputs": [
    {
     "name": "stdout",
     "output_type": "stream",
     "text": [
      "p-значение:  [0.60042943]\n",
      "Не получилось отвергнуть нулевую гипотезу, нет оснований считать доли разными\n"
     ]
    }
   ],
   "source": [
    "#для события PaymentScreenSuccessful\n",
    "successes1 = exp_246_247.loc['PaymentScreenSuccessful']\n",
    "successes2 = exp_248.loc['PaymentScreenSuccessful']\n",
    "\n",
    "check_hypothesis(successes1, successes2, trials1, trials2, alpha=0.01)"
   ]
  },
  {
   "cell_type": "markdown",
   "id": "3d98f9de",
   "metadata": {},
   "source": [
    "Все события не являются разными. Из этого можно сделать вывод, что после изменения шрифта воронка событий осталась прежней.\n",
    "\n",
    "Уровень значимости был выбран 0.01 для всех тестов. Следовательно, каждый десятый раз можно получать ложный результат. \n",
    "\n",
    "**Вывод**\n",
    "В `246` группе 79302 пользователей, в `247` - 77022, в `248` - 84563. Cтатистической разницы между контрольными группами нет. Также, нет статистической разницы между контрольной группой и эксперименатальной. Из этого можно сделать вывод, что после изменения шрифта воронка событий осталась прежней. \n",
    "Уровень значимости был выбран 0.01 для всех тестов. Следовательно, каждый десятый раз можно получать ложный результат."
   ]
  },
  {
   "cell_type": "markdown",
   "id": "ae2b1d74",
   "metadata": {},
   "source": [
    "## Общий вывод"
   ]
  },
  {
   "cell_type": "markdown",
   "id": "37e070c9",
   "metadata": {},
   "source": [
    "Для анализа предлагался стартап, который продаёт продукты питания. Цель исследования - разобраться, как ведут себя пользователи мобильного приложения.\n",
    "\n",
    "На этапе предобработки были исправлены следующие ошибки: стили заголовков; неверные типы данных; явные дубликаты.\n",
    "\n",
    "В логе 5 событий, самое распространенное - `MainScreenAppear`. Пользователей в логе 7551, в среднем на пользователя приходится 20 событий. В даннных максимальная дата - 7 августа 2019, минимальная - 25 июля 2019. До 1 августа данные не полные, их можно отбросить. Связано это с тем, что технически в логи новых дней по некоторым пользователям могут «доезжать» события из прошлого — это может «перекашивать данные». Отбросив эти даты, было потеряно 2826 событий и 17 пользователей. Пользователи остались из всех экспериментальных групп.\n",
    "\n",
    "Воронка выстраивается так - `MainScreenAppear`, `OffersScreenAppear`, `CartScreenAppear`, `PaymentScreenSuccessful`. Больше всего пользователей теряется при переходе к шагу `OffersScreenAppear`. Больше половины! От первого события до оплаты доходит примерно 47%.\n",
    "\n",
    "В `246` группе 79302 пользователей, в `247` - 77022, в `248` - 84563. Cтатистической разницы между контрольными группами нет. Также, нет статистической разницы между контрольной группой и эксперименатальной. Из этого можно сделать вывод, что после изменения шрифта воронка событий осталась прежней. \n",
    "Уровень значимости был выбран 0.01 для всех тестов. Следовательно, каждый десятый раз можно получать ложный результат."
   ]
  }
 ],
 "metadata": {
  "ExecuteTimeLog": [
   {
    "duration": 1554,
    "start_time": "2022-06-06T18:43:26.763Z"
   },
   {
    "duration": 726,
    "start_time": "2022-06-06T18:43:28.326Z"
   },
   {
    "duration": 29,
    "start_time": "2022-06-06T18:43:29.058Z"
   },
   {
    "duration": 52,
    "start_time": "2022-06-06T18:43:29.090Z"
   },
   {
    "duration": 225,
    "start_time": "2022-06-06T18:43:29.145Z"
   },
   {
    "duration": 53,
    "start_time": "2022-06-06T18:43:29.372Z"
   },
   {
    "duration": 75,
    "start_time": "2022-06-06T18:43:29.427Z"
   },
   {
    "duration": 72,
    "start_time": "2022-06-06T18:43:29.505Z"
   },
   {
    "duration": 69,
    "start_time": "2022-06-06T18:43:29.583Z"
   },
   {
    "duration": 54,
    "start_time": "2022-06-06T18:43:29.658Z"
   },
   {
    "duration": 79,
    "start_time": "2022-06-06T18:43:29.716Z"
   },
   {
    "duration": 425,
    "start_time": "2022-06-06T18:43:29.800Z"
   },
   {
    "duration": 96,
    "start_time": "2022-06-06T18:43:30.227Z"
   },
   {
    "duration": 8,
    "start_time": "2022-06-06T18:43:30.326Z"
   },
   {
    "duration": 66,
    "start_time": "2022-06-06T18:43:30.335Z"
   },
   {
    "duration": 435,
    "start_time": "2022-06-06T18:43:30.404Z"
   },
   {
    "duration": 88,
    "start_time": "2022-06-06T18:43:30.846Z"
   },
   {
    "duration": 247,
    "start_time": "2022-06-06T18:43:30.941Z"
   },
   {
    "duration": 0,
    "start_time": "2022-06-06T18:43:31.195Z"
   },
   {
    "duration": 0,
    "start_time": "2022-06-06T18:43:31.201Z"
   },
   {
    "duration": 0,
    "start_time": "2022-06-06T18:43:31.206Z"
   },
   {
    "duration": 0,
    "start_time": "2022-06-06T18:43:31.212Z"
   },
   {
    "duration": 0,
    "start_time": "2022-06-06T18:43:31.222Z"
   },
   {
    "duration": 11,
    "start_time": "2022-06-06T18:44:32.503Z"
   },
   {
    "duration": 6,
    "start_time": "2022-06-06T18:44:52.402Z"
   },
   {
    "duration": 11,
    "start_time": "2022-06-06T18:45:19.698Z"
   },
   {
    "duration": 81,
    "start_time": "2022-06-06T18:45:19.711Z"
   },
   {
    "duration": 0,
    "start_time": "2022-06-06T18:45:19.794Z"
   },
   {
    "duration": 0,
    "start_time": "2022-06-06T18:45:19.796Z"
   },
   {
    "duration": 0,
    "start_time": "2022-06-06T18:45:19.797Z"
   },
   {
    "duration": 17,
    "start_time": "2022-06-06T18:51:21.746Z"
   },
   {
    "duration": 24,
    "start_time": "2022-06-06T18:54:01.236Z"
   },
   {
    "duration": 879,
    "start_time": "2022-06-06T18:54:07.271Z"
   },
   {
    "duration": 1361,
    "start_time": "2022-06-10T15:55:27.663Z"
   },
   {
    "duration": 1047,
    "start_time": "2022-06-10T15:55:29.026Z"
   },
   {
    "duration": 17,
    "start_time": "2022-06-10T15:55:30.083Z"
   },
   {
    "duration": 49,
    "start_time": "2022-06-10T15:55:30.105Z"
   },
   {
    "duration": 130,
    "start_time": "2022-06-10T15:55:30.156Z"
   },
   {
    "duration": 4,
    "start_time": "2022-06-10T15:55:30.288Z"
   },
   {
    "duration": 36,
    "start_time": "2022-06-10T15:55:30.293Z"
   },
   {
    "duration": 151,
    "start_time": "2022-06-10T15:55:30.330Z"
   },
   {
    "duration": 182,
    "start_time": "2022-06-10T15:55:30.489Z"
   },
   {
    "duration": 112,
    "start_time": "2022-06-10T15:55:30.674Z"
   },
   {
    "duration": 29,
    "start_time": "2022-06-10T15:55:30.788Z"
   },
   {
    "duration": 52,
    "start_time": "2022-06-10T15:55:30.821Z"
   },
   {
    "duration": 42,
    "start_time": "2022-06-10T15:55:30.877Z"
   },
   {
    "duration": 25,
    "start_time": "2022-06-10T15:55:30.921Z"
   },
   {
    "duration": 38,
    "start_time": "2022-06-10T15:55:30.948Z"
   },
   {
    "duration": 52,
    "start_time": "2022-06-10T15:55:30.988Z"
   },
   {
    "duration": 50,
    "start_time": "2022-06-10T15:55:31.042Z"
   },
   {
    "duration": 612,
    "start_time": "2022-06-10T15:55:31.093Z"
   },
   {
    "duration": 66,
    "start_time": "2022-06-10T15:55:31.707Z"
   },
   {
    "duration": 40,
    "start_time": "2022-06-10T15:55:31.778Z"
   },
   {
    "duration": 235,
    "start_time": "2022-06-10T15:55:31.819Z"
   },
   {
    "duration": 78,
    "start_time": "2022-06-10T15:55:32.066Z"
   },
   {
    "duration": 20,
    "start_time": "2022-06-10T15:55:32.146Z"
   },
   {
    "duration": 21,
    "start_time": "2022-06-10T15:55:32.174Z"
   },
   {
    "duration": 96,
    "start_time": "2022-06-10T15:55:32.198Z"
   },
   {
    "duration": 1268,
    "start_time": "2022-06-12T07:37:12.475Z"
   },
   {
    "duration": 504,
    "start_time": "2022-06-12T07:37:13.745Z"
   },
   {
    "duration": 12,
    "start_time": "2022-06-12T07:37:14.251Z"
   },
   {
    "duration": 22,
    "start_time": "2022-06-12T07:37:14.265Z"
   },
   {
    "duration": 93,
    "start_time": "2022-06-12T07:37:14.289Z"
   },
   {
    "duration": 5,
    "start_time": "2022-06-12T07:37:14.384Z"
   },
   {
    "duration": 16,
    "start_time": "2022-06-12T07:37:14.390Z"
   },
   {
    "duration": 109,
    "start_time": "2022-06-12T07:37:14.408Z"
   },
   {
    "duration": 136,
    "start_time": "2022-06-12T07:37:14.519Z"
   },
   {
    "duration": 79,
    "start_time": "2022-06-12T07:37:14.657Z"
   },
   {
    "duration": 27,
    "start_time": "2022-06-12T07:37:14.738Z"
   },
   {
    "duration": 30,
    "start_time": "2022-06-12T07:37:14.767Z"
   },
   {
    "duration": 33,
    "start_time": "2022-06-12T07:37:14.799Z"
   },
   {
    "duration": 31,
    "start_time": "2022-06-12T07:37:14.834Z"
   },
   {
    "duration": 23,
    "start_time": "2022-06-12T07:37:14.866Z"
   },
   {
    "duration": 28,
    "start_time": "2022-06-12T07:37:14.891Z"
   },
   {
    "duration": 49,
    "start_time": "2022-06-12T07:37:14.921Z"
   },
   {
    "duration": 517,
    "start_time": "2022-06-12T07:37:14.971Z"
   },
   {
    "duration": 47,
    "start_time": "2022-06-12T07:37:15.490Z"
   },
   {
    "duration": 4,
    "start_time": "2022-06-12T07:37:15.539Z"
   },
   {
    "duration": 25,
    "start_time": "2022-06-12T07:37:15.544Z"
   },
   {
    "duration": 24,
    "start_time": "2022-06-12T07:37:15.571Z"
   },
   {
    "duration": 189,
    "start_time": "2022-06-12T07:37:15.596Z"
   },
   {
    "duration": 59,
    "start_time": "2022-06-12T07:37:15.787Z"
   },
   {
    "duration": 19,
    "start_time": "2022-06-12T07:37:15.847Z"
   },
   {
    "duration": 23,
    "start_time": "2022-06-12T07:37:15.868Z"
   },
   {
    "duration": 37,
    "start_time": "2022-06-12T07:37:15.893Z"
   },
   {
    "duration": 166,
    "start_time": "2022-06-12T07:37:15.933Z"
   },
   {
    "duration": 7,
    "start_time": "2022-06-12T07:39:48.750Z"
   },
   {
    "duration": 499,
    "start_time": "2022-06-12T07:40:13.948Z"
   },
   {
    "duration": 10,
    "start_time": "2022-06-12T07:40:23.863Z"
   },
   {
    "duration": 8,
    "start_time": "2022-06-12T07:40:30.328Z"
   },
   {
    "duration": 412,
    "start_time": "2022-06-12T07:40:39.845Z"
   },
   {
    "duration": 19,
    "start_time": "2022-06-12T07:41:05.405Z"
   },
   {
    "duration": 4,
    "start_time": "2022-06-12T07:41:46.971Z"
   },
   {
    "duration": 5,
    "start_time": "2022-06-12T07:42:07.862Z"
   },
   {
    "duration": 14,
    "start_time": "2022-06-12T07:43:28.478Z"
   },
   {
    "duration": 29,
    "start_time": "2022-06-12T07:43:39.226Z"
   },
   {
    "duration": 10,
    "start_time": "2022-06-12T07:43:56.083Z"
   },
   {
    "duration": 29,
    "start_time": "2022-06-12T07:44:48.556Z"
   },
   {
    "duration": 27,
    "start_time": "2022-06-12T07:45:02.510Z"
   },
   {
    "duration": 21,
    "start_time": "2022-06-12T07:45:17.912Z"
   },
   {
    "duration": 1106,
    "start_time": "2022-06-13T18:06:28.193Z"
   },
   {
    "duration": 659,
    "start_time": "2022-06-13T18:06:29.301Z"
   },
   {
    "duration": 10,
    "start_time": "2022-06-13T18:06:29.961Z"
   },
   {
    "duration": 16,
    "start_time": "2022-06-13T18:06:29.973Z"
   },
   {
    "duration": 76,
    "start_time": "2022-06-13T18:06:29.991Z"
   },
   {
    "duration": 4,
    "start_time": "2022-06-13T18:06:30.069Z"
   },
   {
    "duration": 21,
    "start_time": "2022-06-13T18:06:30.074Z"
   },
   {
    "duration": 97,
    "start_time": "2022-06-13T18:06:30.097Z"
   },
   {
    "duration": 110,
    "start_time": "2022-06-13T18:06:30.196Z"
   },
   {
    "duration": 72,
    "start_time": "2022-06-13T18:06:30.309Z"
   },
   {
    "duration": 28,
    "start_time": "2022-06-13T18:06:30.382Z"
   },
   {
    "duration": 23,
    "start_time": "2022-06-13T18:06:30.412Z"
   },
   {
    "duration": 19,
    "start_time": "2022-06-13T18:06:30.437Z"
   },
   {
    "duration": 11,
    "start_time": "2022-06-13T18:06:30.457Z"
   },
   {
    "duration": 18,
    "start_time": "2022-06-13T18:06:30.495Z"
   },
   {
    "duration": 12,
    "start_time": "2022-06-13T18:06:30.514Z"
   },
   {
    "duration": 14,
    "start_time": "2022-06-13T18:06:30.527Z"
   },
   {
    "duration": 403,
    "start_time": "2022-06-13T18:06:30.543Z"
   },
   {
    "duration": 56,
    "start_time": "2022-06-13T18:06:30.948Z"
   },
   {
    "duration": 4,
    "start_time": "2022-06-13T18:06:31.005Z"
   },
   {
    "duration": 16,
    "start_time": "2022-06-13T18:06:31.011Z"
   },
   {
    "duration": 9,
    "start_time": "2022-06-13T18:06:31.028Z"
   },
   {
    "duration": 156,
    "start_time": "2022-06-13T18:06:31.038Z"
   },
   {
    "duration": 51,
    "start_time": "2022-06-13T18:06:31.196Z"
   },
   {
    "duration": 7,
    "start_time": "2022-06-13T18:06:31.248Z"
   },
   {
    "duration": 11,
    "start_time": "2022-06-13T18:06:31.256Z"
   },
   {
    "duration": 77,
    "start_time": "2022-06-13T18:06:31.269Z"
   },
   {
    "duration": 19,
    "start_time": "2022-06-13T18:06:31.349Z"
   },
   {
    "duration": 52,
    "start_time": "2022-06-13T18:06:31.370Z"
   },
   {
    "duration": 8,
    "start_time": "2022-06-13T18:06:31.424Z"
   },
   {
    "duration": 12,
    "start_time": "2022-06-13T18:06:31.434Z"
   },
   {
    "duration": 13,
    "start_time": "2022-06-13T18:06:31.447Z"
   },
   {
    "duration": 12,
    "start_time": "2022-06-13T18:06:31.462Z"
   },
   {
    "duration": 1044,
    "start_time": "2022-06-15T08:50:17.344Z"
   },
   {
    "duration": 687,
    "start_time": "2022-06-15T08:50:18.390Z"
   },
   {
    "duration": 10,
    "start_time": "2022-06-15T08:50:19.079Z"
   },
   {
    "duration": 16,
    "start_time": "2022-06-15T08:50:19.091Z"
   },
   {
    "duration": 84,
    "start_time": "2022-06-15T08:50:19.108Z"
   },
   {
    "duration": 4,
    "start_time": "2022-06-15T08:50:19.193Z"
   },
   {
    "duration": 13,
    "start_time": "2022-06-15T08:50:19.198Z"
   },
   {
    "duration": 90,
    "start_time": "2022-06-15T08:50:19.213Z"
   },
   {
    "duration": 100,
    "start_time": "2022-06-15T08:50:19.304Z"
   },
   {
    "duration": 63,
    "start_time": "2022-06-15T08:50:19.406Z"
   },
   {
    "duration": 22,
    "start_time": "2022-06-15T08:50:19.471Z"
   },
   {
    "duration": 21,
    "start_time": "2022-06-15T08:50:19.494Z"
   },
   {
    "duration": 16,
    "start_time": "2022-06-15T08:50:19.516Z"
   },
   {
    "duration": 8,
    "start_time": "2022-06-15T08:50:19.534Z"
   },
   {
    "duration": 22,
    "start_time": "2022-06-15T08:50:19.544Z"
   },
   {
    "duration": 31,
    "start_time": "2022-06-15T08:50:19.568Z"
   },
   {
    "duration": 14,
    "start_time": "2022-06-15T08:50:19.600Z"
   },
   {
    "duration": 396,
    "start_time": "2022-06-15T08:50:19.615Z"
   },
   {
    "duration": 47,
    "start_time": "2022-06-15T08:50:20.012Z"
   },
   {
    "duration": 4,
    "start_time": "2022-06-15T08:50:20.061Z"
   },
   {
    "duration": 12,
    "start_time": "2022-06-15T08:50:20.067Z"
   },
   {
    "duration": 5,
    "start_time": "2022-06-15T08:50:20.092Z"
   },
   {
    "duration": 168,
    "start_time": "2022-06-15T08:50:20.098Z"
   },
   {
    "duration": 56,
    "start_time": "2022-06-15T08:50:20.268Z"
   },
   {
    "duration": 6,
    "start_time": "2022-06-15T08:50:20.325Z"
   },
   {
    "duration": 7,
    "start_time": "2022-06-15T08:50:20.333Z"
   },
   {
    "duration": 97,
    "start_time": "2022-06-15T08:50:20.341Z"
   },
   {
    "duration": 16,
    "start_time": "2022-06-15T08:50:20.440Z"
   },
   {
    "duration": 15,
    "start_time": "2022-06-15T08:50:20.457Z"
   },
   {
    "duration": 16,
    "start_time": "2022-06-15T08:50:20.492Z"
   },
   {
    "duration": 122,
    "start_time": "2022-06-15T08:50:20.509Z"
   },
   {
    "duration": 0,
    "start_time": "2022-06-15T08:50:20.632Z"
   },
   {
    "duration": 0,
    "start_time": "2022-06-15T08:50:20.633Z"
   },
   {
    "duration": 0,
    "start_time": "2022-06-15T08:50:20.634Z"
   },
   {
    "duration": 0,
    "start_time": "2022-06-15T08:50:20.635Z"
   },
   {
    "duration": 25,
    "start_time": "2022-06-15T08:50:57.426Z"
   },
   {
    "duration": 5,
    "start_time": "2022-06-15T08:51:04.912Z"
   },
   {
    "duration": 1150,
    "start_time": "2022-06-16T14:04:46.993Z"
   },
   {
    "duration": 628,
    "start_time": "2022-06-16T14:04:48.145Z"
   },
   {
    "duration": 11,
    "start_time": "2022-06-16T14:04:48.774Z"
   },
   {
    "duration": 17,
    "start_time": "2022-06-16T14:04:48.787Z"
   },
   {
    "duration": 76,
    "start_time": "2022-06-16T14:04:48.806Z"
   },
   {
    "duration": 12,
    "start_time": "2022-06-16T14:04:48.883Z"
   },
   {
    "duration": 14,
    "start_time": "2022-06-16T14:04:48.897Z"
   },
   {
    "duration": 90,
    "start_time": "2022-06-16T14:04:48.913Z"
   },
   {
    "duration": 106,
    "start_time": "2022-06-16T14:04:49.005Z"
   },
   {
    "duration": 68,
    "start_time": "2022-06-16T14:04:49.113Z"
   },
   {
    "duration": 16,
    "start_time": "2022-06-16T14:04:49.194Z"
   },
   {
    "duration": 22,
    "start_time": "2022-06-16T14:04:49.211Z"
   },
   {
    "duration": 18,
    "start_time": "2022-06-16T14:04:49.235Z"
   },
   {
    "duration": 17,
    "start_time": "2022-06-16T14:04:49.255Z"
   },
   {
    "duration": 35,
    "start_time": "2022-06-16T14:04:49.274Z"
   },
   {
    "duration": 12,
    "start_time": "2022-06-16T14:04:49.311Z"
   },
   {
    "duration": 29,
    "start_time": "2022-06-16T14:04:49.324Z"
   },
   {
    "duration": 403,
    "start_time": "2022-06-16T14:04:49.355Z"
   },
   {
    "duration": 54,
    "start_time": "2022-06-16T14:04:49.760Z"
   },
   {
    "duration": 4,
    "start_time": "2022-06-16T14:04:49.815Z"
   },
   {
    "duration": 24,
    "start_time": "2022-06-16T14:04:49.820Z"
   },
   {
    "duration": 16,
    "start_time": "2022-06-16T14:04:49.845Z"
   },
   {
    "duration": 166,
    "start_time": "2022-06-16T14:04:49.862Z"
   },
   {
    "duration": 63,
    "start_time": "2022-06-16T14:04:50.030Z"
   },
   {
    "duration": 7,
    "start_time": "2022-06-16T14:04:50.095Z"
   },
   {
    "duration": 23,
    "start_time": "2022-06-16T14:04:50.103Z"
   },
   {
    "duration": 84,
    "start_time": "2022-06-16T14:04:50.128Z"
   },
   {
    "duration": 16,
    "start_time": "2022-06-16T14:04:50.215Z"
   },
   {
    "duration": 16,
    "start_time": "2022-06-16T14:04:50.232Z"
   },
   {
    "duration": 16,
    "start_time": "2022-06-16T14:04:50.249Z"
   },
   {
    "duration": 47,
    "start_time": "2022-06-16T14:04:50.266Z"
   },
   {
    "duration": 6,
    "start_time": "2022-06-16T14:04:50.315Z"
   },
   {
    "duration": 8,
    "start_time": "2022-06-16T14:04:50.323Z"
   },
   {
    "duration": 9,
    "start_time": "2022-06-16T14:04:50.332Z"
   },
   {
    "duration": 16,
    "start_time": "2022-06-16T14:04:50.342Z"
   }
  ],
  "kernelspec": {
   "display_name": "Python 3 (ipykernel)",
   "language": "python",
   "name": "python3"
  },
  "language_info": {
   "codemirror_mode": {
    "name": "ipython",
    "version": 3
   },
   "file_extension": ".py",
   "mimetype": "text/x-python",
   "name": "python",
   "nbconvert_exporter": "python",
   "pygments_lexer": "ipython3",
   "version": "3.9.12"
  },
  "toc": {
   "base_numbering": 1,
   "nav_menu": {},
   "number_sections": false,
   "sideBar": true,
   "skip_h1_title": false,
   "title_cell": "Table of Contents",
   "title_sidebar": "Contents",
   "toc_cell": false,
   "toc_position": {},
   "toc_section_display": true,
   "toc_window_display": true
  }
 },
 "nbformat": 4,
 "nbformat_minor": 5
}
